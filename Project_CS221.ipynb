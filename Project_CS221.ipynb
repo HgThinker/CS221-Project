{
  "nbformat": 4,
  "nbformat_minor": 0,
  "metadata": {
    "colab": {
      "provenance": []
    },
    "kernelspec": {
      "name": "python3",
      "display_name": "Python 3"
    },
    "language_info": {
      "name": "python"
    }
  },
  "cells": [
    {
      "cell_type": "code",
      "source": [
        "# import os,shutil\n",
        "# shutil.rmtree(\"CS221-Project\")"
      ],
      "metadata": {
        "id": "snNEpUyJb8r5"
      },
      "execution_count": null,
      "outputs": []
    },
    {
      "cell_type": "markdown",
      "source": [
        "# 1. Import thư viện cần thiết\n"
      ],
      "metadata": {
        "id": "w9fqXAmaNOrb"
      }
    },
    {
      "cell_type": "code",
      "source": [
        "from google.colab import drive\n",
        "drive.mount('/content/drive')"
      ],
      "metadata": {
        "id": "NDfBY2DzNclz",
        "colab": {
          "base_uri": "https://localhost:8080/"
        },
        "outputId": "52122444-4bce-4a2f-cc3b-3a3d9e411740"
      },
      "execution_count": null,
      "outputs": [
        {
          "output_type": "stream",
          "name": "stdout",
          "text": [
            "Drive already mounted at /content/drive; to attempt to forcibly remount, call drive.mount(\"/content/drive\", force_remount=True).\n"
          ]
        }
      ]
    },
    {
      "cell_type": "code",
      "source": [
        "from collections import defaultdict\n",
        "import unicodedata as ud\n",
        "import pandas as pd\n",
        "import numpy as np\n",
        "import math\n",
        "import ast\n",
        "import re\n",
        "import nltk\n",
        "nltk.download('all')\n"
      ],
      "metadata": {
        "colab": {
          "base_uri": "https://localhost:8080/"
        },
        "id": "riivr6O4NUDC",
        "outputId": "33ab5e20-725c-4691-f016-ed7ba9b60b05"
      },
      "execution_count": null,
      "outputs": [
        {
          "output_type": "stream",
          "name": "stderr",
          "text": [
            "[nltk_data] Downloading collection 'all'\n",
            "[nltk_data]    | \n",
            "[nltk_data]    | Downloading package abc to /root/nltk_data...\n",
            "[nltk_data]    |   Package abc is already up-to-date!\n",
            "[nltk_data]    | Downloading package alpino to /root/nltk_data...\n",
            "[nltk_data]    |   Package alpino is already up-to-date!\n",
            "[nltk_data]    | Downloading package averaged_perceptron_tagger to\n",
            "[nltk_data]    |     /root/nltk_data...\n",
            "[nltk_data]    |   Package averaged_perceptron_tagger is already up-\n",
            "[nltk_data]    |       to-date!\n",
            "[nltk_data]    | Downloading package averaged_perceptron_tagger_ru to\n",
            "[nltk_data]    |     /root/nltk_data...\n",
            "[nltk_data]    |   Package averaged_perceptron_tagger_ru is already\n",
            "[nltk_data]    |       up-to-date!\n",
            "[nltk_data]    | Downloading package basque_grammars to\n",
            "[nltk_data]    |     /root/nltk_data...\n",
            "[nltk_data]    |   Package basque_grammars is already up-to-date!\n",
            "[nltk_data]    | Downloading package bcp47 to /root/nltk_data...\n",
            "[nltk_data]    |   Package bcp47 is already up-to-date!\n",
            "[nltk_data]    | Downloading package biocreative_ppi to\n",
            "[nltk_data]    |     /root/nltk_data...\n",
            "[nltk_data]    |   Package biocreative_ppi is already up-to-date!\n",
            "[nltk_data]    | Downloading package bllip_wsj_no_aux to\n",
            "[nltk_data]    |     /root/nltk_data...\n",
            "[nltk_data]    |   Package bllip_wsj_no_aux is already up-to-date!\n",
            "[nltk_data]    | Downloading package book_grammars to\n",
            "[nltk_data]    |     /root/nltk_data...\n",
            "[nltk_data]    |   Package book_grammars is already up-to-date!\n",
            "[nltk_data]    | Downloading package brown to /root/nltk_data...\n",
            "[nltk_data]    |   Package brown is already up-to-date!\n",
            "[nltk_data]    | Downloading package brown_tei to /root/nltk_data...\n",
            "[nltk_data]    |   Package brown_tei is already up-to-date!\n",
            "[nltk_data]    | Downloading package cess_cat to /root/nltk_data...\n",
            "[nltk_data]    |   Package cess_cat is already up-to-date!\n",
            "[nltk_data]    | Downloading package cess_esp to /root/nltk_data...\n",
            "[nltk_data]    |   Package cess_esp is already up-to-date!\n",
            "[nltk_data]    | Downloading package chat80 to /root/nltk_data...\n",
            "[nltk_data]    |   Package chat80 is already up-to-date!\n",
            "[nltk_data]    | Downloading package city_database to\n",
            "[nltk_data]    |     /root/nltk_data...\n",
            "[nltk_data]    |   Package city_database is already up-to-date!\n",
            "[nltk_data]    | Downloading package cmudict to /root/nltk_data...\n",
            "[nltk_data]    |   Package cmudict is already up-to-date!\n",
            "[nltk_data]    | Downloading package comparative_sentences to\n",
            "[nltk_data]    |     /root/nltk_data...\n",
            "[nltk_data]    |   Package comparative_sentences is already up-to-\n",
            "[nltk_data]    |       date!\n",
            "[nltk_data]    | Downloading package comtrans to /root/nltk_data...\n",
            "[nltk_data]    |   Package comtrans is already up-to-date!\n",
            "[nltk_data]    | Downloading package conll2000 to /root/nltk_data...\n",
            "[nltk_data]    |   Package conll2000 is already up-to-date!\n",
            "[nltk_data]    | Downloading package conll2002 to /root/nltk_data...\n",
            "[nltk_data]    |   Package conll2002 is already up-to-date!\n",
            "[nltk_data]    | Downloading package conll2007 to /root/nltk_data...\n",
            "[nltk_data]    |   Package conll2007 is already up-to-date!\n",
            "[nltk_data]    | Downloading package crubadan to /root/nltk_data...\n",
            "[nltk_data]    |   Package crubadan is already up-to-date!\n",
            "[nltk_data]    | Downloading package dependency_treebank to\n",
            "[nltk_data]    |     /root/nltk_data...\n",
            "[nltk_data]    |   Package dependency_treebank is already up-to-date!\n",
            "[nltk_data]    | Downloading package dolch to /root/nltk_data...\n",
            "[nltk_data]    |   Package dolch is already up-to-date!\n",
            "[nltk_data]    | Downloading package europarl_raw to\n",
            "[nltk_data]    |     /root/nltk_data...\n",
            "[nltk_data]    |   Package europarl_raw is already up-to-date!\n",
            "[nltk_data]    | Downloading package extended_omw to\n",
            "[nltk_data]    |     /root/nltk_data...\n",
            "[nltk_data]    |   Package extended_omw is already up-to-date!\n",
            "[nltk_data]    | Downloading package floresta to /root/nltk_data...\n",
            "[nltk_data]    |   Package floresta is already up-to-date!\n",
            "[nltk_data]    | Downloading package framenet_v15 to\n",
            "[nltk_data]    |     /root/nltk_data...\n",
            "[nltk_data]    |   Package framenet_v15 is already up-to-date!\n",
            "[nltk_data]    | Downloading package framenet_v17 to\n",
            "[nltk_data]    |     /root/nltk_data...\n",
            "[nltk_data]    |   Package framenet_v17 is already up-to-date!\n",
            "[nltk_data]    | Downloading package gazetteers to /root/nltk_data...\n",
            "[nltk_data]    |   Package gazetteers is already up-to-date!\n",
            "[nltk_data]    | Downloading package genesis to /root/nltk_data...\n",
            "[nltk_data]    |   Package genesis is already up-to-date!\n",
            "[nltk_data]    | Downloading package gutenberg to /root/nltk_data...\n",
            "[nltk_data]    |   Package gutenberg is already up-to-date!\n",
            "[nltk_data]    | Downloading package ieer to /root/nltk_data...\n",
            "[nltk_data]    |   Package ieer is already up-to-date!\n",
            "[nltk_data]    | Downloading package inaugural to /root/nltk_data...\n",
            "[nltk_data]    |   Package inaugural is already up-to-date!\n",
            "[nltk_data]    | Downloading package indian to /root/nltk_data...\n",
            "[nltk_data]    |   Package indian is already up-to-date!\n",
            "[nltk_data]    | Downloading package jeita to /root/nltk_data...\n",
            "[nltk_data]    |   Package jeita is already up-to-date!\n",
            "[nltk_data]    | Downloading package kimmo to /root/nltk_data...\n",
            "[nltk_data]    |   Package kimmo is already up-to-date!\n",
            "[nltk_data]    | Downloading package knbc to /root/nltk_data...\n",
            "[nltk_data]    |   Package knbc is already up-to-date!\n",
            "[nltk_data]    | Downloading package large_grammars to\n",
            "[nltk_data]    |     /root/nltk_data...\n",
            "[nltk_data]    |   Package large_grammars is already up-to-date!\n",
            "[nltk_data]    | Downloading package lin_thesaurus to\n",
            "[nltk_data]    |     /root/nltk_data...\n",
            "[nltk_data]    |   Package lin_thesaurus is already up-to-date!\n",
            "[nltk_data]    | Downloading package mac_morpho to /root/nltk_data...\n",
            "[nltk_data]    |   Package mac_morpho is already up-to-date!\n",
            "[nltk_data]    | Downloading package machado to /root/nltk_data...\n",
            "[nltk_data]    |   Package machado is already up-to-date!\n",
            "[nltk_data]    | Downloading package masc_tagged to /root/nltk_data...\n",
            "[nltk_data]    |   Package masc_tagged is already up-to-date!\n",
            "[nltk_data]    | Downloading package maxent_ne_chunker to\n",
            "[nltk_data]    |     /root/nltk_data...\n",
            "[nltk_data]    |   Package maxent_ne_chunker is already up-to-date!\n",
            "[nltk_data]    | Downloading package maxent_treebank_pos_tagger to\n",
            "[nltk_data]    |     /root/nltk_data...\n",
            "[nltk_data]    |   Package maxent_treebank_pos_tagger is already up-\n",
            "[nltk_data]    |       to-date!\n",
            "[nltk_data]    | Downloading package moses_sample to\n",
            "[nltk_data]    |     /root/nltk_data...\n",
            "[nltk_data]    |   Package moses_sample is already up-to-date!\n",
            "[nltk_data]    | Downloading package movie_reviews to\n",
            "[nltk_data]    |     /root/nltk_data...\n",
            "[nltk_data]    |   Package movie_reviews is already up-to-date!\n",
            "[nltk_data]    | Downloading package mte_teip5 to /root/nltk_data...\n",
            "[nltk_data]    |   Package mte_teip5 is already up-to-date!\n",
            "[nltk_data]    | Downloading package mwa_ppdb to /root/nltk_data...\n",
            "[nltk_data]    |   Package mwa_ppdb is already up-to-date!\n",
            "[nltk_data]    | Downloading package names to /root/nltk_data...\n",
            "[nltk_data]    |   Package names is already up-to-date!\n",
            "[nltk_data]    | Downloading package nombank.1.0 to /root/nltk_data...\n",
            "[nltk_data]    |   Package nombank.1.0 is already up-to-date!\n",
            "[nltk_data]    | Downloading package nonbreaking_prefixes to\n",
            "[nltk_data]    |     /root/nltk_data...\n",
            "[nltk_data]    |   Package nonbreaking_prefixes is already up-to-date!\n",
            "[nltk_data]    | Downloading package nps_chat to /root/nltk_data...\n",
            "[nltk_data]    |   Package nps_chat is already up-to-date!\n",
            "[nltk_data]    | Downloading package omw to /root/nltk_data...\n",
            "[nltk_data]    |   Package omw is already up-to-date!\n",
            "[nltk_data]    | Downloading package omw-1.4 to /root/nltk_data...\n",
            "[nltk_data]    |   Package omw-1.4 is already up-to-date!\n",
            "[nltk_data]    | Downloading package opinion_lexicon to\n",
            "[nltk_data]    |     /root/nltk_data...\n",
            "[nltk_data]    |   Package opinion_lexicon is already up-to-date!\n",
            "[nltk_data]    | Downloading package panlex_swadesh to\n",
            "[nltk_data]    |     /root/nltk_data...\n",
            "[nltk_data]    |   Package panlex_swadesh is already up-to-date!\n",
            "[nltk_data]    | Downloading package paradigms to /root/nltk_data...\n",
            "[nltk_data]    |   Package paradigms is already up-to-date!\n",
            "[nltk_data]    | Downloading package pe08 to /root/nltk_data...\n",
            "[nltk_data]    |   Package pe08 is already up-to-date!\n",
            "[nltk_data]    | Downloading package perluniprops to\n",
            "[nltk_data]    |     /root/nltk_data...\n",
            "[nltk_data]    |   Package perluniprops is already up-to-date!\n",
            "[nltk_data]    | Downloading package pil to /root/nltk_data...\n",
            "[nltk_data]    |   Package pil is already up-to-date!\n",
            "[nltk_data]    | Downloading package pl196x to /root/nltk_data...\n",
            "[nltk_data]    |   Package pl196x is already up-to-date!\n",
            "[nltk_data]    | Downloading package porter_test to /root/nltk_data...\n",
            "[nltk_data]    |   Package porter_test is already up-to-date!\n",
            "[nltk_data]    | Downloading package ppattach to /root/nltk_data...\n",
            "[nltk_data]    |   Package ppattach is already up-to-date!\n",
            "[nltk_data]    | Downloading package problem_reports to\n",
            "[nltk_data]    |     /root/nltk_data...\n",
            "[nltk_data]    |   Package problem_reports is already up-to-date!\n",
            "[nltk_data]    | Downloading package product_reviews_1 to\n",
            "[nltk_data]    |     /root/nltk_data...\n",
            "[nltk_data]    |   Package product_reviews_1 is already up-to-date!\n",
            "[nltk_data]    | Downloading package product_reviews_2 to\n",
            "[nltk_data]    |     /root/nltk_data...\n",
            "[nltk_data]    |   Package product_reviews_2 is already up-to-date!\n",
            "[nltk_data]    | Downloading package propbank to /root/nltk_data...\n",
            "[nltk_data]    |   Package propbank is already up-to-date!\n",
            "[nltk_data]    | Downloading package pros_cons to /root/nltk_data...\n",
            "[nltk_data]    |   Package pros_cons is already up-to-date!\n",
            "[nltk_data]    | Downloading package ptb to /root/nltk_data...\n",
            "[nltk_data]    |   Package ptb is already up-to-date!\n",
            "[nltk_data]    | Downloading package punkt to /root/nltk_data...\n",
            "[nltk_data]    |   Package punkt is already up-to-date!\n",
            "[nltk_data]    | Downloading package qc to /root/nltk_data...\n",
            "[nltk_data]    |   Package qc is already up-to-date!\n",
            "[nltk_data]    | Downloading package reuters to /root/nltk_data...\n",
            "[nltk_data]    |   Package reuters is already up-to-date!\n",
            "[nltk_data]    | Downloading package rslp to /root/nltk_data...\n",
            "[nltk_data]    |   Package rslp is already up-to-date!\n",
            "[nltk_data]    | Downloading package rte to /root/nltk_data...\n",
            "[nltk_data]    |   Package rte is already up-to-date!\n",
            "[nltk_data]    | Downloading package sample_grammars to\n",
            "[nltk_data]    |     /root/nltk_data...\n",
            "[nltk_data]    |   Package sample_grammars is already up-to-date!\n",
            "[nltk_data]    | Downloading package semcor to /root/nltk_data...\n",
            "[nltk_data]    |   Package semcor is already up-to-date!\n",
            "[nltk_data]    | Downloading package senseval to /root/nltk_data...\n",
            "[nltk_data]    |   Package senseval is already up-to-date!\n",
            "[nltk_data]    | Downloading package sentence_polarity to\n",
            "[nltk_data]    |     /root/nltk_data...\n",
            "[nltk_data]    |   Package sentence_polarity is already up-to-date!\n",
            "[nltk_data]    | Downloading package sentiwordnet to\n",
            "[nltk_data]    |     /root/nltk_data...\n",
            "[nltk_data]    |   Package sentiwordnet is already up-to-date!\n",
            "[nltk_data]    | Downloading package shakespeare to /root/nltk_data...\n",
            "[nltk_data]    |   Package shakespeare is already up-to-date!\n",
            "[nltk_data]    | Downloading package sinica_treebank to\n",
            "[nltk_data]    |     /root/nltk_data...\n",
            "[nltk_data]    |   Package sinica_treebank is already up-to-date!\n",
            "[nltk_data]    | Downloading package smultron to /root/nltk_data...\n",
            "[nltk_data]    |   Package smultron is already up-to-date!\n",
            "[nltk_data]    | Downloading package snowball_data to\n",
            "[nltk_data]    |     /root/nltk_data...\n",
            "[nltk_data]    |   Package snowball_data is already up-to-date!\n",
            "[nltk_data]    | Downloading package spanish_grammars to\n",
            "[nltk_data]    |     /root/nltk_data...\n",
            "[nltk_data]    |   Package spanish_grammars is already up-to-date!\n",
            "[nltk_data]    | Downloading package state_union to /root/nltk_data...\n",
            "[nltk_data]    |   Package state_union is already up-to-date!\n",
            "[nltk_data]    | Downloading package stopwords to /root/nltk_data...\n",
            "[nltk_data]    |   Package stopwords is already up-to-date!\n",
            "[nltk_data]    | Downloading package subjectivity to\n",
            "[nltk_data]    |     /root/nltk_data...\n",
            "[nltk_data]    |   Package subjectivity is already up-to-date!\n",
            "[nltk_data]    | Downloading package swadesh to /root/nltk_data...\n",
            "[nltk_data]    |   Package swadesh is already up-to-date!\n",
            "[nltk_data]    | Downloading package switchboard to /root/nltk_data...\n",
            "[nltk_data]    |   Package switchboard is already up-to-date!\n",
            "[nltk_data]    | Downloading package tagsets to /root/nltk_data...\n",
            "[nltk_data]    |   Package tagsets is already up-to-date!\n",
            "[nltk_data]    | Downloading package timit to /root/nltk_data...\n",
            "[nltk_data]    |   Package timit is already up-to-date!\n",
            "[nltk_data]    | Downloading package toolbox to /root/nltk_data...\n",
            "[nltk_data]    |   Package toolbox is already up-to-date!\n",
            "[nltk_data]    | Downloading package treebank to /root/nltk_data...\n",
            "[nltk_data]    |   Package treebank is already up-to-date!\n",
            "[nltk_data]    | Downloading package twitter_samples to\n",
            "[nltk_data]    |     /root/nltk_data...\n",
            "[nltk_data]    |   Package twitter_samples is already up-to-date!\n",
            "[nltk_data]    | Downloading package udhr to /root/nltk_data...\n",
            "[nltk_data]    |   Package udhr is already up-to-date!\n",
            "[nltk_data]    | Downloading package udhr2 to /root/nltk_data...\n",
            "[nltk_data]    |   Package udhr2 is already up-to-date!\n",
            "[nltk_data]    | Downloading package unicode_samples to\n",
            "[nltk_data]    |     /root/nltk_data...\n",
            "[nltk_data]    |   Package unicode_samples is already up-to-date!\n",
            "[nltk_data]    | Downloading package universal_tagset to\n",
            "[nltk_data]    |     /root/nltk_data...\n",
            "[nltk_data]    |   Package universal_tagset is already up-to-date!\n",
            "[nltk_data]    | Downloading package universal_treebanks_v20 to\n",
            "[nltk_data]    |     /root/nltk_data...\n",
            "[nltk_data]    |   Package universal_treebanks_v20 is already up-to-\n",
            "[nltk_data]    |       date!\n",
            "[nltk_data]    | Downloading package vader_lexicon to\n",
            "[nltk_data]    |     /root/nltk_data...\n",
            "[nltk_data]    |   Package vader_lexicon is already up-to-date!\n",
            "[nltk_data]    | Downloading package verbnet to /root/nltk_data...\n",
            "[nltk_data]    |   Package verbnet is already up-to-date!\n",
            "[nltk_data]    | Downloading package verbnet3 to /root/nltk_data...\n",
            "[nltk_data]    |   Package verbnet3 is already up-to-date!\n",
            "[nltk_data]    | Downloading package webtext to /root/nltk_data...\n",
            "[nltk_data]    |   Package webtext is already up-to-date!\n",
            "[nltk_data]    | Downloading package wmt15_eval to /root/nltk_data...\n",
            "[nltk_data]    |   Package wmt15_eval is already up-to-date!\n",
            "[nltk_data]    | Downloading package word2vec_sample to\n",
            "[nltk_data]    |     /root/nltk_data...\n",
            "[nltk_data]    |   Package word2vec_sample is already up-to-date!\n",
            "[nltk_data]    | Downloading package wordnet to /root/nltk_data...\n",
            "[nltk_data]    |   Package wordnet is already up-to-date!\n",
            "[nltk_data]    | Downloading package wordnet2021 to /root/nltk_data...\n",
            "[nltk_data]    |   Package wordnet2021 is already up-to-date!\n",
            "[nltk_data]    | Downloading package wordnet31 to /root/nltk_data...\n",
            "[nltk_data]    |   Package wordnet31 is already up-to-date!\n",
            "[nltk_data]    | Downloading package wordnet_ic to /root/nltk_data...\n",
            "[nltk_data]    |   Package wordnet_ic is already up-to-date!\n",
            "[nltk_data]    | Downloading package words to /root/nltk_data...\n",
            "[nltk_data]    |   Package words is already up-to-date!\n",
            "[nltk_data]    | Downloading package ycoe to /root/nltk_data...\n",
            "[nltk_data]    |   Package ycoe is already up-to-date!\n",
            "[nltk_data]    | \n",
            "[nltk_data]  Done downloading collection all\n"
          ]
        },
        {
          "output_type": "execute_result",
          "data": {
            "text/plain": [
              "True"
            ]
          },
          "metadata": {},
          "execution_count": 890
        }
      ]
    },
    {
      "cell_type": "code",
      "execution_count": null,
      "metadata": {
        "id": "BOLBMoopMbk3"
      },
      "outputs": [],
      "source": [
        "import warnings\n",
        "warnings.filterwarnings('ignore')\n",
        "warnings.filterwarnings(action='ignore', category=DeprecationWarning)\n",
        "warnings.filterwarnings(action='ignore', category=FutureWarning)"
      ]
    },
    {
      "cell_type": "markdown",
      "source": [
        "#2. Load dữ liệu đã thu thập\n"
      ],
      "metadata": {
        "id": "KkhKyAiKOPJD"
      }
    },
    {
      "cell_type": "code",
      "source": [
        "# import os,shutil\n",
        "# shutil.rmtree(\"underthesea\")"
      ],
      "metadata": {
        "id": "vDpVYEE3EAz1"
      },
      "execution_count": null,
      "outputs": []
    },
    {
      "cell_type": "code",
      "execution_count": null,
      "metadata": {
        "colab": {
          "base_uri": "https://localhost:8080/"
        },
        "id": "63krhxwouU9D",
        "outputId": "735d6c92-afb7-4d10-a1d7-c2061e562eb5"
      },
      "outputs": [
        {
          "output_type": "stream",
          "name": "stdout",
          "text": [
            "fatal: destination path 'underthesea' already exists and is not an empty directory.\n"
          ]
        }
      ],
      "source": [
        "!git clone https://github.com/undertheseanlp/underthesea"
      ]
    },
    {
      "cell_type": "code",
      "source": [
        "words = open('/content/underthesea/underthesea/corpus/data/Viet74K.txt', encoding='utf-8').readlines()\n"
      ],
      "metadata": {
        "id": "ibBBM1_u5kXf"
      },
      "execution_count": null,
      "outputs": []
    },
    {
      "cell_type": "code",
      "source": [
        "print(len(words))"
      ],
      "metadata": {
        "colab": {
          "base_uri": "https://localhost:8080/"
        },
        "id": "VvZHeYSfFb6e",
        "outputId": "8088496d-c44d-49e8-f06d-839cb679f456"
      },
      "execution_count": null,
      "outputs": [
        {
          "output_type": "stream",
          "name": "stdout",
          "text": [
            "73901\n"
          ]
        }
      ]
    },
    {
      "cell_type": "code",
      "source": [
        "# words"
      ],
      "metadata": {
        "id": "b_6Ma0LlGWMe"
      },
      "execution_count": null,
      "outputs": []
    },
    {
      "cell_type": "code",
      "source": [
        "new_words = []\n",
        "for word in words: \n",
        "    new_words.append(word.replace(\"-\",\" \"))\n",
        "# new_words"
      ],
      "metadata": {
        "id": "OI3l2GOtFj5E"
      },
      "execution_count": null,
      "outputs": []
    },
    {
      "cell_type": "code",
      "source": [
        "bi_grams = []\n",
        "tri_grams = []\n",
        "for word in new_words: \n",
        "  count_space =0\n",
        "  for chart in word:\n",
        "    if chart ==\" \":\n",
        "      count_space+=1\n",
        "  if count_space == 2:\n",
        "    tri_grams.append(word.replace(\"\\n\",\"\"))\n",
        "    new_words.remove(word)\n",
        "  if count_space == 1:\n",
        "    bi_grams.append(word.replace(\"\\n\",\"\"))\n",
        "    new_words.remove(word)\n"
      ],
      "metadata": {
        "id": "OXRk91RjGoSc"
      },
      "execution_count": null,
      "outputs": []
    },
    {
      "cell_type": "code",
      "source": [
        "len(bi_grams)"
      ],
      "metadata": {
        "colab": {
          "base_uri": "https://localhost:8080/"
        },
        "id": "5u84beD9IZL1",
        "outputId": "f522c249-0877-4713-c909-91e9fd5d08ac"
      },
      "execution_count": null,
      "outputs": [
        {
          "output_type": "execute_result",
          "data": {
            "text/plain": [
              "27938"
            ]
          },
          "metadata": {},
          "execution_count": 898
        }
      ]
    },
    {
      "cell_type": "code",
      "source": [
        "len(tri_grams)"
      ],
      "metadata": {
        "colab": {
          "base_uri": "https://localhost:8080/"
        },
        "id": "-HNnOdoIIjUs",
        "outputId": "9213bfde-32ba-4e0d-9696-2ae70383ad50"
      },
      "execution_count": null,
      "outputs": [
        {
          "output_type": "execute_result",
          "data": {
            "text/plain": [
              "3402"
            ]
          },
          "metadata": {},
          "execution_count": 899
        }
      ]
    },
    {
      "cell_type": "code",
      "source": [
        "!git clone https://github.com/HgThinker/CS221-Project.git"
      ],
      "metadata": {
        "colab": {
          "base_uri": "https://localhost:8080/"
        },
        "id": "lseoHfSbOVWb",
        "outputId": "1941fb4d-fa31-4007-da36-121c27a2c9fa"
      },
      "execution_count": null,
      "outputs": [
        {
          "output_type": "stream",
          "name": "stdout",
          "text": [
            "Cloning into 'CS221-Project'...\n",
            "remote: Enumerating objects: 265, done.\u001b[K\n",
            "remote: Counting objects: 100% (129/129), done.\u001b[K\n",
            "remote: Compressing objects: 100% (129/129), done.\u001b[K\n",
            "remote: Total 265 (delta 51), reused 0 (delta 0), pack-reused 136\u001b[K\n",
            "Receiving objects: 100% (265/265), 421.95 KiB | 4.85 MiB/s, done.\n",
            "Resolving deltas: 100% (101/101), done.\n"
          ]
        }
      ]
    },
    {
      "cell_type": "code",
      "source": [
        "sentences = open('CS221-Project/dataset/sentences.txt', encoding='utf-8').readlines()\n",
        "tokenize_sentences = [sentence.split(' ') for sentence in sentences]"
      ],
      "metadata": {
        "id": "Xsgw7raIOqe0"
      },
      "execution_count": null,
      "outputs": []
    },
    {
      "cell_type": "code",
      "source": [
        "print('Số lượng câu đã thu thập:', len(sentences))\n",
        "sentences[0:2]"
      ],
      "metadata": {
        "colab": {
          "base_uri": "https://localhost:8080/"
        },
        "id": "i4BtN0KzO8HD",
        "outputId": "9fcba72f-5fd9-44f7-edc3-dc62b0cc3089"
      },
      "execution_count": null,
      "outputs": [
        {
          "output_type": "stream",
          "name": "stdout",
          "text": [
            "Số lượng câu đã thu thập: 60\n"
          ]
        },
        {
          "output_type": "execute_result",
          "data": {
            "text/plain": [
              "['Để đủ điều kiện ra trường thì em cần đạt bằng Toeic ở mức bao nhiêu điểm ạ ? \\n',\n",
              " 'Nếu có bằng Toeic 2 kỹ năng 450 + rồi thì không cần học Anh văn 3 đúng không ạ ?\\n']"
            ]
          },
          "metadata": {},
          "execution_count": 902
        }
      ]
    },
    {
      "cell_type": "code",
      "source": [
        "max_str = max(tokenize_sentences, key=len)\n",
        "print('Câu có số từ nhiều nhât:', len(max_str))\n",
        "' '.join(max_str)"
      ],
      "metadata": {
        "colab": {
          "base_uri": "https://localhost:8080/",
          "height": 70
        },
        "id": "FLDazvaxPASb",
        "outputId": "f1e54ef5-fcb4-4a46-8b15-b1904770f2ea"
      },
      "execution_count": null,
      "outputs": [
        {
          "output_type": "stream",
          "name": "stdout",
          "text": [
            "Câu có số từ nhiều nhât: 66\n"
          ]
        },
        {
          "output_type": "execute_result",
          "data": {
            "text/plain": [
              "'Mình có cài phần mềm Invision Studio nhưng khi mình chạy file setup xong thì không thấy response gì nữa và quá trình cài cũng không thấy đâu, mình chạy lại file setup đến 4 - 5 lần nhưng vẫn vô vọng , tìm mọi cách nhưng không fix được , không biết việc này có liên quan đến lỗi win hay không ạ ? \\n'"
            ],
            "application/vnd.google.colaboratory.intrinsic+json": {
              "type": "string"
            }
          },
          "metadata": {},
          "execution_count": 903
        }
      ]
    },
    {
      "cell_type": "code",
      "source": [
        "min_str = min(tokenize_sentences, key=len)\n",
        "print('Câu có số từ ít nhât:', len(min_str))\n",
        "' '.join(min_str)"
      ],
      "metadata": {
        "colab": {
          "base_uri": "https://localhost:8080/",
          "height": 52
        },
        "id": "szJofel9PGLz",
        "outputId": "58d53acc-e5f5-4819-d58f-966e39680c87"
      },
      "execution_count": null,
      "outputs": [
        {
          "output_type": "stream",
          "name": "stdout",
          "text": [
            "Câu có số từ ít nhât: 11\n"
          ]
        },
        {
          "output_type": "execute_result",
          "data": {
            "text/plain": [
              "'Em phải làm gì khi không đạt điểm học phần ?\\n'"
            ],
            "application/vnd.google.colaboratory.intrinsic+json": {
              "type": "string"
            }
          },
          "metadata": {},
          "execution_count": 904
        }
      ]
    },
    {
      "cell_type": "markdown",
      "source": [
        "#3. Tách từ\n"
      ],
      "metadata": {
        "id": "2yi9vtmsPSaF"
      }
    },
    {
      "cell_type": "markdown",
      "source": [
        "## 3.1 Sử dụng thuật toán Longest-Matching"
      ],
      "metadata": {
        "id": "KkVFNz6CI6Jk"
      }
    },
    {
      "cell_type": "code",
      "source": [
        "def syllablize(sentence):\n",
        "    word = '\\w+'\n",
        "    non_word = '[^\\w\\s]'\n",
        "    digits = '\\d+([\\.,_]\\d+)+'\n",
        "    \n",
        "    patterns = []\n",
        "    patterns.extend([word, non_word, digits])\n",
        "    patterns = f\"({'|'.join(patterns)})\"\n",
        "    \n",
        "    sentence = ud.normalize('NFC', sentence)\n",
        "    tokens = re.findall(patterns, sentence, re.UNICODE)\n",
        "    return [token[0] for token in tokens]"
      ],
      "metadata": {
        "id": "D5K9fjecPPtD"
      },
      "execution_count": null,
      "outputs": []
    },
    {
      "cell_type": "code",
      "source": [
        "def load_n_grams(path):\n",
        "    with open(path, encoding='utf8') as f:\n",
        "        words = f.read()\n",
        "        words = ast.literal_eval(words)\n",
        "    return words"
      ],
      "metadata": {
        "id": "xaP6bDGkPYkM"
      },
      "execution_count": null,
      "outputs": []
    },
    {
      "cell_type": "code",
      "source": [
        "def longest_matching(sentence, bi_grams, tri_grams):\n",
        "    syllables = syllablize(sentence)\n",
        "    syl_len = len(syllables)\n",
        "    \n",
        "    curr_id = 0\n",
        "    word_list = []\n",
        "    done = False\n",
        "    \n",
        "    while (curr_id < syl_len) and (not done):\n",
        "        curr_word = syllables[curr_id]\n",
        "        if curr_id >= syl_len - 1:\n",
        "            word_list.append(curr_word)\n",
        "            done = True\n",
        "        else:\n",
        "            next_word = syllables[curr_id + 1]\n",
        "            pair_word = ' '.join([curr_word.lower(), next_word.lower()])\n",
        "            if curr_id >= (syl_len - 2):\n",
        "                if pair_word in bi_grams:\n",
        "                    word_list.append('_'.join([curr_word, next_word]))\n",
        "                    curr_id += 2\n",
        "                else:\n",
        "                    word_list.append(curr_word)\n",
        "                    curr_id += 1\n",
        "            else:\n",
        "                next_next_word = syllables[curr_id + 2]\n",
        "                triple_word = ' '.join([pair_word, next_next_word.lower()])\n",
        "                if triple_word in tri_grams:\n",
        "                    word_list.append('_'.join([curr_word, next_word, next_next_word]))\n",
        "                    curr_id += 3\n",
        "                elif pair_word in bi_grams:\n",
        "                    word_list.append('_'.join([curr_word, next_word]))\n",
        "                    curr_id += 2\n",
        "                else:\n",
        "                    word_list.append(curr_word)\n",
        "                    curr_id += 1\n",
        "    return word_list"
      ],
      "metadata": {
        "id": "0t6seXllPeAD"
      },
      "execution_count": null,
      "outputs": []
    },
    {
      "cell_type": "code",
      "source": [
        "longest_matching('Hôm nay là một ngày đẹp trời , em đi siêu thị trên đường Võ Thị Sáu .', bi_grams, tri_grams)\n"
      ],
      "metadata": {
        "colab": {
          "base_uri": "https://localhost:8080/"
        },
        "id": "j70h94QQPfQj",
        "outputId": "2e976952-4b70-4afa-fff6-ee9226ba55ad"
      },
      "execution_count": null,
      "outputs": [
        {
          "output_type": "execute_result",
          "data": {
            "text/plain": [
              "['Hôm_nay',\n",
              " 'là',\n",
              " 'một',\n",
              " 'ngày',\n",
              " 'đẹp_trời',\n",
              " ',',\n",
              " 'em',\n",
              " 'đi',\n",
              " 'siêu_thị',\n",
              " 'trên',\n",
              " 'đường',\n",
              " 'Võ',\n",
              " 'Thị',\n",
              " 'Sáu',\n",
              " '.']"
            ]
          },
          "metadata": {},
          "execution_count": 908
        }
      ]
    },
    {
      "cell_type": "code",
      "source": [
        "with open('CS221-Project/tokenize/longest_matching_tokens.txt', 'w', encoding='utf-8') as f:\n",
        "    longest_matching_sentences = []\n",
        "    for sentence in sentences:\n",
        "        word_list = longest_matching(sentence, bi_grams, tri_grams)\n",
        "        longest_matching_sentences.append(' '.join(word_list))\n",
        "        for word in word_list: f.write(word + '\\n')\n",
        "        if sentence != sentences[-1]: f.write('\\n')\n",
        "    f.write('\\n')\n",
        "longest_matching_sentences[3:10]"
      ],
      "metadata": {
        "colab": {
          "base_uri": "https://localhost:8080/"
        },
        "id": "AUJzbIaveUrI",
        "outputId": "4fded867-c2cc-4af9-c4db-f4698f5ddf82"
      },
      "execution_count": null,
      "outputs": [
        {
          "output_type": "execute_result",
          "data": {
            "text/plain": [
              "['Mình sẽ cùng các bạn phát_triển các Mini Platform có thể bao_quát hết toàn_bộ các môn học của bạn tại trường để làm nền tảng kiến thức thực_tế giúp cho các bạn ra trường không_phải đào_tạo lại hoàn_toàn ở công ty mới .',\n",
              " 'Trong 5 năm làm việc tại TK25 , mình cũng đã tham gia đào_tạo nhiều bạn trẻ từ_ngày mới ra trường cho tới khi đã trở_thành Senior .',\n",
              " 'Hiện_tại mình cũng đang Mentor cho 5 bạn tại công ty .',\n",
              " 'SV UIT được tham gia lớp học miễn_phí thay_vì đóng 800 . 000 đ / khóa , tuy_nhiên các bạn phải có trách nhiệm hoàn thành lớp học đúng_hạn .',\n",
              " 'Mình có sưu_tầm một_số đề thi các môn cơ sở ngành của các trường KHTN , BKHCM , BKHN , ĐH Công_Nghệ muốn chia sẻ với các bạn để có thêm tài_liệu rèn luyện , ôn thi .',\n",
              " 'Bất kỳ xử phạt nào cũng có_lý do và đều được thông báo riêng với account vi_phạm hoặc thông_qua bảng phong_thần - trừ việc xóa bài là lý do bị ẩn đi .',\n",
              " 'BHTCNPM với các bài training luôn_luôn đặt chất lượng và kiến thức của sinh_viên lên hàng đầu , đồng thời với nội dung kiến thức dàn_trải từ cơ bản đến nâng cao , cùng_với các trainer dồi_dào kinh nghiệm chuyên môn sẽ giúp cho tất cả các bạn đều có thể ôn_tập và thi thật tốt .']"
            ]
          },
          "metadata": {},
          "execution_count": 909
        }
      ]
    },
    {
      "cell_type": "code",
      "source": [
        "count_longest_matching_compounds = 0\n",
        "for sentence in longest_matching_sentences:\n",
        "    for word in sentence.split():\n",
        "        if '_' in word: count_longest_matching_compounds += 1\n",
        "print('Số lượng từ ghép khi tách từ bằng thuật toán Longest Matching:', count_longest_matching_compounds)"
      ],
      "metadata": {
        "colab": {
          "base_uri": "https://localhost:8080/"
        },
        "id": "7zie9XcZgV34",
        "outputId": "da8200b4-2fdf-48b2-87e5-a3c846051123"
      },
      "execution_count": null,
      "outputs": [
        {
          "output_type": "stream",
          "name": "stdout",
          "text": [
            "Số lượng từ ghép khi tách từ bằng thuật toán Longest Matching: 187\n"
          ]
        }
      ]
    },
    {
      "cell_type": "markdown",
      "source": [
        "##3.2 Sử dụng thư viện VnCoreNLP"
      ],
      "metadata": {
        "id": "Etkk_fnfiTMf"
      }
    },
    {
      "cell_type": "code",
      "source": [
        "!pip install py-vncorenlp"
      ],
      "metadata": {
        "colab": {
          "base_uri": "https://localhost:8080/"
        },
        "id": "-5LNEeNIidsH",
        "outputId": "fa57189a-3910-4b37-d3f3-db322a30b2d0"
      },
      "execution_count": null,
      "outputs": [
        {
          "output_type": "stream",
          "name": "stdout",
          "text": [
            "Looking in indexes: https://pypi.org/simple, https://us-python.pkg.dev/colab-wheels/public/simple/\n",
            "Requirement already satisfied: py-vncorenlp in /usr/local/lib/python3.8/dist-packages (0.1.3)\n",
            "Requirement already satisfied: pyjnius in /usr/local/lib/python3.8/dist-packages (from py-vncorenlp) (1.4.2)\n",
            "Requirement already satisfied: six>=1.7.0 in /usr/local/lib/python3.8/dist-packages (from pyjnius->py-vncorenlp) (1.15.0)\n"
          ]
        }
      ]
    },
    {
      "cell_type": "code",
      "source": [
        "import py_vncorenlp\n",
        "py_vncorenlp.download_model(save_dir='./')\n",
        "# model = py_vncorenlp.VnCoreNLP(annotators=[\"wseg\", \"pos\", \"ner\", \"parse\"], save_dir='./')"
      ],
      "metadata": {
        "id": "wnbWLgO3gaSw",
        "colab": {
          "base_uri": "https://localhost:8080/"
        },
        "outputId": "06c46c48-c6ba-4155-9509-6452be8704c5"
      },
      "execution_count": null,
      "outputs": [
        {
          "output_type": "stream",
          "name": "stdout",
          "text": [
            "The VnCoreNLP model is already!\n"
          ]
        }
      ]
    },
    {
      "cell_type": "code",
      "source": [
        "def vncore_tokenize(sentence):\n",
        "  vncore_sentences = model.annotate_text(sentence)\n",
        "  sent = vncore_sentences[0]\n",
        "  word_list = []\n",
        "  for word in sent:\n",
        "    word_list.append(word[\"wordForm\"])\n",
        "  return word_list"
      ],
      "metadata": {
        "id": "Kw_c6-Zzj5pA"
      },
      "execution_count": null,
      "outputs": []
    },
    {
      "cell_type": "code",
      "source": [
        "with open('CS221-Project/tokenize/vncore_tokens.txt', 'w', encoding='utf-8') as f:\n",
        "  vncore_sentences = []\n",
        "  for sentence in sentences:\n",
        "      word_list = vncore_tokenize(sentence)\n",
        "      vncore_sentences.append(' '.join(word_list))\n",
        "      for word in word_list: \n",
        "        f.write(word + '\\n')\n",
        "      if sentence != sentences[-1]: f.write('\\n')\n",
        "  f.write('\\n')\n",
        "vncore_sentences[30:35]"
      ],
      "metadata": {
        "colab": {
          "base_uri": "https://localhost:8080/"
        },
        "id": "v9_Mc8LnkEk3",
        "outputId": "7ab98cb6-e66f-4f38-ddae-51c9920be00e"
      },
      "execution_count": null,
      "outputs": [
        {
          "output_type": "execute_result",
          "data": {
            "text/plain": [
              "['Em học năm nhất thì HK2 có nên đăng_ký các môn chính_trị không ạ , hay_là cứ như kế_hoạch học_tập trong sổ_tay sinh_viên ạ ?',\n",
              " 'Cho em hỏi còn môn lập_trình hướng đối_tượng có nên đăng_ký không , vì em còn code yếu ?',\n",
              " 'Cho em hỏi là học thể_dục thì em có_thể mua áo UIT màu trắng ở đâu ạ ?',\n",
              " 'Nếu không còn bán thì em có_thể mặc áo màu cam của chương_trình OEP được không ạ ?',\n",
              " 'Wifi của trường UIT public và UIT có tốc_độ cực_kì chậm tại Thư_viện , ngoài_ra thì hệ_thống cáp wifi cắm vào laptop ở các dãy bàn của thư_viện cũng không hoạt_động .']"
            ]
          },
          "metadata": {},
          "execution_count": 914
        }
      ]
    },
    {
      "cell_type": "code",
      "source": [
        "count_vncore_compounds = 0\n",
        "for sentence in vncore_sentences:\n",
        "    for word in sentence.split():\n",
        "        if '_' in word: count_vncore_compounds += 1\n",
        "print('Số lượng từ ghép khi tách từ bằng thư viện VnCoreNLP:', count_vncore_compounds)"
      ],
      "metadata": {
        "colab": {
          "base_uri": "https://localhost:8080/"
        },
        "id": "EU9zRUiMkd3P",
        "outputId": "c9f9893b-1f2b-4902-c07d-18cf9f1e8f13"
      },
      "execution_count": null,
      "outputs": [
        {
          "output_type": "stream",
          "name": "stdout",
          "text": [
            "Số lượng từ ghép khi tách từ bằng thư viện VnCoreNLP: 342\n"
          ]
        }
      ]
    },
    {
      "cell_type": "markdown",
      "source": [
        "## Sử dụng thư viện Underthesea\n"
      ],
      "metadata": {
        "id": "Ij8XaMqroiIt"
      }
    },
    {
      "cell_type": "code",
      "source": [
        "!pip install underthesea"
      ],
      "metadata": {
        "colab": {
          "base_uri": "https://localhost:8080/"
        },
        "id": "nf_rMjGho11t",
        "outputId": "b121a6cb-4080-49a8-cb13-3799f5052309"
      },
      "execution_count": null,
      "outputs": [
        {
          "output_type": "stream",
          "name": "stdout",
          "text": [
            "Looking in indexes: https://pypi.org/simple, https://us-python.pkg.dev/colab-wheels/public/simple/\n",
            "Requirement already satisfied: underthesea in /usr/local/lib/python3.8/dist-packages (1.4.1)\n",
            "Requirement already satisfied: joblib in /usr/local/lib/python3.8/dist-packages (from underthesea) (1.2.0)\n",
            "Requirement already satisfied: python-crfsuite>=0.9.6 in /usr/local/lib/python3.8/dist-packages (from underthesea) (0.9.8)\n",
            "Requirement already satisfied: PyYAML in /usr/local/lib/python3.8/dist-packages (from underthesea) (6.0)\n",
            "Requirement already satisfied: underthesea-core==0.0.5a2 in /usr/local/lib/python3.8/dist-packages (from underthesea) (0.0.5a2)\n",
            "Requirement already satisfied: requests in /usr/local/lib/python3.8/dist-packages (from underthesea) (2.23.0)\n",
            "Requirement already satisfied: scikit-learn in /usr/local/lib/python3.8/dist-packages (from underthesea) (1.0.2)\n",
            "Requirement already satisfied: tqdm in /usr/local/lib/python3.8/dist-packages (from underthesea) (4.64.1)\n",
            "Requirement already satisfied: Click>=6.0 in /usr/local/lib/python3.8/dist-packages (from underthesea) (7.1.2)\n",
            "Requirement already satisfied: nltk in /usr/local/lib/python3.8/dist-packages (from underthesea) (3.7)\n",
            "Requirement already satisfied: regex>=2021.8.3 in /usr/local/lib/python3.8/dist-packages (from nltk->underthesea) (2022.6.2)\n",
            "Requirement already satisfied: certifi>=2017.4.17 in /usr/local/lib/python3.8/dist-packages (from requests->underthesea) (2022.12.7)\n",
            "Requirement already satisfied: chardet<4,>=3.0.2 in /usr/local/lib/python3.8/dist-packages (from requests->underthesea) (3.0.4)\n",
            "Requirement already satisfied: idna<3,>=2.5 in /usr/local/lib/python3.8/dist-packages (from requests->underthesea) (2.10)\n",
            "Requirement already satisfied: urllib3!=1.25.0,!=1.25.1,<1.26,>=1.21.1 in /usr/local/lib/python3.8/dist-packages (from requests->underthesea) (1.24.3)\n",
            "Requirement already satisfied: threadpoolctl>=2.0.0 in /usr/local/lib/python3.8/dist-packages (from scikit-learn->underthesea) (3.1.0)\n",
            "Requirement already satisfied: scipy>=1.1.0 in /usr/local/lib/python3.8/dist-packages (from scikit-learn->underthesea) (1.7.3)\n",
            "Requirement already satisfied: numpy>=1.14.6 in /usr/local/lib/python3.8/dist-packages (from scikit-learn->underthesea) (1.21.6)\n"
          ]
        }
      ]
    },
    {
      "cell_type": "code",
      "source": [
        "from underthesea import word_tokenize "
      ],
      "metadata": {
        "id": "LykjfldcooFO"
      },
      "execution_count": null,
      "outputs": []
    },
    {
      "cell_type": "code",
      "source": [
        "with open('CS221-Project/tokenize/underthesea_tokens.txt', 'w', encoding='utf-8') as f:\n",
        "  underthesea_sentences = []\n",
        "  for sentence in sentences:\n",
        "      word_list = word_tokenize(str(sentence).strip(),format=\"text\")\n",
        "      word_list = word_list.split(\" \")\n",
        "      underthesea_sentences.append(' '.join(word_list))\n",
        "      for word in word_list: \n",
        "        f.write(word + '\\n') \n",
        "      if sentence != sentences[-1]: f.write('\\n')\n",
        "  f.write('\\n')\n",
        "underthesea_sentences[30:35]"
      ],
      "metadata": {
        "colab": {
          "base_uri": "https://localhost:8080/"
        },
        "id": "w_2811gyo_jl",
        "outputId": "5772e675-7ee2-4fa2-ed55-d192d22e8bb1"
      },
      "execution_count": null,
      "outputs": [
        {
          "output_type": "execute_result",
          "data": {
            "text/plain": [
              "['Em học năm nhất thì HK2 có nên đăng_ký các môn chính_trị không ạ , hay_là cứ như kế_hoạch học_tập trong sổ_tay sinh_viên ạ ?',\n",
              " 'Cho em hỏi còn môn lập_trình hướng đối_tượng có nên đăng_ký không , vì em còn code yếu ?',\n",
              " 'Cho em hỏi là học thể_dục thì em có_thể mua áo UIT màu trắng ở đâu ạ ?',\n",
              " 'Nếu không còn bán thì em có_thể mặc áo màu cam của chương_trình OEP được không ạ ?',\n",
              " 'Wifi của trường UIT_public và UIT có tốc_độ cực_kì chậm tại Thư_viện , ngoài_ra thì hệ_thống cáp wifi cắm vào laptop ở các dãy bàn của thư_viện cũng không hoạt_động .']"
            ]
          },
          "metadata": {},
          "execution_count": 918
        }
      ]
    },
    {
      "cell_type": "code",
      "source": [
        "count_underthesea_tokenize_compounds = 0\n",
        "for sentence in underthesea_sentences:\n",
        "    for word in sentence:\n",
        "        if '_' in word: count_underthesea_tokenize_compounds += 1\n",
        "print('Số lượng từ ghép khi tách từ bằng thư viện underthesea:', count_underthesea_tokenize_compounds)"
      ],
      "metadata": {
        "colab": {
          "base_uri": "https://localhost:8080/"
        },
        "id": "kPrnMQRkq7Qu",
        "outputId": "b4b91c70-513e-4945-9517-7cea4867124d"
      },
      "execution_count": null,
      "outputs": [
        {
          "output_type": "stream",
          "name": "stdout",
          "text": [
            "Số lượng từ ghép khi tách từ bằng thư viện underthesea: 357\n"
          ]
        }
      ]
    },
    {
      "cell_type": "markdown",
      "source": [
        "##3.3 Tách từ bán thủ công"
      ],
      "metadata": {
        "id": "s2Q-VXvGAVaF"
      }
    },
    {
      "cell_type": "code",
      "source": [
        "with open('CS221-Project/tokenize/manual_tokens.txt', 'r', encoding='utf-8') as f:\n",
        "    manual_tokenize_sentences = []\n",
        "    sentence = ''\n",
        "    for word in f:\n",
        "        if word == '\\n': \n",
        "            manual_tokenize_sentences.append(sentence.strip())\n",
        "            sentence = ''\n",
        "        else: sentence += word.replace('\\n', ' ')\n",
        "manual_tokenize_sentences[30:35]"
      ],
      "metadata": {
        "colab": {
          "base_uri": "https://localhost:8080/"
        },
        "id": "_DdmCAEQAIjm",
        "outputId": "4b880e02-bd4c-460e-f144-97141ef6c441"
      },
      "execution_count": null,
      "outputs": [
        {
          "output_type": "execute_result",
          "data": {
            "text/plain": [
              "['Em  học  năm  nhất thì  HK2 có  nên  đăng_ký  các  môn  chính_trị không  ạ  , hay_là cứ như  kế_hoạch học_tập  trong  sổ_tay sinh_viên  ạ ?',\n",
              " 'Cho  em  hỏi  còn  môn  lập_trình hướng đối_tượng có  nên  đăng_ký  không , vì  em  còn  code yếu ?',\n",
              " 'Cho  em  hỏi  là  học  thể_dục thì  em  có_thể  mua áo UIT  màu trắng ở  đâu  ạ ?',\n",
              " 'Nếu  không còn bán thì  em  có_thể  mặc áo màu cam của  chương_trình OEP được  không  ạ ?',\n",
              " 'Wifi  của  trường  UIT_public và  UIT có  tốc_độ cực_kì chậm tại  Thư_viện , ngoài_ra thì  hệ_thống  cáp wifi  cắm vào  laptop ở  các  dãy bàn của  thư_viện cũng  không  hoạt_động .']"
            ]
          },
          "metadata": {},
          "execution_count": 920
        }
      ]
    },
    {
      "cell_type": "code",
      "source": [
        "count_manual_tokenize_compounds = 0\n",
        "for sentence in manual_tokenize_sentences:\n",
        "    for word in sentence.split():\n",
        "        if '_' in word: count_manual_tokenize_compounds += 1\n",
        "print('Số lượng từ ghép khi tách từ thủ công:', count_manual_tokenize_compounds)"
      ],
      "metadata": {
        "colab": {
          "base_uri": "https://localhost:8080/"
        },
        "id": "5zSBhauBHkz9",
        "outputId": "f9a1ddf1-c138-4c3d-b551-45a30f061989"
      },
      "execution_count": null,
      "outputs": [
        {
          "output_type": "stream",
          "name": "stdout",
          "text": [
            "Số lượng từ ghép khi tách từ thủ công: 339\n"
          ]
        }
      ]
    },
    {
      "cell_type": "markdown",
      "source": [
        "## 3.4 Đánh giá kết quả tách từ"
      ],
      "metadata": {
        "id": "zD03um66H_JL"
      }
    },
    {
      "cell_type": "code",
      "source": [
        "def count_correct_words(pred, source, n_grams=3):\n",
        "    pred_words = pred.split()\n",
        "    source_words = source.split()\n",
        "    \n",
        "    total_true, tp = 0, 0\n",
        "    total_errors, fp = 0, 0\n",
        "    \n",
        "    idx = 0\n",
        "    while idx < len(pred_words):\n",
        "        if pred_words[idx] not in source_words[idx:(idx + n_grams)]: \n",
        "            if '_' in pred_words[idx]: fp += 1\n",
        "            del pred_words[idx]\n",
        "            total_errors += 1\n",
        "        else: idx += 1\n",
        "    \n",
        "    idx = 0\n",
        "    while idx < len(source_words):\n",
        "        if source_words[idx] not in pred_words[idx:(idx + n_grams)]: \n",
        "            del source_words[idx]\n",
        "        else: idx += 1\n",
        "    \n",
        "    if len(pred_words) < len(source_words): words = pred_words\n",
        "    else: words = source_words\n",
        "    \n",
        "    for idx in range (len(words)):\n",
        "        if pred_words[idx] == source_words[idx]:\n",
        "            if '_' in pred_words[idx]: tp += 1 \n",
        "            total_true += 1\n",
        "                    \n",
        "    return total_true, total_errors, tp, fp"
      ],
      "metadata": {
        "id": "n3Y8vFfAHr88"
      },
      "execution_count": null,
      "outputs": []
    },
    {
      "cell_type": "code",
      "source": [
        "def tokenize_evaluation(pred, source, n_grams=3):\n",
        "    total_true = 0\n",
        "    total_errors = 0\n",
        "    total_words = 0\n",
        "    \n",
        "    pred_tp = 0\n",
        "    pred_fp = 0\n",
        "    \n",
        "    for pred_sentence, source_sentence in zip(pred, source):\n",
        "        total_words += len(source_sentence.split())\n",
        "        if pred_sentence != source_sentence:\n",
        "            true, error, tp, fp = count_correct_words(pred_sentence, source_sentence, n_grams)\n",
        "            total_true += true \n",
        "            total_errors += error\n",
        "            pred_tp += tp\n",
        "            pred_fp += fp\n",
        "        else:\n",
        "            for word in source_sentence.split():\n",
        "                if '_' in word: pred_tp += 1\n",
        "                total_true += 1\n",
        "    return {\n",
        "        'Accuracy': total_true / total_words, \n",
        "        'Precision': pred_tp / (pred_tp + pred_fp),\n",
        "        'Recall': pred_tp / count_manual_tokenize_compounds,\n",
        "        'True Positive': pred_tp, \n",
        "        'False Positive': pred_fp,\n",
        "        'Total True': total_true, \n",
        "        'Total Errors': total_errors\n",
        "    }"
      ],
      "metadata": {
        "id": "Ub_tQBc6JK0l"
      },
      "execution_count": null,
      "outputs": []
    },
    {
      "cell_type": "code",
      "source": [
        "longest_matching_evaluation = tokenize_evaluation(longest_matching_sentences, manual_tokenize_sentences)\n",
        "vncore_evaluation = tokenize_evaluation(vncore_sentences, manual_tokenize_sentences)\n",
        "underthesea_evaluation = tokenize_evaluation(underthesea_sentences, manual_tokenize_sentences)\n",
        "pd.DataFrame(\n",
        "    [longest_matching_evaluation, vncore_evaluation, underthesea_evaluation], \n",
        "    index = ['Longest Matching', 'VnCoreNLP','Underthesea']\n",
        ").astype(object).T"
      ],
      "metadata": {
        "colab": {
          "base_uri": "https://localhost:8080/",
          "height": 269
        },
        "id": "8hpTuTFhJQLt",
        "outputId": "9adcfa03-dc2d-48c5-c97a-9fabd78fd886"
      },
      "execution_count": null,
      "outputs": [
        {
          "output_type": "execute_result",
          "data": {
            "text/plain": [
              "               Longest Matching VnCoreNLP Underthesea\n",
              "Accuracy               0.491239  0.902115    0.883384\n",
              "Precision              0.453552  0.904478    0.876081\n",
              "Recall                 0.244838  0.893805    0.896755\n",
              "True Positive                83       303         304\n",
              "False Positive              100        32          43\n",
              "Total True                  813      1493        1462\n",
              "Total Errors               1005       136         156"
            ],
            "text/html": [
              "\n",
              "  <div id=\"df-d2fde7ec-b892-49bc-9cbd-5dd992567ab4\">\n",
              "    <div class=\"colab-df-container\">\n",
              "      <div>\n",
              "<style scoped>\n",
              "    .dataframe tbody tr th:only-of-type {\n",
              "        vertical-align: middle;\n",
              "    }\n",
              "\n",
              "    .dataframe tbody tr th {\n",
              "        vertical-align: top;\n",
              "    }\n",
              "\n",
              "    .dataframe thead th {\n",
              "        text-align: right;\n",
              "    }\n",
              "</style>\n",
              "<table border=\"1\" class=\"dataframe\">\n",
              "  <thead>\n",
              "    <tr style=\"text-align: right;\">\n",
              "      <th></th>\n",
              "      <th>Longest Matching</th>\n",
              "      <th>VnCoreNLP</th>\n",
              "      <th>Underthesea</th>\n",
              "    </tr>\n",
              "  </thead>\n",
              "  <tbody>\n",
              "    <tr>\n",
              "      <th>Accuracy</th>\n",
              "      <td>0.491239</td>\n",
              "      <td>0.902115</td>\n",
              "      <td>0.883384</td>\n",
              "    </tr>\n",
              "    <tr>\n",
              "      <th>Precision</th>\n",
              "      <td>0.453552</td>\n",
              "      <td>0.904478</td>\n",
              "      <td>0.876081</td>\n",
              "    </tr>\n",
              "    <tr>\n",
              "      <th>Recall</th>\n",
              "      <td>0.244838</td>\n",
              "      <td>0.893805</td>\n",
              "      <td>0.896755</td>\n",
              "    </tr>\n",
              "    <tr>\n",
              "      <th>True Positive</th>\n",
              "      <td>83</td>\n",
              "      <td>303</td>\n",
              "      <td>304</td>\n",
              "    </tr>\n",
              "    <tr>\n",
              "      <th>False Positive</th>\n",
              "      <td>100</td>\n",
              "      <td>32</td>\n",
              "      <td>43</td>\n",
              "    </tr>\n",
              "    <tr>\n",
              "      <th>Total True</th>\n",
              "      <td>813</td>\n",
              "      <td>1493</td>\n",
              "      <td>1462</td>\n",
              "    </tr>\n",
              "    <tr>\n",
              "      <th>Total Errors</th>\n",
              "      <td>1005</td>\n",
              "      <td>136</td>\n",
              "      <td>156</td>\n",
              "    </tr>\n",
              "  </tbody>\n",
              "</table>\n",
              "</div>\n",
              "      <button class=\"colab-df-convert\" onclick=\"convertToInteractive('df-d2fde7ec-b892-49bc-9cbd-5dd992567ab4')\"\n",
              "              title=\"Convert this dataframe to an interactive table.\"\n",
              "              style=\"display:none;\">\n",
              "        \n",
              "  <svg xmlns=\"http://www.w3.org/2000/svg\" height=\"24px\"viewBox=\"0 0 24 24\"\n",
              "       width=\"24px\">\n",
              "    <path d=\"M0 0h24v24H0V0z\" fill=\"none\"/>\n",
              "    <path d=\"M18.56 5.44l.94 2.06.94-2.06 2.06-.94-2.06-.94-.94-2.06-.94 2.06-2.06.94zm-11 1L8.5 8.5l.94-2.06 2.06-.94-2.06-.94L8.5 2.5l-.94 2.06-2.06.94zm10 10l.94 2.06.94-2.06 2.06-.94-2.06-.94-.94-2.06-.94 2.06-2.06.94z\"/><path d=\"M17.41 7.96l-1.37-1.37c-.4-.4-.92-.59-1.43-.59-.52 0-1.04.2-1.43.59L10.3 9.45l-7.72 7.72c-.78.78-.78 2.05 0 2.83L4 21.41c.39.39.9.59 1.41.59.51 0 1.02-.2 1.41-.59l7.78-7.78 2.81-2.81c.8-.78.8-2.07 0-2.86zM5.41 20L4 18.59l7.72-7.72 1.47 1.35L5.41 20z\"/>\n",
              "  </svg>\n",
              "      </button>\n",
              "      \n",
              "  <style>\n",
              "    .colab-df-container {\n",
              "      display:flex;\n",
              "      flex-wrap:wrap;\n",
              "      gap: 12px;\n",
              "    }\n",
              "\n",
              "    .colab-df-convert {\n",
              "      background-color: #E8F0FE;\n",
              "      border: none;\n",
              "      border-radius: 50%;\n",
              "      cursor: pointer;\n",
              "      display: none;\n",
              "      fill: #1967D2;\n",
              "      height: 32px;\n",
              "      padding: 0 0 0 0;\n",
              "      width: 32px;\n",
              "    }\n",
              "\n",
              "    .colab-df-convert:hover {\n",
              "      background-color: #E2EBFA;\n",
              "      box-shadow: 0px 1px 2px rgba(60, 64, 67, 0.3), 0px 1px 3px 1px rgba(60, 64, 67, 0.15);\n",
              "      fill: #174EA6;\n",
              "    }\n",
              "\n",
              "    [theme=dark] .colab-df-convert {\n",
              "      background-color: #3B4455;\n",
              "      fill: #D2E3FC;\n",
              "    }\n",
              "\n",
              "    [theme=dark] .colab-df-convert:hover {\n",
              "      background-color: #434B5C;\n",
              "      box-shadow: 0px 1px 3px 1px rgba(0, 0, 0, 0.15);\n",
              "      filter: drop-shadow(0px 1px 2px rgba(0, 0, 0, 0.3));\n",
              "      fill: #FFFFFF;\n",
              "    }\n",
              "  </style>\n",
              "\n",
              "      <script>\n",
              "        const buttonEl =\n",
              "          document.querySelector('#df-d2fde7ec-b892-49bc-9cbd-5dd992567ab4 button.colab-df-convert');\n",
              "        buttonEl.style.display =\n",
              "          google.colab.kernel.accessAllowed ? 'block' : 'none';\n",
              "\n",
              "        async function convertToInteractive(key) {\n",
              "          const element = document.querySelector('#df-d2fde7ec-b892-49bc-9cbd-5dd992567ab4');\n",
              "          const dataTable =\n",
              "            await google.colab.kernel.invokeFunction('convertToInteractive',\n",
              "                                                     [key], {});\n",
              "          if (!dataTable) return;\n",
              "\n",
              "          const docLinkHtml = 'Like what you see? Visit the ' +\n",
              "            '<a target=\"_blank\" href=https://colab.research.google.com/notebooks/data_table.ipynb>data table notebook</a>'\n",
              "            + ' to learn more about interactive tables.';\n",
              "          element.innerHTML = '';\n",
              "          dataTable['output_type'] = 'display_data';\n",
              "          await google.colab.output.renderOutput(dataTable, element);\n",
              "          const docLink = document.createElement('div');\n",
              "          docLink.innerHTML = docLinkHtml;\n",
              "          element.appendChild(docLink);\n",
              "        }\n",
              "      </script>\n",
              "    </div>\n",
              "  </div>\n",
              "  "
            ]
          },
          "metadata": {},
          "execution_count": 924
        }
      ]
    },
    {
      "cell_type": "markdown",
      "source": [
        "# 4. Tạo ngữ liệu"
      ],
      "metadata": {
        "id": "wOqAnWgoMWJT"
      }
    },
    {
      "cell_type": "code",
      "source": [
        "longest_matching_tokens = open('CS221-Project/tokenize/longest_matching_tokens.txt', encoding='utf-8').readlines()\n",
        "print('Số lượng từ:', len(longest_matching_tokens))\n",
        "longest_matching_tokens[0:5]"
      ],
      "metadata": {
        "colab": {
          "base_uri": "https://localhost:8080/"
        },
        "id": "m7FHlQtGMZuL",
        "outputId": "63ef4499-4934-441b-9c89-d3738ea46eb8"
      },
      "execution_count": null,
      "outputs": [
        {
          "output_type": "stream",
          "name": "stdout",
          "text": [
            "Số lượng từ: 1905\n"
          ]
        },
        {
          "output_type": "execute_result",
          "data": {
            "text/plain": [
              "['Để\\n', 'đủ\\n', 'điều_kiện\\n', 'ra\\n', 'trường\\n']"
            ]
          },
          "metadata": {},
          "execution_count": 925
        }
      ]
    },
    {
      "cell_type": "code",
      "source": [
        "vncore_tokens = open('CS221-Project/tokenize/vncore_tokens.txt', encoding='utf-8').readlines()\n",
        "print('Số lượng từ:', len(vncore_tokens))\n",
        "vncore_tokens[0:5]"
      ],
      "metadata": {
        "colab": {
          "base_uri": "https://localhost:8080/"
        },
        "id": "PCsMQQ5RMfsL",
        "outputId": "bb805083-d711-4f6d-e3fa-58dddd7fe6df"
      },
      "execution_count": null,
      "outputs": [
        {
          "output_type": "stream",
          "name": "stdout",
          "text": [
            "Số lượng từ: 1717\n"
          ]
        },
        {
          "output_type": "execute_result",
          "data": {
            "text/plain": [
              "['Để\\n', 'đủ\\n', 'điều_kiện\\n', 'ra\\n', 'trường\\n']"
            ]
          },
          "metadata": {},
          "execution_count": 926
        }
      ]
    },
    {
      "cell_type": "code",
      "source": [
        "manual_tokens = open('CS221-Project/tokenize/manual_tokens.txt', encoding='utf-8').readlines()\n",
        "print('Số lượng từ:', len(manual_tokens))\n",
        "manual_tokens[0:5]"
      ],
      "metadata": {
        "colab": {
          "base_uri": "https://localhost:8080/"
        },
        "id": "gh8B6FQcNUuz",
        "outputId": "255e1112-a62a-4361-f39a-94fcc75c15e5"
      },
      "execution_count": null,
      "outputs": [
        {
          "output_type": "stream",
          "name": "stdout",
          "text": [
            "Số lượng từ: 1715\n"
          ]
        },
        {
          "output_type": "execute_result",
          "data": {
            "text/plain": [
              "['Để\\n', 'đủ\\n', 'điều_kiện\\n', 'ra\\n', 'trường\\n']"
            ]
          },
          "metadata": {},
          "execution_count": 927
        }
      ]
    },
    {
      "cell_type": "code",
      "source": [
        "underthesea_tokens = open('CS221-Project/tokenize/underthesea_tokens.txt', encoding='utf-8').readlines()\n",
        "print('Số lượng từ:', len(underthesea_tokens))\n",
        "underthesea_tokens[0:5]"
      ],
      "metadata": {
        "colab": {
          "base_uri": "https://localhost:8080/"
        },
        "id": "K-9GZqEs8Iop",
        "outputId": "3a94487c-f561-4619-9435-964f6e2143c1"
      },
      "execution_count": null,
      "outputs": [
        {
          "output_type": "stream",
          "name": "stdout",
          "text": [
            "Số lượng từ: 1709\n"
          ]
        },
        {
          "output_type": "execute_result",
          "data": {
            "text/plain": [
              "['Để\\n', 'đủ\\n', 'điều_kiện\\n', 'ra\\n', 'trường\\n']"
            ]
          },
          "metadata": {},
          "execution_count": 928
        }
      ]
    },
    {
      "cell_type": "markdown",
      "source": [
        "## 4.1 Tạo ngữ liệu bán thủ công: Gán nhãn trước bằng VncoreNLP sau đó kiểm tra lại nhãn"
      ],
      "metadata": {
        "id": "hWC6gE1XNl3U"
      }
    },
    {
      "cell_type": "code",
      "source": [
        "def vncore_postag(word_input):\n",
        "  vncore_word = model.annotate_text(word_input)\n",
        "  sent = vncore_word[0]\n",
        "  for word in sent:\n",
        "    tag = word[\"posTag\"]\n",
        "  return tag"
      ],
      "metadata": {
        "id": "IuQYpFglOCRT"
      },
      "execution_count": null,
      "outputs": []
    },
    {
      "cell_type": "code",
      "source": [
        "# with open('CS221-Project/dataset/vncore.txt', 'w', encoding='utf-8') as f:\n",
        "#   for word in manual_tokens:\n",
        "#     word = word.replace('\\n', '')\n",
        "#     if word == '':\n",
        "#       tag = []\n",
        "#     elif '_' not in word: tag = vncore_postag(word)\n",
        "#     else: tag = vncore_postag(word.replace('_', ' '))\n",
        "        \n",
        "#     if tag == []: f.write('\\n')\n",
        "#     else: f.write(f'{word}\\t{tag}\\n')\n",
        "#   f.write('\\n')"
      ],
      "metadata": {
        "id": "dCGXtrIuNb5T"
      },
      "execution_count": null,
      "outputs": []
    },
    {
      "cell_type": "code",
      "execution_count": null,
      "metadata": {
        "id": "_FVsgbtLjrze",
        "colab": {
          "base_uri": "https://localhost:8080/"
        },
        "outputId": "50648f74-03b7-4772-9543-10fb478c2f34"
      },
      "outputs": [
        {
          "output_type": "stream",
          "name": "stdout",
          "text": [
            "60\n"
          ]
        }
      ],
      "source": [
        "#Mảng new_line_idx lưu độ dài mỗi câu, kết thúc câu bằng ký tự '\\n'\n",
        "gold_corpus = open('/content/CS221-Project/dataset/gold.txt', encoding='utf-8').readlines()\n",
        "new_line_idx = [i for i, item in enumerate(manual_tokens) if item == '\\n']\n",
        "print(len(new_line_idx))"
      ]
    },
    {
      "cell_type": "code",
      "execution_count": null,
      "metadata": {
        "id": "0oqs-sbnjtCi"
      },
      "outputs": [],
      "source": [
        "index = 50\n",
        "with open('CS221-Project/dataset/train_gold.txt', 'w', encoding='utf-8') as f:\n",
        "    for line in gold_corpus[:new_line_idx[index]]: f.write(line)\n",
        "    \n",
        "with open('CS221-Project/dataset/test_gold.txt', 'w', encoding='utf-8') as f:\n",
        "    for line in gold_corpus[new_line_idx[index] + 1:]: f.write(line)"
      ]
    },
    {
      "cell_type": "code",
      "execution_count": null,
      "metadata": {
        "id": "vj-svUuo4N6w"
      },
      "outputs": [],
      "source": [
        "with open('CS221-Project/dataset/train_words.txt', 'w', encoding='utf-8') as f:\n",
        "    for line in gold_corpus[:new_line_idx[index]]: f.write(re.sub('\\t.*', '', line))\n",
        "    # f.write('\\n')        \n",
        "    \n",
        "with open('CS221-Project/dataset/test_words.txt', 'w', encoding='utf-8') as f:\n",
        "    for line in gold_corpus[new_line_idx[index] + 1:]: f.write(re.sub('\\t.*', '', line))"
      ]
    },
    {
      "cell_type": "markdown",
      "metadata": {
        "id": "jMX8bAro62ui"
      },
      "source": [
        "# 5. Đọc dữ liệu"
      ]
    },
    {
      "cell_type": "code",
      "execution_count": null,
      "metadata": {
        "id": "9kQPLCXA7VCp"
      },
      "outputs": [],
      "source": [
        "def preprocess(vocabs_dict, path):\n",
        "    data = []\n",
        "    file = open(path, encoding='utf-8').readlines()\n",
        "    \n",
        "    for index, word in enumerate(file):\n",
        "        if not word.split():\n",
        "            word = '--n--'\n",
        "            data.append(word)\n",
        "            continue\n",
        "        elif word.strip() not in vocabs_dict:\n",
        "            word = '--unk--'\n",
        "            data.append(word)\n",
        "            continue\n",
        "        data.append(word.strip())\n",
        "    return data"
      ]
    },
    {
      "cell_type": "code",
      "execution_count": null,
      "metadata": {
        "id": "4eePQNI47WjT"
      },
      "outputs": [],
      "source": [
        "def plot_tag_counts(gold):\n",
        "    # for word_tag in gold:\n",
        "    #    if word_tag.split():\n",
        "    #      print(word_tag.split()[0],\" \",word_tag.split()[1])\n",
        "    tags = [word_tag.split()[1] for word_tag in gold if word_tag.split()] # Lấy nhãn của từng từ tạo thành một danh sách các nhãn\n",
        "    tag_counts = pd.DataFrame(tags)[0].value_counts() # Đếm tần số xuất hiện của từng nhãn\n",
        "    print(tag_counts) \n",
        "    tag_counts.plot.bar(rot=0, width=0.7, legend=False, figsize=(15, 5))\n",
        "    return pd.DataFrame(tag_counts).T.assign(Total=tag_counts.sum()) "
      ]
    },
    {
      "cell_type": "code",
      "source": [
        "go = open('/content/CS221-Project/dataset/gold.txt', encoding='utf-8').readlines()\n",
        "plot_tag_counts(go)"
      ],
      "metadata": {
        "colab": {
          "base_uri": "https://localhost:8080/",
          "height": 731
        },
        "id": "1CsEWUtYrmKF",
        "outputId": "624b45e0-d391-422a-8649-84c9fbf6a50f"
      },
      "execution_count": null,
      "outputs": [
        {
          "output_type": "stream",
          "name": "stdout",
          "text": [
            "N     453\n",
            "V     396\n",
            "R     141\n",
            "CH    132\n",
            "C     105\n",
            "E      92\n",
            "X      73\n",
            "A      71\n",
            "P      49\n",
            "D      49\n",
            "M      26\n",
            "I      24\n",
            "Cc     23\n",
            "Np     10\n",
            "Ni      5\n",
            "Z       2\n",
            "Nu      1\n",
            "Nc      1\n",
            "O       1\n",
            "Name: 0, dtype: int64\n"
          ]
        },
        {
          "output_type": "execute_result",
          "data": {
            "text/plain": [
              "     N    V    R   CH    C   E   X   A   P   D   M   I  Cc  Np  Ni  Z  Nu  Nc  \\\n",
              "0  453  396  141  132  105  92  73  71  49  49  26  24  23  10   5  2   1   1   \n",
              "\n",
              "   O  Total  \n",
              "0  1   1654  "
            ],
            "text/html": [
              "\n",
              "  <div id=\"df-638d3c0b-1a7c-46eb-a1b5-b4574e3bd29a\">\n",
              "    <div class=\"colab-df-container\">\n",
              "      <div>\n",
              "<style scoped>\n",
              "    .dataframe tbody tr th:only-of-type {\n",
              "        vertical-align: middle;\n",
              "    }\n",
              "\n",
              "    .dataframe tbody tr th {\n",
              "        vertical-align: top;\n",
              "    }\n",
              "\n",
              "    .dataframe thead th {\n",
              "        text-align: right;\n",
              "    }\n",
              "</style>\n",
              "<table border=\"1\" class=\"dataframe\">\n",
              "  <thead>\n",
              "    <tr style=\"text-align: right;\">\n",
              "      <th></th>\n",
              "      <th>N</th>\n",
              "      <th>V</th>\n",
              "      <th>R</th>\n",
              "      <th>CH</th>\n",
              "      <th>C</th>\n",
              "      <th>E</th>\n",
              "      <th>X</th>\n",
              "      <th>A</th>\n",
              "      <th>P</th>\n",
              "      <th>D</th>\n",
              "      <th>M</th>\n",
              "      <th>I</th>\n",
              "      <th>Cc</th>\n",
              "      <th>Np</th>\n",
              "      <th>Ni</th>\n",
              "      <th>Z</th>\n",
              "      <th>Nu</th>\n",
              "      <th>Nc</th>\n",
              "      <th>O</th>\n",
              "      <th>Total</th>\n",
              "    </tr>\n",
              "  </thead>\n",
              "  <tbody>\n",
              "    <tr>\n",
              "      <th>0</th>\n",
              "      <td>453</td>\n",
              "      <td>396</td>\n",
              "      <td>141</td>\n",
              "      <td>132</td>\n",
              "      <td>105</td>\n",
              "      <td>92</td>\n",
              "      <td>73</td>\n",
              "      <td>71</td>\n",
              "      <td>49</td>\n",
              "      <td>49</td>\n",
              "      <td>26</td>\n",
              "      <td>24</td>\n",
              "      <td>23</td>\n",
              "      <td>10</td>\n",
              "      <td>5</td>\n",
              "      <td>2</td>\n",
              "      <td>1</td>\n",
              "      <td>1</td>\n",
              "      <td>1</td>\n",
              "      <td>1654</td>\n",
              "    </tr>\n",
              "  </tbody>\n",
              "</table>\n",
              "</div>\n",
              "      <button class=\"colab-df-convert\" onclick=\"convertToInteractive('df-638d3c0b-1a7c-46eb-a1b5-b4574e3bd29a')\"\n",
              "              title=\"Convert this dataframe to an interactive table.\"\n",
              "              style=\"display:none;\">\n",
              "        \n",
              "  <svg xmlns=\"http://www.w3.org/2000/svg\" height=\"24px\"viewBox=\"0 0 24 24\"\n",
              "       width=\"24px\">\n",
              "    <path d=\"M0 0h24v24H0V0z\" fill=\"none\"/>\n",
              "    <path d=\"M18.56 5.44l.94 2.06.94-2.06 2.06-.94-2.06-.94-.94-2.06-.94 2.06-2.06.94zm-11 1L8.5 8.5l.94-2.06 2.06-.94-2.06-.94L8.5 2.5l-.94 2.06-2.06.94zm10 10l.94 2.06.94-2.06 2.06-.94-2.06-.94-.94-2.06-.94 2.06-2.06.94z\"/><path d=\"M17.41 7.96l-1.37-1.37c-.4-.4-.92-.59-1.43-.59-.52 0-1.04.2-1.43.59L10.3 9.45l-7.72 7.72c-.78.78-.78 2.05 0 2.83L4 21.41c.39.39.9.59 1.41.59.51 0 1.02-.2 1.41-.59l7.78-7.78 2.81-2.81c.8-.78.8-2.07 0-2.86zM5.41 20L4 18.59l7.72-7.72 1.47 1.35L5.41 20z\"/>\n",
              "  </svg>\n",
              "      </button>\n",
              "      \n",
              "  <style>\n",
              "    .colab-df-container {\n",
              "      display:flex;\n",
              "      flex-wrap:wrap;\n",
              "      gap: 12px;\n",
              "    }\n",
              "\n",
              "    .colab-df-convert {\n",
              "      background-color: #E8F0FE;\n",
              "      border: none;\n",
              "      border-radius: 50%;\n",
              "      cursor: pointer;\n",
              "      display: none;\n",
              "      fill: #1967D2;\n",
              "      height: 32px;\n",
              "      padding: 0 0 0 0;\n",
              "      width: 32px;\n",
              "    }\n",
              "\n",
              "    .colab-df-convert:hover {\n",
              "      background-color: #E2EBFA;\n",
              "      box-shadow: 0px 1px 2px rgba(60, 64, 67, 0.3), 0px 1px 3px 1px rgba(60, 64, 67, 0.15);\n",
              "      fill: #174EA6;\n",
              "    }\n",
              "\n",
              "    [theme=dark] .colab-df-convert {\n",
              "      background-color: #3B4455;\n",
              "      fill: #D2E3FC;\n",
              "    }\n",
              "\n",
              "    [theme=dark] .colab-df-convert:hover {\n",
              "      background-color: #434B5C;\n",
              "      box-shadow: 0px 1px 3px 1px rgba(0, 0, 0, 0.15);\n",
              "      filter: drop-shadow(0px 1px 2px rgba(0, 0, 0, 0.3));\n",
              "      fill: #FFFFFF;\n",
              "    }\n",
              "  </style>\n",
              "\n",
              "      <script>\n",
              "        const buttonEl =\n",
              "          document.querySelector('#df-638d3c0b-1a7c-46eb-a1b5-b4574e3bd29a button.colab-df-convert');\n",
              "        buttonEl.style.display =\n",
              "          google.colab.kernel.accessAllowed ? 'block' : 'none';\n",
              "\n",
              "        async function convertToInteractive(key) {\n",
              "          const element = document.querySelector('#df-638d3c0b-1a7c-46eb-a1b5-b4574e3bd29a');\n",
              "          const dataTable =\n",
              "            await google.colab.kernel.invokeFunction('convertToInteractive',\n",
              "                                                     [key], {});\n",
              "          if (!dataTable) return;\n",
              "\n",
              "          const docLinkHtml = 'Like what you see? Visit the ' +\n",
              "            '<a target=\"_blank\" href=https://colab.research.google.com/notebooks/data_table.ipynb>data table notebook</a>'\n",
              "            + ' to learn more about interactive tables.';\n",
              "          element.innerHTML = '';\n",
              "          dataTable['output_type'] = 'display_data';\n",
              "          await google.colab.output.renderOutput(dataTable, element);\n",
              "          const docLink = document.createElement('div');\n",
              "          docLink.innerHTML = docLinkHtml;\n",
              "          element.appendChild(docLink);\n",
              "        }\n",
              "      </script>\n",
              "    </div>\n",
              "  </div>\n",
              "  "
            ]
          },
          "metadata": {},
          "execution_count": 936
        },
        {
          "output_type": "display_data",
          "data": {
            "text/plain": [
              "<Figure size 1080x360 with 1 Axes>"
            ],
            "image/png": "[encoded data removed]"
          },
          "metadata": {
            "needs_background": "light"
          }
        }
      ]
    },
    {
      "cell_type": "markdown",
      "metadata": {
        "id": "0Efv4deCK-Xi"
      },
      "source": [
        "## 5.1 Từ vựng"
      ]
    },
    {
      "cell_type": "code",
      "execution_count": null,
      "metadata": {
        "id": "9g2qHDBU8aFn"
      },
      "outputs": [],
      "source": [
        "vocabs = open('CS221-Project/resources/vocabs.txt', encoding='utf-8').read().split('\\n')\n",
        "vocabs_dict = {}\n",
        "index = 0\n",
        "\n",
        "for word in sorted(vocabs): \n",
        "    if word not in vocabs_dict: \n",
        "        vocabs_dict[word] = index  \n",
        "        index += 1"
      ]
    },
    {
      "cell_type": "code",
      "execution_count": null,
      "metadata": {
        "id": "iGBkCJ7UK86-",
        "colab": {
          "base_uri": "https://localhost:8080/"
        },
        "outputId": "0c7f4bdc-c358-4179-816f-3bc8fee2a332"
      },
      "outputs": [
        {
          "output_type": "stream",
          "name": "stdout",
          "text": [
            "Số lượng từ vựng: 54818\n",
            ": 0\n",
            "!: 1\n",
            "\": 2\n",
            "#: 3\n",
            "$: 4\n",
            "%: 5\n",
            "&: 6\n",
            "': 7\n",
            "'': 8\n",
            "'40s: 9\n",
            "'60s: 10\n"
          ]
        }
      ],
      "source": [
        "print('Số lượng từ vựng:', len(vocabs_dict.keys()))\n",
        "count = 0\n",
        "\n",
        "for key, value in vocabs_dict.items():\n",
        "    print(f'{key}: {value}')\n",
        "    count += 1\n",
        "    if count > 10: break"
      ]
    },
    {
      "cell_type": "markdown",
      "metadata": {
        "id": "gXkBd-7pL01G"
      },
      "source": [
        "## 5.2 Tập đữ liệu huấn luyện"
      ]
    },
    {
      "cell_type": "code",
      "execution_count": null,
      "metadata": {
        "id": "fojyfKcp8B66",
        "colab": {
          "base_uri": "https://localhost:8080/"
        },
        "outputId": "481557dc-fd93-4163-9f81-de01c259c274"
      },
      "outputs": [
        {
          "output_type": "stream",
          "name": "stdout",
          "text": [
            "Số lượng từ trong tập train_gold: 1492\n"
          ]
        }
      ],
      "source": [
        "train_gold = open('CS221-Project/dataset/train_gold.txt', encoding='utf-8').readlines()\n",
        "print('Số lượng từ trong tập train_gold:', len(train_gold))\n"
      ]
    },
    {
      "cell_type": "code",
      "execution_count": null,
      "metadata": {
        "id": "vxH127Ix8XLF",
        "colab": {
          "base_uri": "https://localhost:8080/"
        },
        "outputId": "e06d4b22-76c1-4ebf-991e-498b577e5529"
      },
      "outputs": [
        {
          "output_type": "stream",
          "name": "stdout",
          "text": [
            "Số lượng từ trong tập train_words: 1492\n"
          ]
        }
      ],
      "source": [
        "train_words = preprocess(vocabs_dict, 'CS221-Project/dataset/train_words.txt')\n",
        "print('Số lượng từ trong tập train_words:', len(train_words))"
      ]
    },
    {
      "cell_type": "code",
      "execution_count": null,
      "metadata": {
        "id": "4O2SaPVS8Srk",
        "colab": {
          "base_uri": "https://localhost:8080/",
          "height": 768
        },
        "outputId": "e7e48474-4852-4682-bc59-7604101a8b46"
      },
      "outputs": [
        {
          "output_type": "stream",
          "name": "stdout",
          "text": [
            "Các từ trong tập train không nằm trong từ điển: \n",
            "Để, Toeic, Nếu, Toeic, +, Bằng, Toeic, Toeic, Mình, Mini_Platform, TK25, SV, UIT, 000, /, khóa, Mình, KHTN, BKHCM, BKHN, ĐH, Công_Nghệ, Bất_kỳ, xóa, BHTCNPM, BQT, Ban, Nếu, Ban, Thầy, Khoa_học, Kỹ_thuật, Em, Toeic, /, cho_phép, chưa_thể, Em, Chào, khóa, K16, Giải_tích, Đại_số, Nhập_môn, Như, Cho, ĐGNL, Cho, ĐGNL, ĐGNL, Chuyện, 2021, xóa, Mình, Invision_Studio, file_setup, file_setup, Chào, gmail, mssv@gm.uit.edu.vn, Cho, ems, SV, KTX, Nhật, /, CNTT, KHMT, KTMT, KTPM, Mọi, Giới_thiệu, HTTT, /, Em, HK2, Cho, Cho, UIT, Nếu, OEP, Wifi, UIT_public, UIT, Thư_viện, wifi, Hôm_nay, C104, Mong, Dạ, SV, ko, Em, /, Em, thời_khóa_biểu, AV1, Email, gm.uit.edu.vn, Google, https://chungthuc.uit.edu.vn, Em, Em, Em, Doanh_nghiệp, …, Em, Khi, Sau, Em, PĐT, Cần, N     391\n",
            "V     343\n",
            "R     129\n",
            "CH    104\n",
            "C     102\n",
            "E      79\n",
            "X      68\n",
            "A      51\n",
            "P      47\n",
            "D      40\n",
            "M      26\n",
            "I      24\n",
            "Cc     21\n",
            "Np     10\n",
            "Z       2\n",
            "Nu      1\n",
            "Ni      1\n",
            "Nc      1\n",
            "O       1\n",
            "Name: 0, dtype: int64\n"
          ]
        },
        {
          "output_type": "execute_result",
          "data": {
            "text/plain": [
              "     N    V    R   CH    C   E   X   A   P   D   M   I  Cc  Np  Z  Nu  Ni  Nc  \\\n",
              "0  391  343  129  104  102  79  68  51  47  40  26  24  21  10  2   1   1   1   \n",
              "\n",
              "   O  Total  \n",
              "0  1   1441  "
            ],
            "text/html": [
              "\n",
              "  <div id=\"df-cddea924-88a5-4608-80ac-93258b3d4530\">\n",
              "    <div class=\"colab-df-container\">\n",
              "      <div>\n",
              "<style scoped>\n",
              "    .dataframe tbody tr th:only-of-type {\n",
              "        vertical-align: middle;\n",
              "    }\n",
              "\n",
              "    .dataframe tbody tr th {\n",
              "        vertical-align: top;\n",
              "    }\n",
              "\n",
              "    .dataframe thead th {\n",
              "        text-align: right;\n",
              "    }\n",
              "</style>\n",
              "<table border=\"1\" class=\"dataframe\">\n",
              "  <thead>\n",
              "    <tr style=\"text-align: right;\">\n",
              "      <th></th>\n",
              "      <th>N</th>\n",
              "      <th>V</th>\n",
              "      <th>R</th>\n",
              "      <th>CH</th>\n",
              "      <th>C</th>\n",
              "      <th>E</th>\n",
              "      <th>X</th>\n",
              "      <th>A</th>\n",
              "      <th>P</th>\n",
              "      <th>D</th>\n",
              "      <th>M</th>\n",
              "      <th>I</th>\n",
              "      <th>Cc</th>\n",
              "      <th>Np</th>\n",
              "      <th>Z</th>\n",
              "      <th>Nu</th>\n",
              "      <th>Ni</th>\n",
              "      <th>Nc</th>\n",
              "      <th>O</th>\n",
              "      <th>Total</th>\n",
              "    </tr>\n",
              "  </thead>\n",
              "  <tbody>\n",
              "    <tr>\n",
              "      <th>0</th>\n",
              "      <td>391</td>\n",
              "      <td>343</td>\n",
              "      <td>129</td>\n",
              "      <td>104</td>\n",
              "      <td>102</td>\n",
              "      <td>79</td>\n",
              "      <td>68</td>\n",
              "      <td>51</td>\n",
              "      <td>47</td>\n",
              "      <td>40</td>\n",
              "      <td>26</td>\n",
              "      <td>24</td>\n",
              "      <td>21</td>\n",
              "      <td>10</td>\n",
              "      <td>2</td>\n",
              "      <td>1</td>\n",
              "      <td>1</td>\n",
              "      <td>1</td>\n",
              "      <td>1</td>\n",
              "      <td>1441</td>\n",
              "    </tr>\n",
              "  </tbody>\n",
              "</table>\n",
              "</div>\n",
              "      <button class=\"colab-df-convert\" onclick=\"convertToInteractive('df-cddea924-88a5-4608-80ac-93258b3d4530')\"\n",
              "              title=\"Convert this dataframe to an interactive table.\"\n",
              "              style=\"display:none;\">\n",
              "        \n",
              "  <svg xmlns=\"http://www.w3.org/2000/svg\" height=\"24px\"viewBox=\"0 0 24 24\"\n",
              "       width=\"24px\">\n",
              "    <path d=\"M0 0h24v24H0V0z\" fill=\"none\"/>\n",
              "    <path d=\"M18.56 5.44l.94 2.06.94-2.06 2.06-.94-2.06-.94-.94-2.06-.94 2.06-2.06.94zm-11 1L8.5 8.5l.94-2.06 2.06-.94-2.06-.94L8.5 2.5l-.94 2.06-2.06.94zm10 10l.94 2.06.94-2.06 2.06-.94-2.06-.94-.94-2.06-.94 2.06-2.06.94z\"/><path d=\"M17.41 7.96l-1.37-1.37c-.4-.4-.92-.59-1.43-.59-.52 0-1.04.2-1.43.59L10.3 9.45l-7.72 7.72c-.78.78-.78 2.05 0 2.83L4 21.41c.39.39.9.59 1.41.59.51 0 1.02-.2 1.41-.59l7.78-7.78 2.81-2.81c.8-.78.8-2.07 0-2.86zM5.41 20L4 18.59l7.72-7.72 1.47 1.35L5.41 20z\"/>\n",
              "  </svg>\n",
              "      </button>\n",
              "      \n",
              "  <style>\n",
              "    .colab-df-container {\n",
              "      display:flex;\n",
              "      flex-wrap:wrap;\n",
              "      gap: 12px;\n",
              "    }\n",
              "\n",
              "    .colab-df-convert {\n",
              "      background-color: #E8F0FE;\n",
              "      border: none;\n",
              "      border-radius: 50%;\n",
              "      cursor: pointer;\n",
              "      display: none;\n",
              "      fill: #1967D2;\n",
              "      height: 32px;\n",
              "      padding: 0 0 0 0;\n",
              "      width: 32px;\n",
              "    }\n",
              "\n",
              "    .colab-df-convert:hover {\n",
              "      background-color: #E2EBFA;\n",
              "      box-shadow: 0px 1px 2px rgba(60, 64, 67, 0.3), 0px 1px 3px 1px rgba(60, 64, 67, 0.15);\n",
              "      fill: #174EA6;\n",
              "    }\n",
              "\n",
              "    [theme=dark] .colab-df-convert {\n",
              "      background-color: #3B4455;\n",
              "      fill: #D2E3FC;\n",
              "    }\n",
              "\n",
              "    [theme=dark] .colab-df-convert:hover {\n",
              "      background-color: #434B5C;\n",
              "      box-shadow: 0px 1px 3px 1px rgba(0, 0, 0, 0.15);\n",
              "      filter: drop-shadow(0px 1px 2px rgba(0, 0, 0, 0.3));\n",
              "      fill: #FFFFFF;\n",
              "    }\n",
              "  </style>\n",
              "\n",
              "      <script>\n",
              "        const buttonEl =\n",
              "          document.querySelector('#df-cddea924-88a5-4608-80ac-93258b3d4530 button.colab-df-convert');\n",
              "        buttonEl.style.display =\n",
              "          google.colab.kernel.accessAllowed ? 'block' : 'none';\n",
              "\n",
              "        async function convertToInteractive(key) {\n",
              "          const element = document.querySelector('#df-cddea924-88a5-4608-80ac-93258b3d4530');\n",
              "          const dataTable =\n",
              "            await google.colab.kernel.invokeFunction('convertToInteractive',\n",
              "                                                     [key], {});\n",
              "          if (!dataTable) return;\n",
              "\n",
              "          const docLinkHtml = 'Like what you see? Visit the ' +\n",
              "            '<a target=\"_blank\" href=https://colab.research.google.com/notebooks/data_table.ipynb>data table notebook</a>'\n",
              "            + ' to learn more about interactive tables.';\n",
              "          element.innerHTML = '';\n",
              "          dataTable['output_type'] = 'display_data';\n",
              "          await google.colab.output.renderOutput(dataTable, element);\n",
              "          const docLink = document.createElement('div');\n",
              "          docLink.innerHTML = docLinkHtml;\n",
              "          element.appendChild(docLink);\n",
              "        }\n",
              "      </script>\n",
              "    </div>\n",
              "  </div>\n",
              "  "
            ]
          },
          "metadata": {},
          "execution_count": 941
        },
        {
          "output_type": "display_data",
          "data": {
            "text/plain": [
              "<Figure size 1080x360 with 1 Axes>"
            ],
            "image/png": "[encoded data removed]"
          },
          "metadata": {
            "needs_background": "light"
          }
        }
      ],
      "source": [
        "print('Các từ trong tập train không nằm trong từ điển', end=': \\n')\n",
        "active = False\n",
        "for word_tag, word in zip(train_gold, train_words):\n",
        "    if word == '--unk--': \n",
        "      active = True\n",
        "      print(word_tag.split()[0], end=', ')\n",
        "if active == False: print(\"Không có\")\n",
        "plot_tag_counts(train_gold)"
      ]
    },
    {
      "cell_type": "markdown",
      "metadata": {
        "id": "L7cfh877VCqj"
      },
      "source": [
        "## 5.3 Tập dữ liệu kiểm tra\n"
      ]
    },
    {
      "cell_type": "code",
      "execution_count": null,
      "metadata": {
        "id": "6A9uf_fADwTB",
        "colab": {
          "base_uri": "https://localhost:8080/"
        },
        "outputId": "4f6eeb45-ecb2-4d03-b6a7-10679ef4a8fd"
      },
      "outputs": [
        {
          "output_type": "stream",
          "name": "stdout",
          "text": [
            "Số lượng từ trong tập test_gold: 221\n"
          ]
        },
        {
          "output_type": "execute_result",
          "data": {
            "text/plain": [
              "['ĐTĐH\\tX\\n', 'linh_động\\tA\\n', 'hơn\\tA\\n', 'tạo\\tV\\n', 'điều_kiện\\tN\\n']"
            ]
          },
          "metadata": {},
          "execution_count": 942
        }
      ],
      "source": [
        "test_gold = open('CS221-Project/dataset/test_gold.txt', encoding='utf-8').readlines()\n",
        "print('Số lượng từ trong tập test_gold:', len(test_gold))\n",
        "test_gold[0:5]"
      ]
    },
    {
      "cell_type": "code",
      "execution_count": null,
      "metadata": {
        "id": "NjeGBPYwVIZc",
        "colab": {
          "base_uri": "https://localhost:8080/"
        },
        "outputId": "26c03bb0-14fa-40d7-a14f-55b9ad8b7a78"
      },
      "outputs": [
        {
          "output_type": "stream",
          "name": "stdout",
          "text": [
            "Số lượng từ trong tập test_words: 221\n"
          ]
        },
        {
          "output_type": "execute_result",
          "data": {
            "text/plain": [
              "['--unk--', 'linh_động', 'hơn', 'tạo', 'điều_kiện']"
            ]
          },
          "metadata": {},
          "execution_count": 943
        }
      ],
      "source": [
        "test_words = preprocess(vocabs_dict, 'CS221-Project/dataset/test_words.txt')\n",
        "print('Số lượng từ trong tập test_words:', len(test_words))\n",
        "test_words[0:5]"
      ]
    },
    {
      "cell_type": "code",
      "execution_count": null,
      "metadata": {
        "id": "B9g6Re41VKhA",
        "colab": {
          "base_uri": "https://localhost:8080/",
          "height": 627
        },
        "outputId": "fc8ba3d8-a640-471d-cce3-364b49c6c1c5"
      },
      "outputs": [
        {
          "output_type": "stream",
          "name": "stdout",
          "text": [
            "Các từ không nằm trong vocabs: ĐTĐH, Đề_nghị, CTTT, HK, ko, HK, Nên, Khoa, Cải_thiện, C113, Giảng_đường, bàn_ghế, Giảng_đường, Nhà_vệ_sinh, căn_tin,  \n",
            "N     61\n",
            "V     53\n",
            "CH    28\n",
            "A     20\n",
            "E     13\n",
            "R     12\n",
            "D      9\n",
            "X      5\n",
            "Ni     4\n",
            "C      3\n",
            "Cc     2\n",
            "P      2\n",
            "Name: 0, dtype: int64\n"
          ]
        },
        {
          "output_type": "execute_result",
          "data": {
            "text/plain": [
              "    N   V  CH   A   E   R  D  X  Ni  C  Cc  P  Total\n",
              "0  61  53  28  20  13  12  9  5   4  3   2  2    212"
            ],
            "text/html": [
              "\n",
              "  <div id=\"df-b2f08f95-8c86-42e9-99c8-1ab87713704d\">\n",
              "    <div class=\"colab-df-container\">\n",
              "      <div>\n",
              "<style scoped>\n",
              "    .dataframe tbody tr th:only-of-type {\n",
              "        vertical-align: middle;\n",
              "    }\n",
              "\n",
              "    .dataframe tbody tr th {\n",
              "        vertical-align: top;\n",
              "    }\n",
              "\n",
              "    .dataframe thead th {\n",
              "        text-align: right;\n",
              "    }\n",
              "</style>\n",
              "<table border=\"1\" class=\"dataframe\">\n",
              "  <thead>\n",
              "    <tr style=\"text-align: right;\">\n",
              "      <th></th>\n",
              "      <th>N</th>\n",
              "      <th>V</th>\n",
              "      <th>CH</th>\n",
              "      <th>A</th>\n",
              "      <th>E</th>\n",
              "      <th>R</th>\n",
              "      <th>D</th>\n",
              "      <th>X</th>\n",
              "      <th>Ni</th>\n",
              "      <th>C</th>\n",
              "      <th>Cc</th>\n",
              "      <th>P</th>\n",
              "      <th>Total</th>\n",
              "    </tr>\n",
              "  </thead>\n",
              "  <tbody>\n",
              "    <tr>\n",
              "      <th>0</th>\n",
              "      <td>61</td>\n",
              "      <td>53</td>\n",
              "      <td>28</td>\n",
              "      <td>20</td>\n",
              "      <td>13</td>\n",
              "      <td>12</td>\n",
              "      <td>9</td>\n",
              "      <td>5</td>\n",
              "      <td>4</td>\n",
              "      <td>3</td>\n",
              "      <td>2</td>\n",
              "      <td>2</td>\n",
              "      <td>212</td>\n",
              "    </tr>\n",
              "  </tbody>\n",
              "</table>\n",
              "</div>\n",
              "      <button class=\"colab-df-convert\" onclick=\"convertToInteractive('df-b2f08f95-8c86-42e9-99c8-1ab87713704d')\"\n",
              "              title=\"Convert this dataframe to an interactive table.\"\n",
              "              style=\"display:none;\">\n",
              "        \n",
              "  <svg xmlns=\"http://www.w3.org/2000/svg\" height=\"24px\"viewBox=\"0 0 24 24\"\n",
              "       width=\"24px\">\n",
              "    <path d=\"M0 0h24v24H0V0z\" fill=\"none\"/>\n",
              "    <path d=\"M18.56 5.44l.94 2.06.94-2.06 2.06-.94-2.06-.94-.94-2.06-.94 2.06-2.06.94zm-11 1L8.5 8.5l.94-2.06 2.06-.94-2.06-.94L8.5 2.5l-.94 2.06-2.06.94zm10 10l.94 2.06.94-2.06 2.06-.94-2.06-.94-.94-2.06-.94 2.06-2.06.94z\"/><path d=\"M17.41 7.96l-1.37-1.37c-.4-.4-.92-.59-1.43-.59-.52 0-1.04.2-1.43.59L10.3 9.45l-7.72 7.72c-.78.78-.78 2.05 0 2.83L4 21.41c.39.39.9.59 1.41.59.51 0 1.02-.2 1.41-.59l7.78-7.78 2.81-2.81c.8-.78.8-2.07 0-2.86zM5.41 20L4 18.59l7.72-7.72 1.47 1.35L5.41 20z\"/>\n",
              "  </svg>\n",
              "      </button>\n",
              "      \n",
              "  <style>\n",
              "    .colab-df-container {\n",
              "      display:flex;\n",
              "      flex-wrap:wrap;\n",
              "      gap: 12px;\n",
              "    }\n",
              "\n",
              "    .colab-df-convert {\n",
              "      background-color: #E8F0FE;\n",
              "      border: none;\n",
              "      border-radius: 50%;\n",
              "      cursor: pointer;\n",
              "      display: none;\n",
              "      fill: #1967D2;\n",
              "      height: 32px;\n",
              "      padding: 0 0 0 0;\n",
              "      width: 32px;\n",
              "    }\n",
              "\n",
              "    .colab-df-convert:hover {\n",
              "      background-color: #E2EBFA;\n",
              "      box-shadow: 0px 1px 2px rgba(60, 64, 67, 0.3), 0px 1px 3px 1px rgba(60, 64, 67, 0.15);\n",
              "      fill: #174EA6;\n",
              "    }\n",
              "\n",
              "    [theme=dark] .colab-df-convert {\n",
              "      background-color: #3B4455;\n",
              "      fill: #D2E3FC;\n",
              "    }\n",
              "\n",
              "    [theme=dark] .colab-df-convert:hover {\n",
              "      background-color: #434B5C;\n",
              "      box-shadow: 0px 1px 3px 1px rgba(0, 0, 0, 0.15);\n",
              "      filter: drop-shadow(0px 1px 2px rgba(0, 0, 0, 0.3));\n",
              "      fill: #FFFFFF;\n",
              "    }\n",
              "  </style>\n",
              "\n",
              "      <script>\n",
              "        const buttonEl =\n",
              "          document.querySelector('#df-b2f08f95-8c86-42e9-99c8-1ab87713704d button.colab-df-convert');\n",
              "        buttonEl.style.display =\n",
              "          google.colab.kernel.accessAllowed ? 'block' : 'none';\n",
              "\n",
              "        async function convertToInteractive(key) {\n",
              "          const element = document.querySelector('#df-b2f08f95-8c86-42e9-99c8-1ab87713704d');\n",
              "          const dataTable =\n",
              "            await google.colab.kernel.invokeFunction('convertToInteractive',\n",
              "                                                     [key], {});\n",
              "          if (!dataTable) return;\n",
              "\n",
              "          const docLinkHtml = 'Like what you see? Visit the ' +\n",
              "            '<a target=\"_blank\" href=https://colab.research.google.com/notebooks/data_table.ipynb>data table notebook</a>'\n",
              "            + ' to learn more about interactive tables.';\n",
              "          element.innerHTML = '';\n",
              "          dataTable['output_type'] = 'display_data';\n",
              "          await google.colab.output.renderOutput(dataTable, element);\n",
              "          const docLink = document.createElement('div');\n",
              "          docLink.innerHTML = docLinkHtml;\n",
              "          element.appendChild(docLink);\n",
              "        }\n",
              "      </script>\n",
              "    </div>\n",
              "  </div>\n",
              "  "
            ]
          },
          "metadata": {},
          "execution_count": 944
        },
        {
          "output_type": "display_data",
          "data": {
            "text/plain": [
              "<Figure size 1080x360 with 1 Axes>"
            ],
            "image/png": "[encoded data removed]"
          },
          "metadata": {
            "needs_background": "light"
          }
        }
      ],
      "source": [
        "print('Các từ không nằm trong vocabs', end=': ')\n",
        "for word_tag, word in zip(test_gold, test_words):\n",
        "    if word == '--unk--': \n",
        "      active = True\n",
        "      print(word_tag.split()[0], end=', ')\n",
        "if active == False: print(\"Không có\")\n",
        "print(\" \")\n",
        "plot_tag_counts(test_gold)"
      ]
    },
    {
      "cell_type": "markdown",
      "metadata": {
        "id": "tk1t9XTkOz_A"
      },
      "source": [
        "# 6. Gán nhãn từ loại\n",
        "\n"
      ]
    },
    {
      "cell_type": "markdown",
      "metadata": {
        "id": "jgSV3kMr_eZj"
      },
      "source": [
        "## 6.1 Huấn luyện dữ liệu\n",
        "**Bước 1:** Đọc dữ liệu từ tập train_gold.txt và từ điển vocabs.txt\n",
        "\n",
        "**Bước 2:** Kiểm tra và tách nhãn từng từ trong tập train, nếu từ nào không có trong từ điển thì gán biến *--unk--*\n",
        "\n",
        "* Bước 2.1: Với mỗi từ xét các từ kề trước nó\n",
        "* Bước 2.2: Đếm số lần xuất hiện của (từ,nhãn của từ)\n",
        "* Bước 2.3: Đếm số lần xuất hiện một nhãn\n",
        "\n",
        "Kết quả sau **bước 2** cho ta thông tin các nhãn, tập luật và các nghĩa của từ trên tập dữ liệu huấn luyện *(vì mỗi từ có thể có nhiều nghĩa tuỳ ngữ cảnh)*\n",
        "\n",
        "\n",
        "\n"
      ]
    },
    {
      "cell_type": "code",
      "execution_count": null,
      "metadata": {
        "id": "Yw4HoRyLOxnc"
      },
      "outputs": [],
      "source": [
        "'''\n",
        "Hàm này dùng để chia các từ thành word và tag với:\n",
        "Input:  word_tag: các từ đã được gán nhãn trong được lưu trong file train_gold.txt\n",
        "        vocabs_dict: các từ có trong từ điển vocabs.txt\n",
        "Output: Từ và nhãn của từ. \n",
        "Lưu ý: Một câu mới bắt đầu từ word = '--n--' & tag = '--s--', nếu từ không có trong từ điển thì sẽ trả về --unk--\n",
        "'''\n",
        "def seperate_word_tag(word_tag, vocabs_dict): \n",
        "    if not word_tag.split():\n",
        "        word = '--n--'\n",
        "        tag = '--s--'\n",
        "    else:\n",
        "        word, tag = word_tag.split()\n",
        "        if word not in vocabs_dict: word = '--unk--'\n",
        "    return word, tag"
      ]
    },
    {
      "cell_type": "code",
      "execution_count": null,
      "metadata": {
        "id": "vHWupDe0PFxs"
      },
      "outputs": [],
      "source": [
        "'''\n",
        "Input: \n",
        "Output: \n",
        "'''\n",
        "def create_dictionaries(train_gold, vocab):\n",
        "    emission_counts = defaultdict(int)\n",
        "    transition_counts = defaultdict(int)\n",
        "    tag_counts = defaultdict(int)\n",
        "    \n",
        "    prev_tag = '--s--' \n",
        "    for word_tag in train_gold:\n",
        "        word, tag = seperate_word_tag(word_tag, vocab) \n",
        "        \n",
        "        transition_counts[(prev_tag, tag)] += 1\n",
        "        emission_counts[(tag, word)] += 1\n",
        "        tag_counts[tag] += 1\n",
        "        prev_tag = tag\n",
        "    return transition_counts, emission_counts, tag_counts"
      ]
    },
    {
      "cell_type": "code",
      "execution_count": null,
      "metadata": {
        "id": "f0tmD5gdYxIn",
        "colab": {
          "base_uri": "https://localhost:8080/"
        },
        "outputId": "338837a0-96fc-4d51-eca9-98986b1bf6e3"
      },
      "outputs": [
        {
          "output_type": "stream",
          "name": "stdout",
          "text": [
            "Số nhãn: 20\n",
            "['--s--', 'A', 'C', 'CH', 'Cc', 'D', 'E', 'I', 'M', 'N', 'Nc', 'Ni', 'Np', 'Nu', 'O', 'P', 'R', 'V', 'X', 'Z']\n"
          ]
        }
      ],
      "source": [
        "transition_counts, emission_counts, tag_counts = create_dictionaries(train_gold, train_words)\n",
        "states = sorted(tag_counts.keys())\n",
        "print('Số nhãn:', len(states))\n",
        "print(states)"
      ]
    },
    {
      "cell_type": "code",
      "execution_count": null,
      "metadata": {
        "id": "8HAQ_LXTaJWW",
        "colab": {
          "base_uri": "https://localhost:8080/"
        },
        "outputId": "0218455a-660a-4486-cb0f-50c2fe99bb57"
      },
      "outputs": [
        {
          "output_type": "stream",
          "name": "stdout",
          "text": [
            "Transition examples: \n",
            "(('N', 'C'), 30)\n",
            "(('C', 'N'), 39)\n",
            "(('V', 'V'), 72)\n",
            "(('N', 'Np'), 7)\n",
            "(('Np', 'E'), 2)\n"
          ]
        }
      ],
      "source": [
        "print(\"Transition examples: \")\n",
        "for example in list(transition_counts.items())[5:10]:\n",
        "    print(example)"
      ]
    },
    {
      "cell_type": "code",
      "execution_count": null,
      "metadata": {
        "id": "mEVqleMheVX1",
        "colab": {
          "base_uri": "https://localhost:8080/"
        },
        "outputId": "9bf02b18-5793-4f7d-ba2b-142316217d8f"
      },
      "outputs": [
        {
          "output_type": "stream",
          "name": "stdout",
          "text": [
            "Emission examples: \n",
            "(('C', '--unk--'), 5)\n",
            "(('A', 'đủ'), 2)\n",
            "(('N', 'điều_kiện'), 2)\n",
            "(('V', 'ra'), 7)\n",
            "(('N', 'trường'), 26)\n",
            "(('C', 'thì'), 20)\n",
            "(('N', 'em'), 43)\n"
          ]
        }
      ],
      "source": [
        "print(\"Emission examples: \")\n",
        "for example in list(emission_counts.items())[:7]:\n",
        "    print(example)"
      ]
    },
    {
      "cell_type": "markdown",
      "metadata": {
        "id": "NoCZdDMgDb_r"
      },
      "source": [
        "## 6.2 Kiểm tra dữ liệu"
      ]
    },
    {
      "cell_type": "code",
      "execution_count": null,
      "metadata": {
        "id": "8nSQ4aqDDkHj"
      },
      "outputs": [],
      "source": [
        "'''\n",
        "Input\n",
        "'''\n",
        "def predict_pos(words, gold, emission_counts, vocabs_dict, states):\n",
        "    num_correct = 0\n",
        "    all_words = set(emission_counts.keys())\n",
        "    \n",
        "    for word, gold_tuple in zip(words, gold): \n",
        "        gold_tuple_list = gold_tuple.split()\n",
        "        if len(gold_tuple_list) != 2: continue # Loại các khoảng trắng\n",
        "        else: true_label = gold_tuple_list[1]\n",
        "    \n",
        "        count_final = 0\n",
        "        pos_final = ''\n",
        "        if word not in vocabs_dict: continue\n",
        "        \n",
        "        for pos in states:\n",
        "            if (pos, word) not in emission_counts: continue\n",
        "            count = emission_counts[(pos, word)]\n",
        "            \n",
        "            if count > count_final:\n",
        "                count_final = count\n",
        "                pos_final = pos\n",
        "                    \n",
        "        if pos_final == true_label: num_correct += 1\n",
        "    accuracy = num_correct / len(gold)\n",
        "    return accuracy"
      ]
    },
    {
      "cell_type": "code",
      "execution_count": null,
      "metadata": {
        "id": "i5ifDxu1IbDG",
        "colab": {
          "base_uri": "https://localhost:8080/"
        },
        "outputId": "35c6c773-60aa-47f9-aa01-928392ada05d"
      },
      "outputs": [
        {
          "output_type": "stream",
          "name": "stdout",
          "text": [
            "Độ chính xác trên tập train: 0.886058981233244\n"
          ]
        }
      ],
      "source": [
        "accuracy = predict_pos(train_words, train_gold, emission_counts, vocabs_dict, states)\n",
        "print('Độ chính xác trên tập train:', accuracy)"
      ]
    },
    {
      "cell_type": "code",
      "execution_count": null,
      "metadata": {
        "id": "OhmXRp0gIcC_",
        "colab": {
          "base_uri": "https://localhost:8080/"
        },
        "outputId": "b6980173-47fa-4735-b3c4-7ac013d8edb0"
      },
      "outputs": [
        {
          "output_type": "stream",
          "name": "stdout",
          "text": [
            "Độ chính xác trên tập test: 0.6153846153846154\n"
          ]
        }
      ],
      "source": [
        "accuracy = predict_pos(test_words, test_gold, emission_counts, vocabs_dict, states)\n",
        "print('Độ chính xác trên tập test:', accuracy)"
      ]
    },
    {
      "cell_type": "markdown",
      "metadata": {
        "id": "dD4s6Wd-KUfP"
      },
      "source": [
        "# 7. Ma trận xác suất Hidden Markov"
      ]
    },
    {
      "cell_type": "markdown",
      "metadata": {
        "id": "QxWTgGfYKdnM"
      },
      "source": [
        "## 7.1 Ma trận chuyển tiếp 'A' (trainsition matrix)"
      ]
    },
    {
      "cell_type": "code",
      "execution_count": null,
      "metadata": {
        "id": "JUOVVFSwhEBT",
        "colab": {
          "base_uri": "https://localhost:8080/"
        },
        "outputId": "14f18e90-4fe5-47dd-e266-9c7da4f66f85"
      },
      "outputs": [
        {
          "output_type": "execute_result",
          "data": {
            "text/plain": [
              "defaultdict(int,\n",
              "            {'C': 102,\n",
              "             'A': 51,\n",
              "             'N': 391,\n",
              "             'V': 343,\n",
              "             'Np': 10,\n",
              "             'E': 79,\n",
              "             'P': 47,\n",
              "             'I': 24,\n",
              "             'CH': 104,\n",
              "             '--s--': 51,\n",
              "             'M': 26,\n",
              "             'R': 129,\n",
              "             'Cc': 21,\n",
              "             'D': 40,\n",
              "             'X': 68,\n",
              "             'Nu': 1,\n",
              "             'Z': 2,\n",
              "             'Ni': 1,\n",
              "             'Nc': 1,\n",
              "             'O': 1})"
            ]
          },
          "metadata": {},
          "execution_count": 953
        }
      ],
      "source": [
        "tag_counts[sorted(tag_counts.keys())[5]]\n",
        "tag_counts"
      ]
    },
    {
      "cell_type": "code",
      "execution_count": null,
      "metadata": {
        "id": "r8bkRUlnFv8i"
      },
      "outputs": [],
      "source": [
        "def create_transition_matrix(alpha, tag_counts, transition_counts):\n",
        "    all_tags = sorted(tag_counts.keys())\n",
        "    num_tags = len(all_tags)\n",
        "    \n",
        "    # Khởi tạo một ma trận thống kê tần số\n",
        "    A = np.zeros((num_tags, num_tags))\n",
        "    trans_keys = set(transition_counts.keys())\n",
        "    \n",
        "    for i in range(num_tags):\n",
        "        for j in range(num_tags):\n",
        "            count = 0 \n",
        "            key = (all_tags[i], all_tags[j])\n",
        "            if key in transition_counts: count = transition_counts[key]\n",
        "                \n",
        "            count_prev_tag = tag_counts[all_tags[i]]\n",
        "            # Cập nhật giá trị của ma trận tần số = (Tần số của từng cặp nhãn + hệ số alpha)/ (Tần số của nhãn thứ i + alpha * tổng số nhãn)\n",
        "            A[i, j] = (count + alpha) / (count_prev_tag + alpha * num_tags)\n",
        "    return A"
      ]
    },
    {
      "cell_type": "code",
      "execution_count": null,
      "metadata": {
        "id": "LJ5rQJaNFw-B",
        "colab": {
          "base_uri": "https://localhost:8080/",
          "height": 287
        },
        "outputId": "feb6c6d6-a815-4e80-839a-885cfc109419"
      },
      "outputs": [
        {
          "output_type": "execute_result",
          "data": {
            "text/plain": [
              "          --s--         A         C        CH        Cc         D         E  \\\n",
              "--s--  0.008197  0.024590  0.122951  0.008197  0.008197  0.040984  0.057377   \n",
              "A      0.008197  0.040984  0.057377  0.188525  0.040984  0.008197  0.155738   \n",
              "C      0.004464  0.013393  0.031250  0.013393  0.004464  0.066964  0.022321   \n",
              "CH     0.451754  0.013158  0.083333  0.013158  0.013158  0.013158  0.013158   \n",
              "Cc     0.016129  0.016129  0.048387  0.016129  0.016129  0.048387  0.048387   \n",
              "\n",
              "              I         M         N        Nc        Ni        Np        Nu  \\\n",
              "--s--  0.008197  0.008197  0.352459  0.008197  0.008197  0.008197  0.008197   \n",
              "A      0.024590  0.008197  0.139344  0.008197  0.008197  0.008197  0.008197   \n",
              "C      0.004464  0.013393  0.352679  0.004464  0.004464  0.004464  0.004464   \n",
              "CH     0.004386  0.048246  0.118421  0.004386  0.004386  0.004386  0.013158   \n",
              "Cc     0.016129  0.048387  0.209677  0.016129  0.016129  0.016129  0.016129   \n",
              "\n",
              "              O         P         R         V         X         Z  \n",
              "--s--  0.024590  0.057377  0.008197  0.155738  0.073770  0.008197  \n",
              "A      0.008197  0.024590  0.139344  0.090164  0.024590  0.008197  \n",
              "C      0.004464  0.013393  0.093750  0.272321  0.066964  0.004464  \n",
              "CH     0.004386  0.030702  0.030702  0.074561  0.057018  0.004386  \n",
              "Cc     0.016129  0.016129  0.080645  0.274194  0.048387  0.016129  "
            ],
            "text/html": [
              "\n",
              "  <div id=\"df-26c39234-a35e-440f-9237-e4bf9b3c8528\">\n",
              "    <div class=\"colab-df-container\">\n",
              "      <div>\n",
              "<style scoped>\n",
              "    .dataframe tbody tr th:only-of-type {\n",
              "        vertical-align: middle;\n",
              "    }\n",
              "\n",
              "    .dataframe tbody tr th {\n",
              "        vertical-align: top;\n",
              "    }\n",
              "\n",
              "    .dataframe thead th {\n",
              "        text-align: right;\n",
              "    }\n",
              "</style>\n",
              "<table border=\"1\" class=\"dataframe\">\n",
              "  <thead>\n",
              "    <tr style=\"text-align: right;\">\n",
              "      <th></th>\n",
              "      <th>--s--</th>\n",
              "      <th>A</th>\n",
              "      <th>C</th>\n",
              "      <th>CH</th>\n",
              "      <th>Cc</th>\n",
              "      <th>D</th>\n",
              "      <th>E</th>\n",
              "      <th>I</th>\n",
              "      <th>M</th>\n",
              "      <th>N</th>\n",
              "      <th>Nc</th>\n",
              "      <th>Ni</th>\n",
              "      <th>Np</th>\n",
              "      <th>Nu</th>\n",
              "      <th>O</th>\n",
              "      <th>P</th>\n",
              "      <th>R</th>\n",
              "      <th>V</th>\n",
              "      <th>X</th>\n",
              "      <th>Z</th>\n",
              "    </tr>\n",
              "  </thead>\n",
              "  <tbody>\n",
              "    <tr>\n",
              "      <th>--s--</th>\n",
              "      <td>0.008197</td>\n",
              "      <td>0.024590</td>\n",
              "      <td>0.122951</td>\n",
              "      <td>0.008197</td>\n",
              "      <td>0.008197</td>\n",
              "      <td>0.040984</td>\n",
              "      <td>0.057377</td>\n",
              "      <td>0.008197</td>\n",
              "      <td>0.008197</td>\n",
              "      <td>0.352459</td>\n",
              "      <td>0.008197</td>\n",
              "      <td>0.008197</td>\n",
              "      <td>0.008197</td>\n",
              "      <td>0.008197</td>\n",
              "      <td>0.024590</td>\n",
              "      <td>0.057377</td>\n",
              "      <td>0.008197</td>\n",
              "      <td>0.155738</td>\n",
              "      <td>0.073770</td>\n",
              "      <td>0.008197</td>\n",
              "    </tr>\n",
              "    <tr>\n",
              "      <th>A</th>\n",
              "      <td>0.008197</td>\n",
              "      <td>0.040984</td>\n",
              "      <td>0.057377</td>\n",
              "      <td>0.188525</td>\n",
              "      <td>0.040984</td>\n",
              "      <td>0.008197</td>\n",
              "      <td>0.155738</td>\n",
              "      <td>0.024590</td>\n",
              "      <td>0.008197</td>\n",
              "      <td>0.139344</td>\n",
              "      <td>0.008197</td>\n",
              "      <td>0.008197</td>\n",
              "      <td>0.008197</td>\n",
              "      <td>0.008197</td>\n",
              "      <td>0.008197</td>\n",
              "      <td>0.024590</td>\n",
              "      <td>0.139344</td>\n",
              "      <td>0.090164</td>\n",
              "      <td>0.024590</td>\n",
              "      <td>0.008197</td>\n",
              "    </tr>\n",
              "    <tr>\n",
              "      <th>C</th>\n",
              "      <td>0.004464</td>\n",
              "      <td>0.013393</td>\n",
              "      <td>0.031250</td>\n",
              "      <td>0.013393</td>\n",
              "      <td>0.004464</td>\n",
              "      <td>0.066964</td>\n",
              "      <td>0.022321</td>\n",
              "      <td>0.004464</td>\n",
              "      <td>0.013393</td>\n",
              "      <td>0.352679</td>\n",
              "      <td>0.004464</td>\n",
              "      <td>0.004464</td>\n",
              "      <td>0.004464</td>\n",
              "      <td>0.004464</td>\n",
              "      <td>0.004464</td>\n",
              "      <td>0.013393</td>\n",
              "      <td>0.093750</td>\n",
              "      <td>0.272321</td>\n",
              "      <td>0.066964</td>\n",
              "      <td>0.004464</td>\n",
              "    </tr>\n",
              "    <tr>\n",
              "      <th>CH</th>\n",
              "      <td>0.451754</td>\n",
              "      <td>0.013158</td>\n",
              "      <td>0.083333</td>\n",
              "      <td>0.013158</td>\n",
              "      <td>0.013158</td>\n",
              "      <td>0.013158</td>\n",
              "      <td>0.013158</td>\n",
              "      <td>0.004386</td>\n",
              "      <td>0.048246</td>\n",
              "      <td>0.118421</td>\n",
              "      <td>0.004386</td>\n",
              "      <td>0.004386</td>\n",
              "      <td>0.004386</td>\n",
              "      <td>0.013158</td>\n",
              "      <td>0.004386</td>\n",
              "      <td>0.030702</td>\n",
              "      <td>0.030702</td>\n",
              "      <td>0.074561</td>\n",
              "      <td>0.057018</td>\n",
              "      <td>0.004386</td>\n",
              "    </tr>\n",
              "    <tr>\n",
              "      <th>Cc</th>\n",
              "      <td>0.016129</td>\n",
              "      <td>0.016129</td>\n",
              "      <td>0.048387</td>\n",
              "      <td>0.016129</td>\n",
              "      <td>0.016129</td>\n",
              "      <td>0.048387</td>\n",
              "      <td>0.048387</td>\n",
              "      <td>0.016129</td>\n",
              "      <td>0.048387</td>\n",
              "      <td>0.209677</td>\n",
              "      <td>0.016129</td>\n",
              "      <td>0.016129</td>\n",
              "      <td>0.016129</td>\n",
              "      <td>0.016129</td>\n",
              "      <td>0.016129</td>\n",
              "      <td>0.016129</td>\n",
              "      <td>0.080645</td>\n",
              "      <td>0.274194</td>\n",
              "      <td>0.048387</td>\n",
              "      <td>0.016129</td>\n",
              "    </tr>\n",
              "  </tbody>\n",
              "</table>\n",
              "</div>\n",
              "      <button class=\"colab-df-convert\" onclick=\"convertToInteractive('df-26c39234-a35e-440f-9237-e4bf9b3c8528')\"\n",
              "              title=\"Convert this dataframe to an interactive table.\"\n",
              "              style=\"display:none;\">\n",
              "        \n",
              "  <svg xmlns=\"http://www.w3.org/2000/svg\" height=\"24px\"viewBox=\"0 0 24 24\"\n",
              "       width=\"24px\">\n",
              "    <path d=\"M0 0h24v24H0V0z\" fill=\"none\"/>\n",
              "    <path d=\"M18.56 5.44l.94 2.06.94-2.06 2.06-.94-2.06-.94-.94-2.06-.94 2.06-2.06.94zm-11 1L8.5 8.5l.94-2.06 2.06-.94-2.06-.94L8.5 2.5l-.94 2.06-2.06.94zm10 10l.94 2.06.94-2.06 2.06-.94-2.06-.94-.94-2.06-.94 2.06-2.06.94z\"/><path d=\"M17.41 7.96l-1.37-1.37c-.4-.4-.92-.59-1.43-.59-.52 0-1.04.2-1.43.59L10.3 9.45l-7.72 7.72c-.78.78-.78 2.05 0 2.83L4 21.41c.39.39.9.59 1.41.59.51 0 1.02-.2 1.41-.59l7.78-7.78 2.81-2.81c.8-.78.8-2.07 0-2.86zM5.41 20L4 18.59l7.72-7.72 1.47 1.35L5.41 20z\"/>\n",
              "  </svg>\n",
              "      </button>\n",
              "      \n",
              "  <style>\n",
              "    .colab-df-container {\n",
              "      display:flex;\n",
              "      flex-wrap:wrap;\n",
              "      gap: 12px;\n",
              "    }\n",
              "\n",
              "    .colab-df-convert {\n",
              "      background-color: #E8F0FE;\n",
              "      border: none;\n",
              "      border-radius: 50%;\n",
              "      cursor: pointer;\n",
              "      display: none;\n",
              "      fill: #1967D2;\n",
              "      height: 32px;\n",
              "      padding: 0 0 0 0;\n",
              "      width: 32px;\n",
              "    }\n",
              "\n",
              "    .colab-df-convert:hover {\n",
              "      background-color: #E2EBFA;\n",
              "      box-shadow: 0px 1px 2px rgba(60, 64, 67, 0.3), 0px 1px 3px 1px rgba(60, 64, 67, 0.15);\n",
              "      fill: #174EA6;\n",
              "    }\n",
              "\n",
              "    [theme=dark] .colab-df-convert {\n",
              "      background-color: #3B4455;\n",
              "      fill: #D2E3FC;\n",
              "    }\n",
              "\n",
              "    [theme=dark] .colab-df-convert:hover {\n",
              "      background-color: #434B5C;\n",
              "      box-shadow: 0px 1px 3px 1px rgba(0, 0, 0, 0.15);\n",
              "      filter: drop-shadow(0px 1px 2px rgba(0, 0, 0, 0.3));\n",
              "      fill: #FFFFFF;\n",
              "    }\n",
              "  </style>\n",
              "\n",
              "      <script>\n",
              "        const buttonEl =\n",
              "          document.querySelector('#df-26c39234-a35e-440f-9237-e4bf9b3c8528 button.colab-df-convert');\n",
              "        buttonEl.style.display =\n",
              "          google.colab.kernel.accessAllowed ? 'block' : 'none';\n",
              "\n",
              "        async function convertToInteractive(key) {\n",
              "          const element = document.querySelector('#df-26c39234-a35e-440f-9237-e4bf9b3c8528');\n",
              "          const dataTable =\n",
              "            await google.colab.kernel.invokeFunction('convertToInteractive',\n",
              "                                                     [key], {});\n",
              "          if (!dataTable) return;\n",
              "\n",
              "          const docLinkHtml = 'Like what you see? Visit the ' +\n",
              "            '<a target=\"_blank\" href=https://colab.research.google.com/notebooks/data_table.ipynb>data table notebook</a>'\n",
              "            + ' to learn more about interactive tables.';\n",
              "          element.innerHTML = '';\n",
              "          dataTable['output_type'] = 'display_data';\n",
              "          await google.colab.output.renderOutput(dataTable, element);\n",
              "          const docLink = document.createElement('div');\n",
              "          docLink.innerHTML = docLinkHtml;\n",
              "          element.appendChild(docLink);\n",
              "        }\n",
              "      </script>\n",
              "    </div>\n",
              "  </div>\n",
              "  "
            ]
          },
          "metadata": {},
          "execution_count": 955
        }
      ],
      "source": [
        "alpha = 0.5\n",
        "for i in range(len(states)): tag_counts.pop(i, None)\n",
        "    \n",
        "A = create_transition_matrix(alpha, tag_counts, transition_counts)\n",
        "df = pd.DataFrame(A,index = states, columns = states)\n",
        "df.head(5)\n",
        "# print(A.shape)"
      ]
    },
    {
      "cell_type": "markdown",
      "metadata": {
        "id": "UzmA4K1alb8n"
      },
      "source": [
        "## 7.2 Ma trận phát xạ 'B' (emission matrix)"
      ]
    },
    {
      "cell_type": "code",
      "execution_count": null,
      "metadata": {
        "id": "ibDGgu0aH4KT"
      },
      "outputs": [],
      "source": [
        "def create_emission_matrix(alpha, tag_counts, emission_counts, vocabs):\n",
        "    all_tags = sorted(tag_counts.keys())\n",
        "    num_tags = len(tag_counts)\n",
        "    num_words = len(vocabs)\n",
        "    \n",
        "    B = np.zeros((num_tags, num_words))\n",
        "    emis_keys = set(list(emission_counts.keys()))\n",
        "    \n",
        "    for i in range(num_tags):\n",
        "        for j in range(num_words):\n",
        "            count = 0\n",
        "            key = (all_tags[i], vocabs[j])\n",
        "            if key in emission_counts.keys(): count = emission_counts[key]\n",
        "                \n",
        "            count_tag = tag_counts[all_tags[i]]\n",
        "            B[i, j] = (count + alpha) / (count_tag + alpha * num_words)\n",
        "    return B"
      ]
    },
    {
      "cell_type": "code",
      "execution_count": null,
      "metadata": {
        "id": "ZOsniBNoH4nn",
        "colab": {
          "base_uri": "https://localhost:8080/",
          "height": 331
        },
        "outputId": "d84302d2-10e6-42ec-ca30-59cc327b6f42"
      },
      "outputs": [
        {
          "output_type": "execute_result",
          "data": {
            "text/plain": [
              "          em        và       cho        là  nhà_vệ_sinh       ngủ\n",
              "R   0.000018  0.000018  0.000018  0.000018     0.000018  0.000018\n",
              "V   0.000018  0.000018  0.000306  0.000090     0.000018  0.000018\n",
              "N   0.001565  0.000018  0.000018  0.000018     0.000018  0.000018\n",
              "A   0.000018  0.000018  0.000018  0.000018     0.000018  0.000018\n",
              "D   0.000018  0.000018  0.000018  0.000018     0.000018  0.000018\n",
              "E   0.000018  0.000018  0.000418  0.000018     0.000018  0.000018\n",
              "C   0.000018  0.000018  0.000018  0.000345     0.000018  0.000018\n",
              "Cc  0.000018  0.000674  0.000018  0.000018     0.000018  0.000018\n",
              "CH  0.000018  0.000018  0.000018  0.000018     0.000018  0.000018"
            ],
            "text/html": [
              "\n",
              "  <div id=\"df-caf4008c-5137-43e6-b194-40be9d093a6e\">\n",
              "    <div class=\"colab-df-container\">\n",
              "      <div>\n",
              "<style scoped>\n",
              "    .dataframe tbody tr th:only-of-type {\n",
              "        vertical-align: middle;\n",
              "    }\n",
              "\n",
              "    .dataframe tbody tr th {\n",
              "        vertical-align: top;\n",
              "    }\n",
              "\n",
              "    .dataframe thead th {\n",
              "        text-align: right;\n",
              "    }\n",
              "</style>\n",
              "<table border=\"1\" class=\"dataframe\">\n",
              "  <thead>\n",
              "    <tr style=\"text-align: right;\">\n",
              "      <th></th>\n",
              "      <th>em</th>\n",
              "      <th>và</th>\n",
              "      <th>cho</th>\n",
              "      <th>là</th>\n",
              "      <th>nhà_vệ_sinh</th>\n",
              "      <th>ngủ</th>\n",
              "    </tr>\n",
              "  </thead>\n",
              "  <tbody>\n",
              "    <tr>\n",
              "      <th>R</th>\n",
              "      <td>0.000018</td>\n",
              "      <td>0.000018</td>\n",
              "      <td>0.000018</td>\n",
              "      <td>0.000018</td>\n",
              "      <td>0.000018</td>\n",
              "      <td>0.000018</td>\n",
              "    </tr>\n",
              "    <tr>\n",
              "      <th>V</th>\n",
              "      <td>0.000018</td>\n",
              "      <td>0.000018</td>\n",
              "      <td>0.000306</td>\n",
              "      <td>0.000090</td>\n",
              "      <td>0.000018</td>\n",
              "      <td>0.000018</td>\n",
              "    </tr>\n",
              "    <tr>\n",
              "      <th>N</th>\n",
              "      <td>0.001565</td>\n",
              "      <td>0.000018</td>\n",
              "      <td>0.000018</td>\n",
              "      <td>0.000018</td>\n",
              "      <td>0.000018</td>\n",
              "      <td>0.000018</td>\n",
              "    </tr>\n",
              "    <tr>\n",
              "      <th>A</th>\n",
              "      <td>0.000018</td>\n",
              "      <td>0.000018</td>\n",
              "      <td>0.000018</td>\n",
              "      <td>0.000018</td>\n",
              "      <td>0.000018</td>\n",
              "      <td>0.000018</td>\n",
              "    </tr>\n",
              "    <tr>\n",
              "      <th>D</th>\n",
              "      <td>0.000018</td>\n",
              "      <td>0.000018</td>\n",
              "      <td>0.000018</td>\n",
              "      <td>0.000018</td>\n",
              "      <td>0.000018</td>\n",
              "      <td>0.000018</td>\n",
              "    </tr>\n",
              "    <tr>\n",
              "      <th>E</th>\n",
              "      <td>0.000018</td>\n",
              "      <td>0.000018</td>\n",
              "      <td>0.000418</td>\n",
              "      <td>0.000018</td>\n",
              "      <td>0.000018</td>\n",
              "      <td>0.000018</td>\n",
              "    </tr>\n",
              "    <tr>\n",
              "      <th>C</th>\n",
              "      <td>0.000018</td>\n",
              "      <td>0.000018</td>\n",
              "      <td>0.000018</td>\n",
              "      <td>0.000345</td>\n",
              "      <td>0.000018</td>\n",
              "      <td>0.000018</td>\n",
              "    </tr>\n",
              "    <tr>\n",
              "      <th>Cc</th>\n",
              "      <td>0.000018</td>\n",
              "      <td>0.000674</td>\n",
              "      <td>0.000018</td>\n",
              "      <td>0.000018</td>\n",
              "      <td>0.000018</td>\n",
              "      <td>0.000018</td>\n",
              "    </tr>\n",
              "    <tr>\n",
              "      <th>CH</th>\n",
              "      <td>0.000018</td>\n",
              "      <td>0.000018</td>\n",
              "      <td>0.000018</td>\n",
              "      <td>0.000018</td>\n",
              "      <td>0.000018</td>\n",
              "      <td>0.000018</td>\n",
              "    </tr>\n",
              "  </tbody>\n",
              "</table>\n",
              "</div>\n",
              "      <button class=\"colab-df-convert\" onclick=\"convertToInteractive('df-caf4008c-5137-43e6-b194-40be9d093a6e')\"\n",
              "              title=\"Convert this dataframe to an interactive table.\"\n",
              "              style=\"display:none;\">\n",
              "        \n",
              "  <svg xmlns=\"http://www.w3.org/2000/svg\" height=\"24px\"viewBox=\"0 0 24 24\"\n",
              "       width=\"24px\">\n",
              "    <path d=\"M0 0h24v24H0V0z\" fill=\"none\"/>\n",
              "    <path d=\"M18.56 5.44l.94 2.06.94-2.06 2.06-.94-2.06-.94-.94-2.06-.94 2.06-2.06.94zm-11 1L8.5 8.5l.94-2.06 2.06-.94-2.06-.94L8.5 2.5l-.94 2.06-2.06.94zm10 10l.94 2.06.94-2.06 2.06-.94-2.06-.94-.94-2.06-.94 2.06-2.06.94z\"/><path d=\"M17.41 7.96l-1.37-1.37c-.4-.4-.92-.59-1.43-.59-.52 0-1.04.2-1.43.59L10.3 9.45l-7.72 7.72c-.78.78-.78 2.05 0 2.83L4 21.41c.39.39.9.59 1.41.59.51 0 1.02-.2 1.41-.59l7.78-7.78 2.81-2.81c.8-.78.8-2.07 0-2.86zM5.41 20L4 18.59l7.72-7.72 1.47 1.35L5.41 20z\"/>\n",
              "  </svg>\n",
              "      </button>\n",
              "      \n",
              "  <style>\n",
              "    .colab-df-container {\n",
              "      display:flex;\n",
              "      flex-wrap:wrap;\n",
              "      gap: 12px;\n",
              "    }\n",
              "\n",
              "    .colab-df-convert {\n",
              "      background-color: #E8F0FE;\n",
              "      border: none;\n",
              "      border-radius: 50%;\n",
              "      cursor: pointer;\n",
              "      display: none;\n",
              "      fill: #1967D2;\n",
              "      height: 32px;\n",
              "      padding: 0 0 0 0;\n",
              "      width: 32px;\n",
              "    }\n",
              "\n",
              "    .colab-df-convert:hover {\n",
              "      background-color: #E2EBFA;\n",
              "      box-shadow: 0px 1px 2px rgba(60, 64, 67, 0.3), 0px 1px 3px 1px rgba(60, 64, 67, 0.15);\n",
              "      fill: #174EA6;\n",
              "    }\n",
              "\n",
              "    [theme=dark] .colab-df-convert {\n",
              "      background-color: #3B4455;\n",
              "      fill: #D2E3FC;\n",
              "    }\n",
              "\n",
              "    [theme=dark] .colab-df-convert:hover {\n",
              "      background-color: #434B5C;\n",
              "      box-shadow: 0px 1px 3px 1px rgba(0, 0, 0, 0.15);\n",
              "      filter: drop-shadow(0px 1px 2px rgba(0, 0, 0, 0.3));\n",
              "      fill: #FFFFFF;\n",
              "    }\n",
              "  </style>\n",
              "\n",
              "      <script>\n",
              "        const buttonEl =\n",
              "          document.querySelector('#df-caf4008c-5137-43e6-b194-40be9d093a6e button.colab-df-convert');\n",
              "        buttonEl.style.display =\n",
              "          google.colab.kernel.accessAllowed ? 'block' : 'none';\n",
              "\n",
              "        async function convertToInteractive(key) {\n",
              "          const element = document.querySelector('#df-caf4008c-5137-43e6-b194-40be9d093a6e');\n",
              "          const dataTable =\n",
              "            await google.colab.kernel.invokeFunction('convertToInteractive',\n",
              "                                                     [key], {});\n",
              "          if (!dataTable) return;\n",
              "\n",
              "          const docLinkHtml = 'Like what you see? Visit the ' +\n",
              "            '<a target=\"_blank\" href=https://colab.research.google.com/notebooks/data_table.ipynb>data table notebook</a>'\n",
              "            + ' to learn more about interactive tables.';\n",
              "          element.innerHTML = '';\n",
              "          dataTable['output_type'] = 'display_data';\n",
              "          await google.colab.output.renderOutput(dataTable, element);\n",
              "          const docLink = document.createElement('div');\n",
              "          docLink.innerHTML = docLinkHtml;\n",
              "          element.appendChild(docLink);\n",
              "        }\n",
              "      </script>\n",
              "    </div>\n",
              "  </div>\n",
              "  "
            ]
          },
          "metadata": {},
          "execution_count": 957
        }
      ],
      "source": [
        "cidx  = ['em', 'và', 'cho', 'là', 'nhà_vệ_sinh','ngủ']\n",
        "rvals = ['R', 'V', 'N', 'A', 'D','E','C','Cc','CH']\n",
        "# Lấy ra vị trí của các từ\n",
        "cols = [vocabs_dict[word] for word in cidx]\n",
        "# Lấy tra vị trí của các nhãn\n",
        "rows = [states.index(tag) for tag in rvals]\n",
        "\n",
        "for i in range(len(states)): tag_counts.pop(i, None)\n",
        "B = create_emission_matrix(alpha, tag_counts, emission_counts, list(vocabs_dict))\n",
        "\n",
        "df = pd.DataFrame(B[np.ix_(rows, cols)], index=rvals, columns=cidx)\n",
        "df"
      ]
    },
    {
      "cell_type": "markdown",
      "metadata": {
        "id": "ET6yd5Np3k_G"
      },
      "source": [
        "# 8. Thuật toán Viterbi\n",
        "Do 2 ma trận A, B đều sẽ tính toán xác suất cho nhãn --s-- (nhãn bắt đầu) bình thường như các nhãn khác nên lúc dự đoán nhãn --s-- cũng có thể sẽ được gán cho bất kỳ từ nào. Nếu muốn nhãn --s-- không được gán khi dự đoán thì:\n",
        "- Bỏ qua cột đầu khi sử dụng ma trận A => Khi sử dụng lại ma trận A trong thuật toán Viterbi phải trừ đi 1 ở cột\n",
        "- Bỏ qua hàng đầu khi sử dụng ma trận B => Khi sử dụng lại ma trận B trong thuật toán Viterbi phải trừ đi 1 ở hàng\n"
      ]
    },
    {
      "cell_type": "code",
      "execution_count": null,
      "metadata": {
        "id": "g5FUNGSP3lKx",
        "colab": {
          "base_uri": "https://localhost:8080/"
        },
        "outputId": "0c157809-35d2-4209-9377-cccdd69fe9f4"
      },
      "outputs": [
        {
          "output_type": "stream",
          "name": "stdout",
          "text": [
            "A_viterbi shape:  (20, 19)\n",
            "B_viterbi shape:  (19, 54818)\n"
          ]
        }
      ],
      "source": [
        "import pandas as pd\n",
        "A_viterbi = np.array([sublist[1:].tolist() for sublist in A])\n",
        "B_viterbi = B[1:]\n",
        "print(\"A_viterbi shape: \",A_viterbi.shape)\n",
        "print(\"B_viterbi shape: \",B_viterbi.shape)\n"
      ]
    },
    {
      "cell_type": "markdown",
      "metadata": {
        "id": "m4is7kHTQawL"
      },
      "source": [
        "## 8.1 Bước Initialization\n"
      ]
    },
    {
      "cell_type": "code",
      "execution_count": null,
      "metadata": {
        "id": "Fw_oIhaOQYzA"
      },
      "outputs": [],
      "source": [
        "def viterbi_initialize(states, tag_counts, A, B, corpus, vocabs_dict):\n",
        "    num_tags = len(tag_counts)\n",
        "    s_idx = states.index('--s--')\n",
        "    best_probs = np.zeros((num_tags, len(corpus)))\n",
        "    best_paths = np.zeros((num_tags, len(corpus)), dtype=int)\n",
        "    \n",
        "    for i in range(num_tags):\n",
        "        if A[s_idx, i - 1] == 0: best_probs[i, 0] = float('-inf')\n",
        "        else: \n",
        "            index = vocabs_dict[corpus[0]]\n",
        "            # best_probs[i, 0] = math.log(A[s_idx, i]) + math.log(B[i, index])\n",
        "            best_probs[i, 0] = math.log(A[s_idx, i - 1]) + math.log(B[i - 1, index])\n",
        "    print(best_paths.size)\n",
        "    return best_probs, best_paths"
      ]
    },
    {
      "cell_type": "code",
      "execution_count": null,
      "metadata": {
        "id": "y5TbvuBYQaDh",
        "colab": {
          "base_uri": "https://localhost:8080/"
        },
        "outputId": "fc866b98-c174-4486-8948-8adb2e3afc83"
      },
      "outputs": [
        {
          "output_type": "stream",
          "name": "stdout",
          "text": [
            "29840\n",
            "best_probs_train[0, 0]: -15.715867896959931\n",
            "best_paths_train[2, 3]: 0\n"
          ]
        }
      ],
      "source": [
        "best_probs_train, best_paths_train = viterbi_initialize(states, tag_counts, A_viterbi, B_viterbi, train_words, vocabs_dict)\n",
        "print('best_probs_train[0, 0]:', best_probs_train[0, 0]) \n",
        "print('best_paths_train[2, 3]:', best_paths_train[2, 3])"
      ]
    },
    {
      "cell_type": "code",
      "execution_count": null,
      "metadata": {
        "id": "f7ivYp4uTW_4",
        "colab": {
          "base_uri": "https://localhost:8080/"
        },
        "outputId": "859c530f-128d-4baa-bedd-882927afb27c"
      },
      "outputs": [
        {
          "output_type": "stream",
          "name": "stdout",
          "text": [
            "4420\n",
            "best_probs_test[0, 0]: -15.715867896959931\n",
            "best_paths_test[2, 3]: 0\n"
          ]
        }
      ],
      "source": [
        "best_probs_test, best_paths_test = viterbi_initialize(states, tag_counts, A_viterbi, B_viterbi, test_words, vocabs_dict)\n",
        "print('best_probs_test[0, 0]:', best_probs_test[0, 0]) \n",
        "print('best_paths_test[2, 3]:', best_paths_test[2, 3])"
      ]
    },
    {
      "cell_type": "markdown",
      "metadata": {
        "id": "8P4CkgU8-rQP"
      },
      "source": [
        "## 8.2 Bước Forward"
      ]
    },
    {
      "cell_type": "code",
      "execution_count": null,
      "metadata": {
        "id": "XP5PiX8D-u4y"
      },
      "outputs": [],
      "source": [
        "def viterbi_forward(A, B, corpus, best_probs, best_paths, vocabs_dict):\n",
        "    num_tags = best_probs.shape[0]\n",
        "    \n",
        "    for i in range(1, len(corpus)): \n",
        "        if i % 5000 == 0: print(f'Processed {i} words...')\n",
        "            \n",
        "        for j in range(num_tags):\n",
        "            best_prob_i = float('-inf')\n",
        "            best_path_i = None\n",
        "            \n",
        "            for k in range(num_tags):\n",
        "                index = vocabs_dict[corpus[i]]\n",
        "                # prob = best_probs[k, i - 1] + math.log(A[k, j]) + math.log(B[j, index])\n",
        "                prob = best_probs[k, i - 1] + math.log(A[k, j - 1]) + math.log(B[j - 1, index])\n",
        "\n",
        "                if prob > best_prob_i:\n",
        "                    best_prob_i = prob\n",
        "                    best_path_i = k\n",
        "                    \n",
        "            best_probs[j, i] = best_prob_i\n",
        "            best_paths[j, i] = best_path_i\n",
        "    return best_probs, best_paths"
      ]
    },
    {
      "cell_type": "code",
      "execution_count": null,
      "metadata": {
        "id": "__v0yHI5-xOn",
        "colab": {
          "base_uri": "https://localhost:8080/"
        },
        "outputId": "087cdadf-fadc-454d-8172-02109d474ae8"
      },
      "outputs": [
        {
          "output_type": "stream",
          "name": "stdout",
          "text": [
            "best_probs_train[0, 1]: -25.016842958849708\n",
            "best_paths_train[0, 4]: 17\n"
          ]
        }
      ],
      "source": [
        "best_probs_train, best_paths_train = viterbi_forward(A_viterbi, B_viterbi, train_words, best_probs_train, best_paths_train, vocabs_dict)\n",
        "print('best_probs_train[0, 1]:', best_probs_train[0, 1]) \n",
        "print('best_paths_train[0, 4]:', best_paths_train[0, 4])"
      ]
    },
    {
      "cell_type": "code",
      "source": [
        "rows = [str(states.index(tag))+\": \"+tag for tag in states]\n",
        "# df = pd.DataFrame(B[np.ix_(rows, cols)], index=rvals, columns=cidx)\n",
        "\n",
        "df = pd.DataFrame([row[:10] for row in best_paths_train])\n",
        "\n",
        "df.columns = train_words[:10]\n",
        "df.index = rows\n",
        "df\n",
        "# print(best_paths_train.shape)\n",
        "# count=1\n",
        "# for row in best_paths_train:\n",
        "#   print(row[:10].shape)\n",
        "#   print(count)\n",
        "#   count+=1"
      ],
      "metadata": {
        "colab": {
          "base_uri": "https://localhost:8080/",
          "height": 676
        },
        "id": "qCzD8BZUs2Fd",
        "outputId": "6bb257bf-e01e-44aa-e65d-5834c03251de"
      },
      "execution_count": null,
      "outputs": [
        {
          "output_type": "execute_result",
          "data": {
            "text/plain": [
              "          --unk--  đủ  điều_kiện  ra  trường  thì  em  cần  đạt  bằng\n",
              "0: --s--        0  18          1   9      17    9   2    9   17    17\n",
              "1: A            0   9          1   9      17    9   2    9   17    17\n",
              "2: C            0   9         17   9      17    9   2    9   17    17\n",
              "3: CH           0   9          1   9      17    9   2    9   17    17\n",
              "4: Cc           0   9          1   9      17    9   2    9   17    17\n",
              "5: D            0   9         17   9      17    9   2    9   17    17\n",
              "6: E            0   9          1   9      17    9   2    9   17    17\n",
              "7: I            0   9         16   9      17    9   2    9   16    17\n",
              "8: M            0   9          9   9      17    9   2    9   17    17\n",
              "9: N            0   9         17   9      17    9   2    9   17    17\n",
              "10: Nc          0  18          1   9      17    9   2    9   17    17\n",
              "11: Ni          0   9          1   9      17    9   2    9   17    17\n",
              "12: Np          0   9          9   9      17    9   2    9   17    17\n",
              "13: Nu          0  18          1   3      17    9   2    9   17    17\n",
              "14: O           0  18          1   9      17    9   2    9   17    17\n",
              "15: P           0   9         17   9      17    9   2    9   17    17\n",
              "16: R           0   9          1   9      17    9   2    9   17    17\n",
              "17: V           0   9         16   9      17    9   2    9   17    17\n",
              "18: X           0   9         17   9      17    9   2    9   17    17\n",
              "19: Z           0  18          1   9      17    9   2    9   17    17"
            ],
            "text/html": [
              "\n",
              "  <div id=\"df-bc9572c0-946d-48bd-aded-c23497672214\">\n",
              "    <div class=\"colab-df-container\">\n",
              "      <div>\n",
              "<style scoped>\n",
              "    .dataframe tbody tr th:only-of-type {\n",
              "        vertical-align: middle;\n",
              "    }\n",
              "\n",
              "    .dataframe tbody tr th {\n",
              "        vertical-align: top;\n",
              "    }\n",
              "\n",
              "    .dataframe thead th {\n",
              "        text-align: right;\n",
              "    }\n",
              "</style>\n",
              "<table border=\"1\" class=\"dataframe\">\n",
              "  <thead>\n",
              "    <tr style=\"text-align: right;\">\n",
              "      <th></th>\n",
              "      <th>--unk--</th>\n",
              "      <th>đủ</th>\n",
              "      <th>điều_kiện</th>\n",
              "      <th>ra</th>\n",
              "      <th>trường</th>\n",
              "      <th>thì</th>\n",
              "      <th>em</th>\n",
              "      <th>cần</th>\n",
              "      <th>đạt</th>\n",
              "      <th>bằng</th>\n",
              "    </tr>\n",
              "  </thead>\n",
              "  <tbody>\n",
              "    <tr>\n",
              "      <th>0: --s--</th>\n",
              "      <td>0</td>\n",
              "      <td>18</td>\n",
              "      <td>1</td>\n",
              "      <td>9</td>\n",
              "      <td>17</td>\n",
              "      <td>9</td>\n",
              "      <td>2</td>\n",
              "      <td>9</td>\n",
              "      <td>17</td>\n",
              "      <td>17</td>\n",
              "    </tr>\n",
              "    <tr>\n",
              "      <th>1: A</th>\n",
              "      <td>0</td>\n",
              "      <td>9</td>\n",
              "      <td>1</td>\n",
              "      <td>9</td>\n",
              "      <td>17</td>\n",
              "      <td>9</td>\n",
              "      <td>2</td>\n",
              "      <td>9</td>\n",
              "      <td>17</td>\n",
              "      <td>17</td>\n",
              "    </tr>\n",
              "    <tr>\n",
              "      <th>2: C</th>\n",
              "      <td>0</td>\n",
              "      <td>9</td>\n",
              "      <td>17</td>\n",
              "      <td>9</td>\n",
              "      <td>17</td>\n",
              "      <td>9</td>\n",
              "      <td>2</td>\n",
              "      <td>9</td>\n",
              "      <td>17</td>\n",
              "      <td>17</td>\n",
              "    </tr>\n",
              "    <tr>\n",
              "      <th>3: CH</th>\n",
              "      <td>0</td>\n",
              "      <td>9</td>\n",
              "      <td>1</td>\n",
              "      <td>9</td>\n",
              "      <td>17</td>\n",
              "      <td>9</td>\n",
              "      <td>2</td>\n",
              "      <td>9</td>\n",
              "      <td>17</td>\n",
              "      <td>17</td>\n",
              "    </tr>\n",
              "    <tr>\n",
              "      <th>4: Cc</th>\n",
              "      <td>0</td>\n",
              "      <td>9</td>\n",
              "      <td>1</td>\n",
              "      <td>9</td>\n",
              "      <td>17</td>\n",
              "      <td>9</td>\n",
              "      <td>2</td>\n",
              "      <td>9</td>\n",
              "      <td>17</td>\n",
              "      <td>17</td>\n",
              "    </tr>\n",
              "    <tr>\n",
              "      <th>5: D</th>\n",
              "      <td>0</td>\n",
              "      <td>9</td>\n",
              "      <td>17</td>\n",
              "      <td>9</td>\n",
              "      <td>17</td>\n",
              "      <td>9</td>\n",
              "      <td>2</td>\n",
              "      <td>9</td>\n",
              "      <td>17</td>\n",
              "      <td>17</td>\n",
              "    </tr>\n",
              "    <tr>\n",
              "      <th>6: E</th>\n",
              "      <td>0</td>\n",
              "      <td>9</td>\n",
              "      <td>1</td>\n",
              "      <td>9</td>\n",
              "      <td>17</td>\n",
              "      <td>9</td>\n",
              "      <td>2</td>\n",
              "      <td>9</td>\n",
              "      <td>17</td>\n",
              "      <td>17</td>\n",
              "    </tr>\n",
              "    <tr>\n",
              "      <th>7: I</th>\n",
              "      <td>0</td>\n",
              "      <td>9</td>\n",
              "      <td>16</td>\n",
              "      <td>9</td>\n",
              "      <td>17</td>\n",
              "      <td>9</td>\n",
              "      <td>2</td>\n",
              "      <td>9</td>\n",
              "      <td>16</td>\n",
              "      <td>17</td>\n",
              "    </tr>\n",
              "    <tr>\n",
              "      <th>8: M</th>\n",
              "      <td>0</td>\n",
              "      <td>9</td>\n",
              "      <td>9</td>\n",
              "      <td>9</td>\n",
              "      <td>17</td>\n",
              "      <td>9</td>\n",
              "      <td>2</td>\n",
              "      <td>9</td>\n",
              "      <td>17</td>\n",
              "      <td>17</td>\n",
              "    </tr>\n",
              "    <tr>\n",
              "      <th>9: N</th>\n",
              "      <td>0</td>\n",
              "      <td>9</td>\n",
              "      <td>17</td>\n",
              "      <td>9</td>\n",
              "      <td>17</td>\n",
              "      <td>9</td>\n",
              "      <td>2</td>\n",
              "      <td>9</td>\n",
              "      <td>17</td>\n",
              "      <td>17</td>\n",
              "    </tr>\n",
              "    <tr>\n",
              "      <th>10: Nc</th>\n",
              "      <td>0</td>\n",
              "      <td>18</td>\n",
              "      <td>1</td>\n",
              "      <td>9</td>\n",
              "      <td>17</td>\n",
              "      <td>9</td>\n",
              "      <td>2</td>\n",
              "      <td>9</td>\n",
              "      <td>17</td>\n",
              "      <td>17</td>\n",
              "    </tr>\n",
              "    <tr>\n",
              "      <th>11: Ni</th>\n",
              "      <td>0</td>\n",
              "      <td>9</td>\n",
              "      <td>1</td>\n",
              "      <td>9</td>\n",
              "      <td>17</td>\n",
              "      <td>9</td>\n",
              "      <td>2</td>\n",
              "      <td>9</td>\n",
              "      <td>17</td>\n",
              "      <td>17</td>\n",
              "    </tr>\n",
              "    <tr>\n",
              "      <th>12: Np</th>\n",
              "      <td>0</td>\n",
              "      <td>9</td>\n",
              "      <td>9</td>\n",
              "      <td>9</td>\n",
              "      <td>17</td>\n",
              "      <td>9</td>\n",
              "      <td>2</td>\n",
              "      <td>9</td>\n",
              "      <td>17</td>\n",
              "      <td>17</td>\n",
              "    </tr>\n",
              "    <tr>\n",
              "      <th>13: Nu</th>\n",
              "      <td>0</td>\n",
              "      <td>18</td>\n",
              "      <td>1</td>\n",
              "      <td>3</td>\n",
              "      <td>17</td>\n",
              "      <td>9</td>\n",
              "      <td>2</td>\n",
              "      <td>9</td>\n",
              "      <td>17</td>\n",
              "      <td>17</td>\n",
              "    </tr>\n",
              "    <tr>\n",
              "      <th>14: O</th>\n",
              "      <td>0</td>\n",
              "      <td>18</td>\n",
              "      <td>1</td>\n",
              "      <td>9</td>\n",
              "      <td>17</td>\n",
              "      <td>9</td>\n",
              "      <td>2</td>\n",
              "      <td>9</td>\n",
              "      <td>17</td>\n",
              "      <td>17</td>\n",
              "    </tr>\n",
              "    <tr>\n",
              "      <th>15: P</th>\n",
              "      <td>0</td>\n",
              "      <td>9</td>\n",
              "      <td>17</td>\n",
              "      <td>9</td>\n",
              "      <td>17</td>\n",
              "      <td>9</td>\n",
              "      <td>2</td>\n",
              "      <td>9</td>\n",
              "      <td>17</td>\n",
              "      <td>17</td>\n",
              "    </tr>\n",
              "    <tr>\n",
              "      <th>16: R</th>\n",
              "      <td>0</td>\n",
              "      <td>9</td>\n",
              "      <td>1</td>\n",
              "      <td>9</td>\n",
              "      <td>17</td>\n",
              "      <td>9</td>\n",
              "      <td>2</td>\n",
              "      <td>9</td>\n",
              "      <td>17</td>\n",
              "      <td>17</td>\n",
              "    </tr>\n",
              "    <tr>\n",
              "      <th>17: V</th>\n",
              "      <td>0</td>\n",
              "      <td>9</td>\n",
              "      <td>16</td>\n",
              "      <td>9</td>\n",
              "      <td>17</td>\n",
              "      <td>9</td>\n",
              "      <td>2</td>\n",
              "      <td>9</td>\n",
              "      <td>17</td>\n",
              "      <td>17</td>\n",
              "    </tr>\n",
              "    <tr>\n",
              "      <th>18: X</th>\n",
              "      <td>0</td>\n",
              "      <td>9</td>\n",
              "      <td>17</td>\n",
              "      <td>9</td>\n",
              "      <td>17</td>\n",
              "      <td>9</td>\n",
              "      <td>2</td>\n",
              "      <td>9</td>\n",
              "      <td>17</td>\n",
              "      <td>17</td>\n",
              "    </tr>\n",
              "    <tr>\n",
              "      <th>19: Z</th>\n",
              "      <td>0</td>\n",
              "      <td>18</td>\n",
              "      <td>1</td>\n",
              "      <td>9</td>\n",
              "      <td>17</td>\n",
              "      <td>9</td>\n",
              "      <td>2</td>\n",
              "      <td>9</td>\n",
              "      <td>17</td>\n",
              "      <td>17</td>\n",
              "    </tr>\n",
              "  </tbody>\n",
              "</table>\n",
              "</div>\n",
              "      <button class=\"colab-df-convert\" onclick=\"convertToInteractive('df-bc9572c0-946d-48bd-aded-c23497672214')\"\n",
              "              title=\"Convert this dataframe to an interactive table.\"\n",
              "              style=\"display:none;\">\n",
              "        \n",
              "  <svg xmlns=\"http://www.w3.org/2000/svg\" height=\"24px\"viewBox=\"0 0 24 24\"\n",
              "       width=\"24px\">\n",
              "    <path d=\"M0 0h24v24H0V0z\" fill=\"none\"/>\n",
              "    <path d=\"M18.56 5.44l.94 2.06.94-2.06 2.06-.94-2.06-.94-.94-2.06-.94 2.06-2.06.94zm-11 1L8.5 8.5l.94-2.06 2.06-.94-2.06-.94L8.5 2.5l-.94 2.06-2.06.94zm10 10l.94 2.06.94-2.06 2.06-.94-2.06-.94-.94-2.06-.94 2.06-2.06.94z\"/><path d=\"M17.41 7.96l-1.37-1.37c-.4-.4-.92-.59-1.43-.59-.52 0-1.04.2-1.43.59L10.3 9.45l-7.72 7.72c-.78.78-.78 2.05 0 2.83L4 21.41c.39.39.9.59 1.41.59.51 0 1.02-.2 1.41-.59l7.78-7.78 2.81-2.81c.8-.78.8-2.07 0-2.86zM5.41 20L4 18.59l7.72-7.72 1.47 1.35L5.41 20z\"/>\n",
              "  </svg>\n",
              "      </button>\n",
              "      \n",
              "  <style>\n",
              "    .colab-df-container {\n",
              "      display:flex;\n",
              "      flex-wrap:wrap;\n",
              "      gap: 12px;\n",
              "    }\n",
              "\n",
              "    .colab-df-convert {\n",
              "      background-color: #E8F0FE;\n",
              "      border: none;\n",
              "      border-radius: 50%;\n",
              "      cursor: pointer;\n",
              "      display: none;\n",
              "      fill: #1967D2;\n",
              "      height: 32px;\n",
              "      padding: 0 0 0 0;\n",
              "      width: 32px;\n",
              "    }\n",
              "\n",
              "    .colab-df-convert:hover {\n",
              "      background-color: #E2EBFA;\n",
              "      box-shadow: 0px 1px 2px rgba(60, 64, 67, 0.3), 0px 1px 3px 1px rgba(60, 64, 67, 0.15);\n",
              "      fill: #174EA6;\n",
              "    }\n",
              "\n",
              "    [theme=dark] .colab-df-convert {\n",
              "      background-color: #3B4455;\n",
              "      fill: #D2E3FC;\n",
              "    }\n",
              "\n",
              "    [theme=dark] .colab-df-convert:hover {\n",
              "      background-color: #434B5C;\n",
              "      box-shadow: 0px 1px 3px 1px rgba(0, 0, 0, 0.15);\n",
              "      filter: drop-shadow(0px 1px 2px rgba(0, 0, 0, 0.3));\n",
              "      fill: #FFFFFF;\n",
              "    }\n",
              "  </style>\n",
              "\n",
              "      <script>\n",
              "        const buttonEl =\n",
              "          document.querySelector('#df-bc9572c0-946d-48bd-aded-c23497672214 button.colab-df-convert');\n",
              "        buttonEl.style.display =\n",
              "          google.colab.kernel.accessAllowed ? 'block' : 'none';\n",
              "\n",
              "        async function convertToInteractive(key) {\n",
              "          const element = document.querySelector('#df-bc9572c0-946d-48bd-aded-c23497672214');\n",
              "          const dataTable =\n",
              "            await google.colab.kernel.invokeFunction('convertToInteractive',\n",
              "                                                     [key], {});\n",
              "          if (!dataTable) return;\n",
              "\n",
              "          const docLinkHtml = 'Like what you see? Visit the ' +\n",
              "            '<a target=\"_blank\" href=https://colab.research.google.com/notebooks/data_table.ipynb>data table notebook</a>'\n",
              "            + ' to learn more about interactive tables.';\n",
              "          element.innerHTML = '';\n",
              "          dataTable['output_type'] = 'display_data';\n",
              "          await google.colab.output.renderOutput(dataTable, element);\n",
              "          const docLink = document.createElement('div');\n",
              "          docLink.innerHTML = docLinkHtml;\n",
              "          element.appendChild(docLink);\n",
              "        }\n",
              "      </script>\n",
              "    </div>\n",
              "  </div>\n",
              "  "
            ]
          },
          "metadata": {},
          "execution_count": 980
        }
      ]
    },
    {
      "cell_type": "code",
      "source": [
        "best_probs_test, best_paths_test = viterbi_forward(A_viterbi, B_viterbi, test_words, best_probs_test, best_paths_test, vocabs_dict)\n",
        "print('best_probs_test[0, 1]:', best_probs_test[0, 1]) \n",
        "print('best_paths_test[0, 4]:', best_paths_test[0, 4])"
      ],
      "metadata": {
        "colab": {
          "base_uri": "https://localhost:8080/"
        },
        "id": "uCmNWhW17rya",
        "outputId": "2f1f82c4-7de5-430b-fb2e-28cec82d4cf6"
      },
      "execution_count": null,
      "outputs": [
        {
          "output_type": "stream",
          "name": "stdout",
          "text": [
            "best_probs_test[0, 1]: -25.016842958849708\n",
            "best_paths_test[0, 4]: 5\n"
          ]
        }
      ]
    },
    {
      "cell_type": "code",
      "source": [
        "rows = [str(states.index(tag))+\": \"+tag for tag in states]\n",
        "# df = pd.DataFrame(B[np.ix_(rows, cols)], index=rvals, columns=cidx)\n",
        "df = pd.DataFrame([row[:10] for row in best_paths_test])\n",
        "\n",
        "df.columns = train_words[:10]\n",
        "df.index = rows\n",
        "df"
      ],
      "metadata": {
        "colab": {
          "base_uri": "https://localhost:8080/",
          "height": 676
        },
        "id": "qCib8jZI0X00",
        "outputId": "e7e09f7b-9afd-4c02-81b0-cdc82554ac73"
      },
      "execution_count": null,
      "outputs": [
        {
          "output_type": "execute_result",
          "data": {
            "text/plain": [
              "          --unk--  đủ  điều_kiện  ra  trường  thì  em  cần  đạt  bằng\n",
              "0: --s--        0  18          5   5       5    9  17    5    9     2\n",
              "1: A            0   9         17   9       9    9  17    5    9    17\n",
              "2: C            0   9         17   9      17    9  17    9    9    17\n",
              "3: CH           0   9         17   1       9    9  17    9    9    17\n",
              "4: Cc           0   9          8   9       9    9  17    5    9     8\n",
              "5: D            0   9         17  17      17    9  17    5    9     2\n",
              "6: E            0   9         17   9      17    9  17    9    9    17\n",
              "7: I            0   9         16  16      16    9  16    5    9    16\n",
              "8: M            0   9          9   9       9    9  17    5    9     9\n",
              "9: N            0   9         17  17      17    9  17    5    9    17\n",
              "10: Nc          0  18         16   1      16    9  17    5    9    16\n",
              "11: Ni          0   9          9   9       9    9  17    5    9     2\n",
              "12: Np          0   9          9   9       9    9  17    5    9     9\n",
              "13: Nu          0  18          3   1       3    9  17    5    9     2\n",
              "14: O           0  18         12   1      12    9  17    5    9     2\n",
              "15: P           0   9         17   9       9    9  17    5    9    17\n",
              "16: R           0   9         17   9       9    9  17    9    9     2\n",
              "17: V           0   9         16   9      16    9  17    9    9     2\n",
              "18: X           0   9         17   9      17    9  17    5    9     2\n",
              "19: Z           0  18          5   5       5    9  17    5    9     2"
            ],
            "text/html": [
              "\n",
              "  <div id=\"df-8caba820-fc5f-4cd1-9943-612241520d2e\">\n",
              "    <div class=\"colab-df-container\">\n",
              "      <div>\n",
              "<style scoped>\n",
              "    .dataframe tbody tr th:only-of-type {\n",
              "        vertical-align: middle;\n",
              "    }\n",
              "\n",
              "    .dataframe tbody tr th {\n",
              "        vertical-align: top;\n",
              "    }\n",
              "\n",
              "    .dataframe thead th {\n",
              "        text-align: right;\n",
              "    }\n",
              "</style>\n",
              "<table border=\"1\" class=\"dataframe\">\n",
              "  <thead>\n",
              "    <tr style=\"text-align: right;\">\n",
              "      <th></th>\n",
              "      <th>--unk--</th>\n",
              "      <th>đủ</th>\n",
              "      <th>điều_kiện</th>\n",
              "      <th>ra</th>\n",
              "      <th>trường</th>\n",
              "      <th>thì</th>\n",
              "      <th>em</th>\n",
              "      <th>cần</th>\n",
              "      <th>đạt</th>\n",
              "      <th>bằng</th>\n",
              "    </tr>\n",
              "  </thead>\n",
              "  <tbody>\n",
              "    <tr>\n",
              "      <th>0: --s--</th>\n",
              "      <td>0</td>\n",
              "      <td>18</td>\n",
              "      <td>5</td>\n",
              "      <td>5</td>\n",
              "      <td>5</td>\n",
              "      <td>9</td>\n",
              "      <td>17</td>\n",
              "      <td>5</td>\n",
              "      <td>9</td>\n",
              "      <td>2</td>\n",
              "    </tr>\n",
              "    <tr>\n",
              "      <th>1: A</th>\n",
              "      <td>0</td>\n",
              "      <td>9</td>\n",
              "      <td>17</td>\n",
              "      <td>9</td>\n",
              "      <td>9</td>\n",
              "      <td>9</td>\n",
              "      <td>17</td>\n",
              "      <td>5</td>\n",
              "      <td>9</td>\n",
              "      <td>17</td>\n",
              "    </tr>\n",
              "    <tr>\n",
              "      <th>2: C</th>\n",
              "      <td>0</td>\n",
              "      <td>9</td>\n",
              "      <td>17</td>\n",
              "      <td>9</td>\n",
              "      <td>17</td>\n",
              "      <td>9</td>\n",
              "      <td>17</td>\n",
              "      <td>9</td>\n",
              "      <td>9</td>\n",
              "      <td>17</td>\n",
              "    </tr>\n",
              "    <tr>\n",
              "      <th>3: CH</th>\n",
              "      <td>0</td>\n",
              "      <td>9</td>\n",
              "      <td>17</td>\n",
              "      <td>1</td>\n",
              "      <td>9</td>\n",
              "      <td>9</td>\n",
              "      <td>17</td>\n",
              "      <td>9</td>\n",
              "      <td>9</td>\n",
              "      <td>17</td>\n",
              "    </tr>\n",
              "    <tr>\n",
              "      <th>4: Cc</th>\n",
              "      <td>0</td>\n",
              "      <td>9</td>\n",
              "      <td>8</td>\n",
              "      <td>9</td>\n",
              "      <td>9</td>\n",
              "      <td>9</td>\n",
              "      <td>17</td>\n",
              "      <td>5</td>\n",
              "      <td>9</td>\n",
              "      <td>8</td>\n",
              "    </tr>\n",
              "    <tr>\n",
              "      <th>5: D</th>\n",
              "      <td>0</td>\n",
              "      <td>9</td>\n",
              "      <td>17</td>\n",
              "      <td>17</td>\n",
              "      <td>17</td>\n",
              "      <td>9</td>\n",
              "      <td>17</td>\n",
              "      <td>5</td>\n",
              "      <td>9</td>\n",
              "      <td>2</td>\n",
              "    </tr>\n",
              "    <tr>\n",
              "      <th>6: E</th>\n",
              "      <td>0</td>\n",
              "      <td>9</td>\n",
              "      <td>17</td>\n",
              "      <td>9</td>\n",
              "      <td>17</td>\n",
              "      <td>9</td>\n",
              "      <td>17</td>\n",
              "      <td>9</td>\n",
              "      <td>9</td>\n",
              "      <td>17</td>\n",
              "    </tr>\n",
              "    <tr>\n",
              "      <th>7: I</th>\n",
              "      <td>0</td>\n",
              "      <td>9</td>\n",
              "      <td>16</td>\n",
              "      <td>16</td>\n",
              "      <td>16</td>\n",
              "      <td>9</td>\n",
              "      <td>16</td>\n",
              "      <td>5</td>\n",
              "      <td>9</td>\n",
              "      <td>16</td>\n",
              "    </tr>\n",
              "    <tr>\n",
              "      <th>8: M</th>\n",
              "      <td>0</td>\n",
              "      <td>9</td>\n",
              "      <td>9</td>\n",
              "      <td>9</td>\n",
              "      <td>9</td>\n",
              "      <td>9</td>\n",
              "      <td>17</td>\n",
              "      <td>5</td>\n",
              "      <td>9</td>\n",
              "      <td>9</td>\n",
              "    </tr>\n",
              "    <tr>\n",
              "      <th>9: N</th>\n",
              "      <td>0</td>\n",
              "      <td>9</td>\n",
              "      <td>17</td>\n",
              "      <td>17</td>\n",
              "      <td>17</td>\n",
              "      <td>9</td>\n",
              "      <td>17</td>\n",
              "      <td>5</td>\n",
              "      <td>9</td>\n",
              "      <td>17</td>\n",
              "    </tr>\n",
              "    <tr>\n",
              "      <th>10: Nc</th>\n",
              "      <td>0</td>\n",
              "      <td>18</td>\n",
              "      <td>16</td>\n",
              "      <td>1</td>\n",
              "      <td>16</td>\n",
              "      <td>9</td>\n",
              "      <td>17</td>\n",
              "      <td>5</td>\n",
              "      <td>9</td>\n",
              "      <td>16</td>\n",
              "    </tr>\n",
              "    <tr>\n",
              "      <th>11: Ni</th>\n",
              "      <td>0</td>\n",
              "      <td>9</td>\n",
              "      <td>9</td>\n",
              "      <td>9</td>\n",
              "      <td>9</td>\n",
              "      <td>9</td>\n",
              "      <td>17</td>\n",
              "      <td>5</td>\n",
              "      <td>9</td>\n",
              "      <td>2</td>\n",
              "    </tr>\n",
              "    <tr>\n",
              "      <th>12: Np</th>\n",
              "      <td>0</td>\n",
              "      <td>9</td>\n",
              "      <td>9</td>\n",
              "      <td>9</td>\n",
              "      <td>9</td>\n",
              "      <td>9</td>\n",
              "      <td>17</td>\n",
              "      <td>5</td>\n",
              "      <td>9</td>\n",
              "      <td>9</td>\n",
              "    </tr>\n",
              "    <tr>\n",
              "      <th>13: Nu</th>\n",
              "      <td>0</td>\n",
              "      <td>18</td>\n",
              "      <td>3</td>\n",
              "      <td>1</td>\n",
              "      <td>3</td>\n",
              "      <td>9</td>\n",
              "      <td>17</td>\n",
              "      <td>5</td>\n",
              "      <td>9</td>\n",
              "      <td>2</td>\n",
              "    </tr>\n",
              "    <tr>\n",
              "      <th>14: O</th>\n",
              "      <td>0</td>\n",
              "      <td>18</td>\n",
              "      <td>12</td>\n",
              "      <td>1</td>\n",
              "      <td>12</td>\n",
              "      <td>9</td>\n",
              "      <td>17</td>\n",
              "      <td>5</td>\n",
              "      <td>9</td>\n",
              "      <td>2</td>\n",
              "    </tr>\n",
              "    <tr>\n",
              "      <th>15: P</th>\n",
              "      <td>0</td>\n",
              "      <td>9</td>\n",
              "      <td>17</td>\n",
              "      <td>9</td>\n",
              "      <td>9</td>\n",
              "      <td>9</td>\n",
              "      <td>17</td>\n",
              "      <td>5</td>\n",
              "      <td>9</td>\n",
              "      <td>17</td>\n",
              "    </tr>\n",
              "    <tr>\n",
              "      <th>16: R</th>\n",
              "      <td>0</td>\n",
              "      <td>9</td>\n",
              "      <td>17</td>\n",
              "      <td>9</td>\n",
              "      <td>9</td>\n",
              "      <td>9</td>\n",
              "      <td>17</td>\n",
              "      <td>9</td>\n",
              "      <td>9</td>\n",
              "      <td>2</td>\n",
              "    </tr>\n",
              "    <tr>\n",
              "      <th>17: V</th>\n",
              "      <td>0</td>\n",
              "      <td>9</td>\n",
              "      <td>16</td>\n",
              "      <td>9</td>\n",
              "      <td>16</td>\n",
              "      <td>9</td>\n",
              "      <td>17</td>\n",
              "      <td>9</td>\n",
              "      <td>9</td>\n",
              "      <td>2</td>\n",
              "    </tr>\n",
              "    <tr>\n",
              "      <th>18: X</th>\n",
              "      <td>0</td>\n",
              "      <td>9</td>\n",
              "      <td>17</td>\n",
              "      <td>9</td>\n",
              "      <td>17</td>\n",
              "      <td>9</td>\n",
              "      <td>17</td>\n",
              "      <td>5</td>\n",
              "      <td>9</td>\n",
              "      <td>2</td>\n",
              "    </tr>\n",
              "    <tr>\n",
              "      <th>19: Z</th>\n",
              "      <td>0</td>\n",
              "      <td>18</td>\n",
              "      <td>5</td>\n",
              "      <td>5</td>\n",
              "      <td>5</td>\n",
              "      <td>9</td>\n",
              "      <td>17</td>\n",
              "      <td>5</td>\n",
              "      <td>9</td>\n",
              "      <td>2</td>\n",
              "    </tr>\n",
              "  </tbody>\n",
              "</table>\n",
              "</div>\n",
              "      <button class=\"colab-df-convert\" onclick=\"convertToInteractive('df-8caba820-fc5f-4cd1-9943-612241520d2e')\"\n",
              "              title=\"Convert this dataframe to an interactive table.\"\n",
              "              style=\"display:none;\">\n",
              "        \n",
              "  <svg xmlns=\"http://www.w3.org/2000/svg\" height=\"24px\"viewBox=\"0 0 24 24\"\n",
              "       width=\"24px\">\n",
              "    <path d=\"M0 0h24v24H0V0z\" fill=\"none\"/>\n",
              "    <path d=\"M18.56 5.44l.94 2.06.94-2.06 2.06-.94-2.06-.94-.94-2.06-.94 2.06-2.06.94zm-11 1L8.5 8.5l.94-2.06 2.06-.94-2.06-.94L8.5 2.5l-.94 2.06-2.06.94zm10 10l.94 2.06.94-2.06 2.06-.94-2.06-.94-.94-2.06-.94 2.06-2.06.94z\"/><path d=\"M17.41 7.96l-1.37-1.37c-.4-.4-.92-.59-1.43-.59-.52 0-1.04.2-1.43.59L10.3 9.45l-7.72 7.72c-.78.78-.78 2.05 0 2.83L4 21.41c.39.39.9.59 1.41.59.51 0 1.02-.2 1.41-.59l7.78-7.78 2.81-2.81c.8-.78.8-2.07 0-2.86zM5.41 20L4 18.59l7.72-7.72 1.47 1.35L5.41 20z\"/>\n",
              "  </svg>\n",
              "      </button>\n",
              "      \n",
              "  <style>\n",
              "    .colab-df-container {\n",
              "      display:flex;\n",
              "      flex-wrap:wrap;\n",
              "      gap: 12px;\n",
              "    }\n",
              "\n",
              "    .colab-df-convert {\n",
              "      background-color: #E8F0FE;\n",
              "      border: none;\n",
              "      border-radius: 50%;\n",
              "      cursor: pointer;\n",
              "      display: none;\n",
              "      fill: #1967D2;\n",
              "      height: 32px;\n",
              "      padding: 0 0 0 0;\n",
              "      width: 32px;\n",
              "    }\n",
              "\n",
              "    .colab-df-convert:hover {\n",
              "      background-color: #E2EBFA;\n",
              "      box-shadow: 0px 1px 2px rgba(60, 64, 67, 0.3), 0px 1px 3px 1px rgba(60, 64, 67, 0.15);\n",
              "      fill: #174EA6;\n",
              "    }\n",
              "\n",
              "    [theme=dark] .colab-df-convert {\n",
              "      background-color: #3B4455;\n",
              "      fill: #D2E3FC;\n",
              "    }\n",
              "\n",
              "    [theme=dark] .colab-df-convert:hover {\n",
              "      background-color: #434B5C;\n",
              "      box-shadow: 0px 1px 3px 1px rgba(0, 0, 0, 0.15);\n",
              "      filter: drop-shadow(0px 1px 2px rgba(0, 0, 0, 0.3));\n",
              "      fill: #FFFFFF;\n",
              "    }\n",
              "  </style>\n",
              "\n",
              "      <script>\n",
              "        const buttonEl =\n",
              "          document.querySelector('#df-8caba820-fc5f-4cd1-9943-612241520d2e button.colab-df-convert');\n",
              "        buttonEl.style.display =\n",
              "          google.colab.kernel.accessAllowed ? 'block' : 'none';\n",
              "\n",
              "        async function convertToInteractive(key) {\n",
              "          const element = document.querySelector('#df-8caba820-fc5f-4cd1-9943-612241520d2e');\n",
              "          const dataTable =\n",
              "            await google.colab.kernel.invokeFunction('convertToInteractive',\n",
              "                                                     [key], {});\n",
              "          if (!dataTable) return;\n",
              "\n",
              "          const docLinkHtml = 'Like what you see? Visit the ' +\n",
              "            '<a target=\"_blank\" href=https://colab.research.google.com/notebooks/data_table.ipynb>data table notebook</a>'\n",
              "            + ' to learn more about interactive tables.';\n",
              "          element.innerHTML = '';\n",
              "          dataTable['output_type'] = 'display_data';\n",
              "          await google.colab.output.renderOutput(dataTable, element);\n",
              "          const docLink = document.createElement('div');\n",
              "          docLink.innerHTML = docLinkHtml;\n",
              "          element.appendChild(docLink);\n",
              "        }\n",
              "      </script>\n",
              "    </div>\n",
              "  </div>\n",
              "  "
            ]
          },
          "metadata": {},
          "execution_count": 981
        }
      ]
    },
    {
      "cell_type": "markdown",
      "metadata": {
        "id": "c01q_aWi_-pA"
      },
      "source": [
        "## 8.3 Bước Backward\n"
      ]
    },
    {
      "cell_type": "code",
      "execution_count": null,
      "metadata": {
        "id": "NVjo8gx2_-Mb"
      },
      "outputs": [],
      "source": [
        "def viterbi_backward(best_probs, best_paths, states):\n",
        "    m = best_paths.shape[1] \n",
        "    z = [None] * m\n",
        "    pred = [None] * m\n",
        "    \n",
        "    best_prob_for_last_word = float('-inf')\n",
        "    num_tags = best_probs.shape[0]\n",
        "    \n",
        "    for k in range(num_tags):\n",
        "        if best_probs[k, m - 1] > best_prob_for_last_word:\n",
        "            best_prob_for_last_word = best_probs[k, m - 1]\n",
        "            z[m - 1] = k\n",
        "            \n",
        "    pred[m - 1] = states[z[m - 1]]\n",
        "    for i in range(m - 1, -1, -1):\n",
        "        z[i - 1] = best_paths[z[i], i]\n",
        "        pred[i - 1] = states[z[i - 1]]\n",
        "    return pred"
      ]
    },
    {
      "cell_type": "code",
      "execution_count": null,
      "metadata": {
        "id": "kOheSoQSAGxB",
        "colab": {
          "base_uri": "https://localhost:8080/"
        },
        "outputId": "a56985f4-b37d-41bf-ac4d-e728327cb850"
      },
      "outputs": [
        {
          "output_type": "stream",
          "name": "stdout",
          "text": [
            "Dự đoán cho test_pred[-7:220]:\n",
            "['tóc_tai', 'sau', 'khi', 'đi', 'vệ_sinh', '?']\n",
            "['C', 'N', 'N', 'V', 'N', 'CH']\n",
            "Dự đoán cho test_pred[0:7]:\n",
            "['--unk--', 'linh_động', 'hơn', 'tạo', 'điều_kiện', 'giúp', 'các']\n",
            "['N', 'V', 'N', 'V', 'N', 'V', 'D']\n"
          ]
        }
      ],
      "source": [
        "train_pred = viterbi_backward(best_probs_train, best_paths_train, states)\n",
        "test_pred = viterbi_backward(best_probs_test, best_paths_test, states)\n",
        "m = len(test_pred)\n",
        "\n",
        "print(f'Dự đoán cho test_pred[-7:{m - 1}]:')\n",
        "print(test_words[-7:m-1])\n",
        "print(test_pred[-7:m-1])\n",
        "\n",
        "print('Dự đoán cho test_pred[0:7]:')\n",
        "print(test_words[0:7])\n",
        "print(test_pred[0:7])"
      ]
    },
    {
      "cell_type": "code",
      "source": [
        "df = pd.DataFrame(np.reshape(train_pred,(1,len(train_pred))))\n",
        "df.columns = train_words\n",
        "df"
      ],
      "metadata": {
        "colab": {
          "base_uri": "https://localhost:8080/",
          "height": 110
        },
        "id": "XfkyqHrf3-fh",
        "outputId": "ba0ade32-59e3-4984-b319-8dc9c1d953bc"
      },
      "execution_count": null,
      "outputs": [
        {
          "output_type": "execute_result",
          "data": {
            "text/plain": [
              "  --unk-- đủ điều_kiện ra trường thì em cần đạt bằng  ... sập  \" mỗi khi  \\\n",
              "0       N  V         N  V      N   C  N   V   V    N  ...   V  N   V   N   \n",
              "\n",
              "  đăng_kí học_phần các kỳ   .  --n--  \n",
              "0       V        N   D  N  CH  --s--  \n",
              "\n",
              "[1 rows x 1492 columns]"
            ],
            "text/html": [
              "\n",
              "  <div id=\"df-74e037d5-14da-4635-bb8d-60349c247b5a\">\n",
              "    <div class=\"colab-df-container\">\n",
              "      <div>\n",
              "<style scoped>\n",
              "    .dataframe tbody tr th:only-of-type {\n",
              "        vertical-align: middle;\n",
              "    }\n",
              "\n",
              "    .dataframe tbody tr th {\n",
              "        vertical-align: top;\n",
              "    }\n",
              "\n",
              "    .dataframe thead th {\n",
              "        text-align: right;\n",
              "    }\n",
              "</style>\n",
              "<table border=\"1\" class=\"dataframe\">\n",
              "  <thead>\n",
              "    <tr style=\"text-align: right;\">\n",
              "      <th></th>\n",
              "      <th>--unk--</th>\n",
              "      <th>đủ</th>\n",
              "      <th>điều_kiện</th>\n",
              "      <th>ra</th>\n",
              "      <th>trường</th>\n",
              "      <th>thì</th>\n",
              "      <th>em</th>\n",
              "      <th>cần</th>\n",
              "      <th>đạt</th>\n",
              "      <th>bằng</th>\n",
              "      <th>...</th>\n",
              "      <th>sập</th>\n",
              "      <th>\"</th>\n",
              "      <th>mỗi</th>\n",
              "      <th>khi</th>\n",
              "      <th>đăng_kí</th>\n",
              "      <th>học_phần</th>\n",
              "      <th>các</th>\n",
              "      <th>kỳ</th>\n",
              "      <th>.</th>\n",
              "      <th>--n--</th>\n",
              "    </tr>\n",
              "  </thead>\n",
              "  <tbody>\n",
              "    <tr>\n",
              "      <th>0</th>\n",
              "      <td>N</td>\n",
              "      <td>V</td>\n",
              "      <td>N</td>\n",
              "      <td>V</td>\n",
              "      <td>N</td>\n",
              "      <td>C</td>\n",
              "      <td>N</td>\n",
              "      <td>V</td>\n",
              "      <td>V</td>\n",
              "      <td>N</td>\n",
              "      <td>...</td>\n",
              "      <td>V</td>\n",
              "      <td>N</td>\n",
              "      <td>V</td>\n",
              "      <td>N</td>\n",
              "      <td>V</td>\n",
              "      <td>N</td>\n",
              "      <td>D</td>\n",
              "      <td>N</td>\n",
              "      <td>CH</td>\n",
              "      <td>--s--</td>\n",
              "    </tr>\n",
              "  </tbody>\n",
              "</table>\n",
              "<p>1 rows × 1492 columns</p>\n",
              "</div>\n",
              "      <button class=\"colab-df-convert\" onclick=\"convertToInteractive('df-74e037d5-14da-4635-bb8d-60349c247b5a')\"\n",
              "              title=\"Convert this dataframe to an interactive table.\"\n",
              "              style=\"display:none;\">\n",
              "        \n",
              "  <svg xmlns=\"http://www.w3.org/2000/svg\" height=\"24px\"viewBox=\"0 0 24 24\"\n",
              "       width=\"24px\">\n",
              "    <path d=\"M0 0h24v24H0V0z\" fill=\"none\"/>\n",
              "    <path d=\"M18.56 5.44l.94 2.06.94-2.06 2.06-.94-2.06-.94-.94-2.06-.94 2.06-2.06.94zm-11 1L8.5 8.5l.94-2.06 2.06-.94-2.06-.94L8.5 2.5l-.94 2.06-2.06.94zm10 10l.94 2.06.94-2.06 2.06-.94-2.06-.94-.94-2.06-.94 2.06-2.06.94z\"/><path d=\"M17.41 7.96l-1.37-1.37c-.4-.4-.92-.59-1.43-.59-.52 0-1.04.2-1.43.59L10.3 9.45l-7.72 7.72c-.78.78-.78 2.05 0 2.83L4 21.41c.39.39.9.59 1.41.59.51 0 1.02-.2 1.41-.59l7.78-7.78 2.81-2.81c.8-.78.8-2.07 0-2.86zM5.41 20L4 18.59l7.72-7.72 1.47 1.35L5.41 20z\"/>\n",
              "  </svg>\n",
              "      </button>\n",
              "      \n",
              "  <style>\n",
              "    .colab-df-container {\n",
              "      display:flex;\n",
              "      flex-wrap:wrap;\n",
              "      gap: 12px;\n",
              "    }\n",
              "\n",
              "    .colab-df-convert {\n",
              "      background-color: #E8F0FE;\n",
              "      border: none;\n",
              "      border-radius: 50%;\n",
              "      cursor: pointer;\n",
              "      display: none;\n",
              "      fill: #1967D2;\n",
              "      height: 32px;\n",
              "      padding: 0 0 0 0;\n",
              "      width: 32px;\n",
              "    }\n",
              "\n",
              "    .colab-df-convert:hover {\n",
              "      background-color: #E2EBFA;\n",
              "      box-shadow: 0px 1px 2px rgba(60, 64, 67, 0.3), 0px 1px 3px 1px rgba(60, 64, 67, 0.15);\n",
              "      fill: #174EA6;\n",
              "    }\n",
              "\n",
              "    [theme=dark] .colab-df-convert {\n",
              "      background-color: #3B4455;\n",
              "      fill: #D2E3FC;\n",
              "    }\n",
              "\n",
              "    [theme=dark] .colab-df-convert:hover {\n",
              "      background-color: #434B5C;\n",
              "      box-shadow: 0px 1px 3px 1px rgba(0, 0, 0, 0.15);\n",
              "      filter: drop-shadow(0px 1px 2px rgba(0, 0, 0, 0.3));\n",
              "      fill: #FFFFFF;\n",
              "    }\n",
              "  </style>\n",
              "\n",
              "      <script>\n",
              "        const buttonEl =\n",
              "          document.querySelector('#df-74e037d5-14da-4635-bb8d-60349c247b5a button.colab-df-convert');\n",
              "        buttonEl.style.display =\n",
              "          google.colab.kernel.accessAllowed ? 'block' : 'none';\n",
              "\n",
              "        async function convertToInteractive(key) {\n",
              "          const element = document.querySelector('#df-74e037d5-14da-4635-bb8d-60349c247b5a');\n",
              "          const dataTable =\n",
              "            await google.colab.kernel.invokeFunction('convertToInteractive',\n",
              "                                                     [key], {});\n",
              "          if (!dataTable) return;\n",
              "\n",
              "          const docLinkHtml = 'Like what you see? Visit the ' +\n",
              "            '<a target=\"_blank\" href=https://colab.research.google.com/notebooks/data_table.ipynb>data table notebook</a>'\n",
              "            + ' to learn more about interactive tables.';\n",
              "          element.innerHTML = '';\n",
              "          dataTable['output_type'] = 'display_data';\n",
              "          await google.colab.output.renderOutput(dataTable, element);\n",
              "          const docLink = document.createElement('div');\n",
              "          docLink.innerHTML = docLinkHtml;\n",
              "          element.appendChild(docLink);\n",
              "        }\n",
              "      </script>\n",
              "    </div>\n",
              "  </div>\n",
              "  "
            ]
          },
          "metadata": {},
          "execution_count": 989
        }
      ]
    },
    {
      "cell_type": "markdown",
      "metadata": {
        "id": "db3Z9XhtCh24"
      },
      "source": [
        "# 9. Đánh giả kết quả"
      ]
    },
    {
      "cell_type": "code",
      "execution_count": null,
      "metadata": {
        "id": "6_ba4MjuCg56",
        "colab": {
          "base_uri": "https://localhost:8080/"
        },
        "outputId": "211c25a2-7940-45f3-d8ab-4f8e78b7197b"
      },
      "outputs": [
        {
          "output_type": "stream",
          "name": "stdout",
          "text": [
            "--unk--/N linh_động/V hơn/N tạo/V điều_kiện/N giúp/V các/D sinh_viên/N lỡ/V chậm/N tiến_độ/V sớm/N theo/V kịp/V chương_trình/N đào_tạo/V ./CH \n",
            "--unk--/V nhà_trường/N thiết_kế/V thời_gian/N học/V hợp_lí/N cho/V sinh_viên/N --unk--/X ,/CH cụ_thể/N tăng/V thời_gian/N học/V hè/N lên/V để/C đảm_bảo/V chất_lượng/N dạy/V và/N học/V ./CH \n",
            "Trường/N cố_gắng/V sắp_xếp/N mở/V các/D lớp_học/N lại/R cho/V chương_trình/N chất_lượng/N cao/A ,/CH trường_hợp/C những/D bạn/N rớt/V nhiều/N muốn/V học/V lại/R trong/E --unk--/N hè/V nhưng/C --unk--/N có/V lớp/N mở/V để/C học/V ,/CH phải/V học/V trong/E --unk--/N chính/V ./CH \n",
            "--unk--/N tổ_chức/V học/V các/D học_phần/N bắt_buộc/R theo/V các/D lớp/N cùng/V --unk--/N (/V không/R phải/V đăng_ký/V )/N ,/CH chỉ/R nên/V đăng_ký/V những/D môn/N tự/R chọn/I ,/CH môn/N chuyên_ngành/N ./CH \n",
            "--unk--/N lại/R nhà_vệ_sinh/V của/E khu/N C/R (/V phía/N gần/V phòng/N --unk--/V )/N ,/CH nhà_vệ_sinh/N khối/V nhà/N C/R cũ/I ,/CH xuống_cấp/M ./CH \n",
            "Việc/N giữ/V vệ_sinh/N tại/E các/D phòng/N này/P cần/V sự/N hỗ_trợ/M và/Cc ý_thức/V của/E sinh_viên/N trong/E suốt/N thời_gian/N sử_dụng/V phòng/N ./CH \n",
            "--unk--/N ,/CH các/D phòng/N học/V không/R được/V vệ_sinh/N sạch_sẽ/A ,/CH --unk--/X thì/C quá/R bụi/V .../N ,/CH nhiều/C phòng/N học/V rất/V dơ/N ./CH \n",
            "--unk--/N rất/R nóng/I ,/CH những/D phòng/N học/V ở/E dãy/N nhà/V C/N cần/V thêm/V ánh_sáng/V tự_nhiên/N ./CH \n",
            "--unk--/N nam/V (/N gần/V --unk--/N )/V ở/E toà/N nhà/V C/N có_thể/R lắp/V thêm/V gương/N soi/V để/C sinh_viên/N có_thể/R chỉnh_trang/V lại/R quần_áo/I ,/CH tóc_tai/C sau/N khi/N đi/V vệ_sinh/N ?/CH \n"
          ]
        }
      ],
      "source": [
        "for word, tag in zip(test_words, test_pred):\n",
        "    if word == '--n--': print()\n",
        "    else: print(f'{word}/{tag}', end=' ')"
      ]
    },
    {
      "cell_type": "code",
      "execution_count": null,
      "metadata": {
        "id": "upzoSAfvCrz9"
      },
      "outputs": [],
      "source": [
        "from sklearn.metrics import classification_report\n",
        "def report(pred, gold):\n",
        "    y_pred = []\n",
        "    y_true = []\n",
        "\n",
        "    for prediction, word_tag in zip(pred, gold):\n",
        "        word_tag_tuple = word_tag.split()\n",
        "        if len(word_tag_tuple) != 2: continue \n",
        "\n",
        "        word, tag = word_tag_tuple\n",
        "        y_pred.append(prediction)\n",
        "        y_true.append(tag)\n",
        "        \n",
        "    print(classification_report(y_pred, y_true))\n",
        "    return y_pred, y_true"
      ]
    },
    {
      "cell_type": "code",
      "execution_count": null,
      "metadata": {
        "id": "2hVXLzLdCtlo",
        "colab": {
          "base_uri": "https://localhost:8080/"
        },
        "outputId": "a24a493f-e6f6-4711-cc98-e496f78d97dc"
      },
      "outputs": [
        {
          "output_type": "stream",
          "name": "stdout",
          "text": [
            "Kết quả của mô hình Hidden Markov kết hợp thuật toán Viterbi trên tập train:\n",
            "\n",
            "              precision    recall  f1-score   support\n",
            "\n",
            "           A       0.37      1.00      0.54        19\n",
            "           C       0.80      0.87      0.84        94\n",
            "          CH       0.89      0.98      0.93        95\n",
            "          Cc       0.76      1.00      0.86        16\n",
            "           D       0.90      1.00      0.95        36\n",
            "           E       0.68      0.93      0.79        58\n",
            "           I       1.00      0.92      0.96        26\n",
            "           M       0.42      1.00      0.59        11\n",
            "           N       0.95      0.79      0.87       470\n",
            "          Nc       0.00      0.00      0.00         0\n",
            "          Ni       0.00      0.00      0.00         0\n",
            "          Np       0.00      0.00      0.00         0\n",
            "          Nu       0.00      0.00      0.00         0\n",
            "           O       0.00      0.00      0.00         0\n",
            "           P       0.62      1.00      0.76        29\n",
            "           R       0.83      0.87      0.85       123\n",
            "           V       0.95      0.74      0.83       441\n",
            "           X       0.29      0.87      0.44        23\n",
            "           Z       0.00      0.00      0.00         0\n",
            "\n",
            "    accuracy                           0.83      1441\n",
            "   macro avg       0.50      0.63      0.54      1441\n",
            "weighted avg       0.89      0.83      0.84      1441\n",
            "\n"
          ]
        }
      ],
      "source": [
        "print('Kết quả của mô hình Hidden Markov kết hợp thuật toán Viterbi trên tập train:\\n')\n",
        "y_pred, y_true_train = report(train_pred, train_gold)"
      ]
    },
    {
      "cell_type": "code",
      "execution_count": null,
      "metadata": {
        "id": "sICB7jOgCvdk",
        "colab": {
          "base_uri": "https://localhost:8080/"
        },
        "outputId": "1240b259-ba2a-42e7-b46c-1ec94799edb4"
      },
      "outputs": [
        {
          "output_type": "stream",
          "name": "stdout",
          "text": [
            "Kết quả của mô hình Hidden Markov kết hợp thuật toán Viterbi trên tập test:\n",
            "\n",
            "              precision    recall  f1-score   support\n",
            "\n",
            "           A       0.10      1.00      0.18         2\n",
            "           C       0.67      0.25      0.36         8\n",
            "          CH       0.75      1.00      0.86        21\n",
            "          Cc       0.50      1.00      0.67         1\n",
            "           D       1.00      1.00      1.00         9\n",
            "           E       0.62      1.00      0.76         8\n",
            "           I       0.00      0.00      0.00         4\n",
            "           M       0.00      0.00      0.00         2\n",
            "           N       0.75      0.65      0.70        71\n",
            "          Ni       0.00      0.00      0.00         0\n",
            "           P       0.50      1.00      0.67         1\n",
            "           R       0.92      0.73      0.81        15\n",
            "           V       0.81      0.63      0.71        68\n",
            "           X       0.20      0.50      0.29         2\n",
            "\n",
            "    accuracy                           0.68       212\n",
            "   macro avg       0.49      0.63      0.50       212\n",
            "weighted avg       0.75      0.68      0.70       212\n",
            "\n"
          ]
        }
      ],
      "source": [
        "print('Kết quả của mô hình Hidden Markov kết hợp thuật toán Viterbi trên tập test:\\n')\n",
        "y_pred, y_true_test = report(test_pred, test_gold)"
      ]
    },
    {
      "cell_type": "code",
      "execution_count": null,
      "metadata": {
        "id": "PSonAfv2UcW6"
      },
      "outputs": [],
      "source": [
        "# y_true_test\n"
      ]
    },
    {
      "cell_type": "code",
      "execution_count": null,
      "metadata": {
        "id": "sctQjHtpDCEL",
        "colab": {
          "base_uri": "https://localhost:8080/"
        },
        "outputId": "6063a4c2-32ab-4f35-8d93-9968fb3d342f"
      },
      "outputs": [
        {
          "output_type": "stream",
          "name": "stdout",
          "text": [
            "ĐTĐH/Np linh_động/V hơn/A tạo/V điều_kiện/N giúp/V các/L sinh_viên/N lỡ/V chậm/A tiến_độ/N sớm/A theo/V kịp/A chương_trình/N đào_tạo/V ./CH \n",
            "Đề_nghị/V nhà_trường/N thiết_kế/V thời_gian/N học/V hợp_lí/A cho/E sinh_viên/N CTTT/Np ,/CH cụ_thể/A tăng/V thời_gian/N học/V hè/N lên/V để/E đảm_bảo/V chất_lượng/N dạy/V và/Cc học/V ./CH \n",
            "Trường/Np cố_gắng/V sắp_xếp/V mở/V các/L lớp_học/N lại/R cho/E chương_trình/N chất_lượng/N cao/A ,/CH trường_hợp/N những/L bạn/N rớt/V nhiều/A muốn/V học/V lại/R trong/E HK/Np hè/N nhưng/C ko/V có/V lớp/N mở/V để/E học/V ,/CH phải/V học/V trong/E HK/Np chính/T ./CH \n",
            "Nên/V tổ_chức/V học/V các/L học_phần/N bắt_buộc/V theo/V các/L lớp/N cùng/A Khoa/Np (/CH không/R phải/V đăng_ký/V )/CH ,/CH chỉ/R nên/C đăng_ký/V những/L môn/N tự/P chọn/V ,/CH môn/N chuyên_ngành/N ./CH \n",
            "Cải_thiện/V lại/R nhà_vệ_sinh/N của/E khu/N C/Ni (/CH phía/N gần/A phòng/N C113/M )/CH ,/CH nhà_vệ_sinh/N khối/N nhà/N C/Ni cũ/A ,/CH xuống_cấp/V ./CH \n",
            "Việc/N giữ/V vệ_sinh/V tại/E các/L phòng/N này/P cần/V sự/N hỗ_trợ/V và/Cc ý_thức/N của/E sinh_viên/N trong/E suốt/A thời_gian/N sử_dụng/V phòng/N ./CH \n",
            "Giảng_đường/Np ,/CH các/L phòng/N học/V không/R được/V vệ_sinh/V sạch_sẽ/A ,/CH bàn_ghế/N thì/C quá/R bụi/N .../CH ,/CH nhiều/A phòng/N học/V rất/R dơ/A ./CH \n",
            "Giảng_đường/Np rất/R nóng/A ,/CH những/L phòng/N học/V ở/E dãy/N nhà/N C/Ni cần/V thêm/V ánh_sáng/N tự_nhiên/A ./CH \n",
            "Nhà_vệ_sinh/Np nam/N (/CH gần/A căn_tin/N )/CH ở/E toà/N nhà/N C/Ni có_thể/R lắp/V thêm/V gương/N soi/V để/E sinh_viên/N có_thể/R chỉnh_trang/V lại/R quần_áo/N ,/CH tóc_tai/V sau/N khi/N đi/V vệ_sinh/V ?/CH \n"
          ]
        }
      ],
      "source": [
        "y_pred = []\n",
        "for word_tag in test_gold:\n",
        "    word_tag_tuple = word_tag.split()\n",
        "    if len(word_tag_tuple) != 2: \n",
        "        print()\n",
        "        continue\n",
        "\n",
        "    word, tag = word_tag_tuple\n",
        "    if '_' not in word: pred = vncore_postag(word)\n",
        "    else: pred = vncore_postag(word.replace('_', ' '))\n",
        "\n",
        "    print(f'{word}/{pred}', end=' ') \n",
        "    y_pred.append(pred)"
      ]
    },
    {
      "cell_type": "code",
      "execution_count": null,
      "metadata": {
        "id": "18LxnhjVDoGX",
        "colab": {
          "base_uri": "https://localhost:8080/"
        },
        "outputId": "fff1bdfb-482d-4c88-d8a6-a425e289fbdf"
      },
      "outputs": [
        {
          "output_type": "stream",
          "name": "stdout",
          "text": [
            "Kết quả khi sử dụng thư viện VnCoreNLP trên tập test:\n",
            "\n",
            "              precision    recall  f1-score   support\n",
            "\n",
            "           A       0.90      1.00      0.95        18\n",
            "           C       1.00      1.00      1.00         3\n",
            "          CH       1.00      1.00      1.00        28\n",
            "          Cc       1.00      1.00      1.00         2\n",
            "           D       0.00      0.00      0.00         0\n",
            "           E       1.00      1.00      1.00        13\n",
            "           L       0.00      0.00      0.00         9\n",
            "           M       0.00      0.00      0.00         1\n",
            "           N       0.87      1.00      0.93        53\n",
            "          Ni       1.00      1.00      1.00         4\n",
            "          Np       0.00      0.00      0.00         9\n",
            "           P       1.00      1.00      1.00         2\n",
            "           R       1.00      1.00      1.00        12\n",
            "           T       0.00      0.00      0.00         1\n",
            "           V       1.00      0.93      0.96        57\n",
            "           X       0.00      0.00      0.00         0\n",
            "\n",
            "    accuracy                           0.89       212\n",
            "   macro avg       0.61      0.62      0.62       212\n",
            "weighted avg       0.86      0.89      0.87       212\n",
            "\n"
          ]
        }
      ],
      "source": [
        "print('Kết quả khi sử dụng thư viện VnCoreNLP trên tập test:\\n')\n",
        "print(classification_report(y_pred, y_true_test))"
      ]
    },
    {
      "cell_type": "code",
      "source": [
        "from underthesea import pos_tag\n",
        "y_pred = []\n",
        "for word_tag in test_gold:\n",
        "    word_tag_tuple = word_tag.split()\n",
        "    if len(word_tag_tuple) != 2: \n",
        "        print()\n",
        "        continue\n",
        "\n",
        "    word, tag = word_tag_tuple\n",
        "    if '_' not in word: pred = pos_tag(word)[0][1]\n",
        "    else: pred = pos_tag(word.replace('_', ' '))[0][1]\n",
        "    print(f'{word}/{pred}', end=' ') \n",
        "    y_pred.append(pred)"
      ],
      "metadata": {
        "colab": {
          "base_uri": "https://localhost:8080/"
        },
        "id": "0tQjaJRHfIo-",
        "outputId": "afeb10ae-54cf-4cc9-ca07-dde5ea940f4a"
      },
      "execution_count": null,
      "outputs": [
        {
          "output_type": "stream",
          "name": "stdout",
          "text": [
            "ĐTĐH/Np linh_động/M hơn/A tạo/V điều_kiện/N giúp/V các/L sinh_viên/N lỡ/M chậm/A tiến_độ/N sớm/A theo/V kịp/A chương_trình/N đào_tạo/V ./CH \n",
            "Đề_nghị/V nhà_trường/N thiết_kế/V thời_gian/N học/V hợp_lí/M cho/E sinh_viên/N CTTT/Np ,/CH cụ_thể/A tăng/V thời_gian/N học/V hè/N lên/V để/E đảm_bảo/V chất_lượng/N dạy/V và/C học/V ./CH \n",
            "Trường/N cố_gắng/V sắp_xếp/M mở/V các/L lớp_học/N lại/R cho/E chương_trình/N chất_lượng/N cao/A ,/CH trường_hợp/N những/L bạn/N rớt/V nhiều/A muốn/V học/V lại/R trong/E HK/Np hè/N nhưng/C ko/M có/V lớp/N mở/V để/E học/V ,/CH phải/V học/V trong/E HK/Np chính/T ./CH \n",
            "Nên/C tổ_chức/V học/V các/L học_phần/M bắt_buộc/V theo/V các/L lớp/N cùng/A Khoa/Np (/CH không/R phải/V đăng_ký/V )/CH ,/CH chỉ/R nên/C đăng_ký/V những/L môn/N tự/P chọn/V ,/CH môn/N chuyên_ngành/A ./CH \n",
            "Cải_thiện/M lại/R nhà_vệ_sinh/N của/E khu/N C/M (/CH phía/N gần/A phòng/N C113/Np )/CH ,/CH nhà_vệ_sinh/N khối/M nhà/N C/M cũ/A ,/CH xuống_cấp/V ./CH \n",
            "Việc/N giữ/V vệ_sinh/M tại/E các/L phòng/N này/P cần/V sự/N hỗ_trợ/V và/C ý_thức/M của/E sinh_viên/N trong/E suốt/A thời_gian/N sử_dụng/V phòng/N ./CH \n",
            "Giảng_đường/M ,/CH các/L phòng/N học/V không/R được/R vệ_sinh/M sạch_sẽ/M ,/CH bàn_ghế/M thì/C quá/R bụi/N .../CH ,/CH nhiều/A phòng/N học/V rất/R dơ/M ./CH \n",
            "Giảng_đường/M rất/R nóng/A ,/CH những/L phòng/N học/V ở/E dãy/M nhà/N C/M cần/V thêm/V ánh_sáng/N tự_nhiên/A ./CH \n",
            "Nhà_vệ_sinh/M nam/N (/CH gần/A căn_tin/Nc )/CH ở/E toà/M nhà/N C/M có_thể/R lắp/V thêm/V gương/M soi/M để/E sinh_viên/N có_thể/R chỉnh_trang/M lại/R quần_áo/N ,/CH tóc_tai/N sau/N khi/N đi/V vệ_sinh/M ?/CH \n"
          ]
        }
      ]
    },
    {
      "cell_type": "code",
      "source": [
        "print('Kết quả khi sử dụng thư viện Underthesea trên tập test:\\n')\n",
        "print(classification_report(y_pred, y_true_test))"
      ],
      "metadata": {
        "colab": {
          "base_uri": "https://localhost:8080/"
        },
        "id": "MU0xAtVfg-b1",
        "outputId": "72ca30b0-ac07-44b9-a296-1df213bf83ce"
      },
      "execution_count": null,
      "outputs": [
        {
          "output_type": "stream",
          "name": "stdout",
          "text": [
            "Kết quả khi sử dụng thư viện Underthesea trên tập test:\n",
            "\n",
            "              precision    recall  f1-score   support\n",
            "\n",
            "           A       0.75      0.94      0.83        16\n",
            "           C       1.00      0.50      0.67         6\n",
            "          CH       1.00      1.00      1.00        28\n",
            "          Cc       0.00      0.00      0.00         0\n",
            "           D       0.00      0.00      0.00         0\n",
            "           E       1.00      1.00      1.00        13\n",
            "           L       0.00      0.00      0.00         9\n",
            "           M       0.00      0.00      0.00        27\n",
            "           N       0.75      1.00      0.86        46\n",
            "          Nc       0.00      0.00      0.00         1\n",
            "          Ni       0.00      0.00      0.00         0\n",
            "          Np       0.00      0.00      0.00         6\n",
            "           P       1.00      1.00      1.00         2\n",
            "           R       1.00      0.92      0.96        13\n",
            "           T       0.00      0.00      0.00         1\n",
            "           V       0.81      0.98      0.89        44\n",
            "           X       0.00      0.00      0.00         0\n",
            "\n",
            "    accuracy                           0.76       212\n",
            "   macro avg       0.43      0.43      0.42       212\n",
            "weighted avg       0.68      0.76      0.71       212\n",
            "\n"
          ]
        }
      ]
    }
  ]
}